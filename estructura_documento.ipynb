{
  "nbformat": 4,
  "nbformat_minor": 0,
  "metadata": {
    "colab": {
      "provenance": [],
      "collapsed_sections": [
        "kPaeQKmry7jX"
      ],
      "authorship_tag": "ABX9TyPLV/vVCWz7AbmEtbJwJn1v",
      "include_colab_link": true
    },
    "kernelspec": {
      "name": "python3",
      "display_name": "Python 3"
    },
    "language_info": {
      "name": "python"
    }
  },
  "cells": [
    {
      "cell_type": "markdown",
      "metadata": {
        "id": "view-in-github",
        "colab_type": "text"
      },
      "source": [
        "<a href=\"https://colab.research.google.com/github/daniel-nuno/time_series_O2024_MAF3074N/blob/main/estructura_documento.ipynb\" target=\"_parent\"><img src=\"https://colab.research.google.com/assets/colab-badge.svg\" alt=\"Open In Colab\"/></a>"
      ]
    },
    {
      "cell_type": "markdown",
      "source": [
        "Para hacer tu trabajo más presentable, necesita tener estructura que facilite a el lector (y tú mismo del futuro) entender lo que estás haciendo.\n",
        "\n",
        "En un solo notebook, dale forma a tu trabajo. Necesita tener lo siguiente:\n",
        "\n",
        "- Portada\n",
        "  - Titulo\n",
        "  - Nombre\n",
        "  - Fecha\n",
        "- Índice\n",
        "- Introducción, objetivo y definición del problema\n",
        "- Preparación de datos\n",
        "  - Importa\n",
        "  - Eliminar lo no necesario\n",
        "  - Formato correcto (pandas series, fecha, valores numéricos)\n",
        "  - Datos de entrenamiento y prueba\n",
        "- Análisis Exploratorio\n",
        "  - Visualizaciones\n",
        "  - Descomposición\n",
        "  - Características y estadísticas\n",
        "- Estimación a criterio\n",
        "- Transformaciones y ajustes 1\n",
        "- Especificación del modelo 1\n",
        "  - Estimación\n",
        "  - Evaluación (residuales y error)\n",
        "\n",
        "- Transformaciones y ajustes N\n",
        "- Especificación del modelo N\n",
        "  - Estimación\n",
        "  - Evaluación\n",
        "- Comparar modelos\n",
        "- Pronósticos\n",
        "- Conclusión\n",
        "- Referencias\n",
        "\n",
        "\n",
        "---\n",
        "\n",
        "Descirbe lo que estás haciendo, por que lo estas haciendo y analiza tus resultados y relevantes a tu serie de tiempo.\n",
        "\n",
        "Gráficas con títulos y ejes.\n",
        "\n",
        "Comenta tú código cuando sea necesario.\n",
        "\n",
        "Utiliza un correcto formato de markdown y latex para imágenes, links, ecuaciones, títulos, subtítulos, negritas e itálicas, citaciones, código.\n",
        " - https://daringfireball.net/projects/markdown/\n",
        " - https://paperhive.org/help/markdown\n",
        " - https://en.wikibooks.org/wiki/LaTeX/Mathematics\n",
        " - https://gitlab.com/jim.hefferon/undergradmath/-/blob/master/undergradmath.pdf?ref_type=heads\n",
        "\n",
        "Cuida la ortografía.\n",
        "\n",
        "Usa referencias bibliograficas.\n",
        "\n"
      ],
      "metadata": {
        "id": "y2PvcC7Eqp3V"
      }
    },
    {
      "cell_type": "markdown",
      "source": [
        "<br>\n",
        "<br>\n",
        "\n",
        "![iteso](https://upload.wikimedia.org/wikipedia/en/5/5f/Western_Institute_of_Technology_and_Higher_Education_logo.png)\n",
        "\n",
        "<br>\n",
        "<br>\n",
        "Clase: Series de tiempo\n",
        "<br>\n",
        "\n",
        "# Análisis de remesas entre 1993 a 2023 como serie de tiempo #\n",
        "\n",
        "<br>\n",
        "<br>\n",
        "\n",
        "* * *\n",
        "\n",
        "Docente: Daniel Nuño <br>\n",
        "Fecha: 4 de septiembre 2024 <br>\n",
        "\n",
        "* * *\n",
        "\n",
        "<br>\n",
        "<br>"
      ],
      "metadata": {
        "id": "DQggNaw4x1kd"
      }
    },
    {
      "cell_type": "markdown",
      "source": [
        "## Índice\n",
        "\n",
        "- Introducción, objetivo y definición del problema\n",
        "- Preparación de datos\n",
        "  - Importar\n",
        "  - Formato correcto (pandas series, fecha, valores numéricos)\n",
        "  - Datos de entrenamiento y prueba\n",
        "- Análisis Exploratorio\n",
        "  - Visualizaciones\n",
        "  - Características y estadísticas\n",
        "  - Descomposición\n",
        "- Modelo Seasonal Naive\n",
        "  - Estimación\n",
        "  - Evaluación"
      ],
      "metadata": {
        "id": "DDy-dfhmyIFY"
      }
    },
    {
      "cell_type": "markdown",
      "source": [
        "## Introducción, objetivo y definición del problema\n",
        "\n",
        "## Descripción del las remesas\n",
        "\n",
        "Es el envío de dinero de aquellas personas que radican en otra nación a su país de origen. Por ejemplo, los envíos de dinero que realizan los mexicanos que radican en Estados Unidos y Canadá a sus familias que viven en México.\n",
        "\n",
        "Con el surgimiento de nuevas herramientas tecnológicas es más sencillo realizar esta transacción y el número de usuarios que la hacen se ha incrementado en los últimos años.\n",
        "\n",
        "También existen las remesas enviadas por personas que se dedican a los negocios y tienen que pagar sueldos a los empleados contratados en el exterior, por ejemplo. Otra transferencia muy común es para estudiantes que no pueden trabajar y necesitan mantenerse en otro país mientras estudian.\n",
        "\n",
        "Las remesas son la segunda fuente de divisas más importante de México después de los ingresos por petróleo. Representan cerca de 3% del PIB, 50% de las exportaciones petroleras, 135% de la inversión extranjera directa y 189% de los ingresos de viajeros internacionales.\n",
        "\n",
        "Los ingresos por remesas provenientes del exterior ascendieron a 4,760 millones de dólares en diciembre de 2021, lo que implicó un aumento anual de 30.4%.\n",
        "\n",
        "Por su parte, las remesas enviadas por residentes en México al exterior mostraron un crecimiento anual de 1.8%, al alcanzar un nivel de 114 millones de dólares.\n",
        "\n",
        "Con estos resultados, el superávit de la cuenta de remesas de México con el resto del mundo fue de 4,646 millones de dólares, mayor al de 3,538 millones de dólares que se presentó en diciembre de 2020.\n",
        "\n",
        "Con series desestacionalizadas, en el último mes de 2021 los ingresos y egresos por remesas exhibieron retrocesos mensuales de 1.9 y 2.3%, en igual orden. Así, en diciembre de 2021 el superávit de la cuenta de remesas se situó en 4,600 millones de dólares, que se compara con el de 4,687 millones de dólares que se observó en noviembre de 2021.\n",
        "\n",
        "Para la totalidad de 2021, el valor de los ingresos por remesas fue de 51,594 millones de dólares, monto superior al de 40,605 millones de dólares reportado en 2020 y que significó una expansión anual de 27.1%.\n",
        "\n",
        "Durante 2021, el 98.9% del total de los ingresos por remesas se realizó a través de transferencias electrónicas, al ubicarse en 51,045 millones de dólares. Por su parte, las remesas efectuadas en efectivo y especie2 y las money orders representaron el 0.7 y 0.4% del monto total, respectivamente, al registrar niveles de 333 y 216 millones de dólares, en el mismo orden.\n",
        "\n",
        "Los egresos por remesas sumaron 1,057 millones de dólares en 2021, cifra mayor a la de 899 millones de dólares observada en 2020 y que implicó un incremento anual de 17.6%.\n",
        "\n",
        "Con estos resultados, el saldo superavitario de la cuenta de remesas en 2021 fue de 50,537 millones de dólares, cifra superior a la de 39,706 millones de dólares reportada en 2020 y que representó un avance anual de 27.3%.\n",
        "\n",
        "### Define que pronosticar\n",
        "\n",
        "Se analizara el ingreso total de remesas, como se muestra en la captura siguiente.\n",
        "\n",
        "### Por que es importante analizar y pronosticar en el contexto social\n",
        "\n",
        "El flujo de remesas internacionales tiene un efecto importante sobre la actividad económica en algunas entidades que se localizan en las regiones centrales y el sur del país. Esto condujo a que el incremento observado en las remesas haya inducido en 2016 un mayor crecimiento económico en estas regiones.\n",
        "\n",
        "En efecto, como resultado de los patrones de gasto de los hogares, dichas entidades tienden a ser más propensas a concentrar el impacto de las remesas en las actividades comerciales y los servicios. Adicionalmente, los flujos de remesas contribuyen a suavizar el ingreso de los hogares ante choques sobre la actividad económica, en particular en el sector agropecuario.\n",
        "\n",
        "**Las remesas son la segunda fuente de divisas más importante de México. En los últimos años las remesas han alcanzado máximos históricos, además, han obtenido mayor atención por las recientes investigaciones que señalan cómo cárteles del narco lavan dinero vía remesas.**"
      ],
      "metadata": {
        "id": "tubkSynlyftw"
      }
    },
    {
      "cell_type": "markdown",
      "source": [
        "## Datos\n",
        "\n",
        "Banco de México registra las remesas como parte de la balanza de pagos y tiene registro mensual desde 1995.\n",
        "\n",
        "Los datos de Banxico pueden ser descargados en el siguiente [enlace](https://www.banxico.org.mx/SieInternet/consultarDirectorioInternetAction.do?accion=consultarCuadro&idCuadro=CE81&locale=esc)\n",
        "\n",
        "### Importar"
      ],
      "metadata": {
        "id": "kPaeQKmry7jX"
      }
    },
    {
      "cell_type": "code",
      "source": [
        "from google.colab import drive\n",
        "drive.mount('/content/drive')"
      ],
      "metadata": {
        "id": "g_OPql1PyHks"
      },
      "execution_count": null,
      "outputs": []
    },
    {
      "cell_type": "code",
      "execution_count": null,
      "metadata": {
        "id": "-LJk586OqMh0"
      },
      "outputs": [],
      "source": [
        "import pandas as pd\n",
        "import numpy as np\n",
        "import matplotlib.pyplot as plt\n",
        "import seaborn as sns\n",
        "import datetime as dt"
      ]
    },
    {
      "cell_type": "code",
      "source": [
        "data = pd.read_excel(\"/content/drive/MyDrive/series_tiempo/Assets/remesas banxico.xlsx\")\n"
      ],
      "metadata": {
        "id": "15vdZDs10EBb"
      },
      "execution_count": null,
      "outputs": []
    },
    {
      "cell_type": "markdown",
      "source": [
        "### Formato Correcto"
      ],
      "metadata": {
        "id": "Wblh171q0Kbv"
      }
    },
    {
      "cell_type": "code",
      "source": [
        "data.index = pd.to_datetime(data['Fecha'])\n",
        "del data['Fecha']\n",
        "data = pd.Series(data = data.Value, index=data.index)"
      ],
      "metadata": {
        "id": "RdY2oNdQ0KvP"
      },
      "execution_count": null,
      "outputs": []
    },
    {
      "cell_type": "code",
      "source": [
        "type(data)"
      ],
      "metadata": {
        "id": "06oDdaF60jy9"
      },
      "execution_count": null,
      "outputs": []
    },
    {
      "cell_type": "code",
      "source": [
        "data.index"
      ],
      "metadata": {
        "id": "iw_z_s3p0ppQ"
      },
      "execution_count": null,
      "outputs": []
    },
    {
      "cell_type": "code",
      "source": [
        "data.head()"
      ],
      "metadata": {
        "id": "OyOEDIHM0kOS"
      },
      "execution_count": null,
      "outputs": []
    },
    {
      "cell_type": "markdown",
      "source": [
        "### Entrenamiento y prueba\n",
        "\n",
        "Dependiendo de la cantidad de datos y la periodicidad podrías definir diferente cantidad de observaciones. La regla de pulgar es usar 80% de los datos para entrenar y el restante 20% para validar los resultados.\n",
        "\n",
        "Para esta serie de tiempo 6 meses de validación son suficientes."
      ],
      "metadata": {
        "id": "ZRn2B4E50Q_s"
      }
    },
    {
      "cell_type": "code",
      "source": [],
      "metadata": {
        "id": "LoG80RQp0UFa"
      },
      "execution_count": null,
      "outputs": []
    },
    {
      "cell_type": "markdown",
      "source": [
        "## Análisis Exploratorio\n",
        "\n",
        "### Visualizaciones"
      ],
      "metadata": {
        "id": "nK7u_ly90UgW"
      }
    },
    {
      "cell_type": "code",
      "source": [
        "sns.lineplot(data = data)\n",
        "plt.ylabel(\"Remesas\")\n",
        "plt.xlabel(\"Fecha\")\n",
        "plt.title(\"Remesas Banxico 1995 - 2023\")"
      ],
      "metadata": {
        "id": "w9QWt3gn0hIz"
      },
      "execution_count": null,
      "outputs": []
    },
    {
      "cell_type": "markdown",
      "source": [
        "### Descomposición"
      ],
      "metadata": {
        "id": "0uOm13sD0hd3"
      }
    },
    {
      "cell_type": "code",
      "source": [],
      "metadata": {
        "id": "XjxJYOVH1ftd"
      },
      "execution_count": null,
      "outputs": []
    },
    {
      "cell_type": "markdown",
      "source": [
        "### Características y estadísticas"
      ],
      "metadata": {
        "id": "Rd1SzI9s1gBx"
      }
    },
    {
      "cell_type": "code",
      "source": [],
      "metadata": {
        "id": "87wqTbJ21jRz"
      },
      "execution_count": null,
      "outputs": []
    },
    {
      "cell_type": "markdown",
      "source": [
        "## Estimación a criterio\n",
        "\n",
        "En esta sección buscaras referencias de terceros que hayan pronósticado o pronostiquen activamente la serie de tiempo que estas estudiando o una similar.\n",
        "\n",
        "El primer motivo es formar un criterio de como otras personas, organismos o empresas realizan esta actividad.\n",
        "\n",
        "El segundo motivo es tener un comparativo y recabar los pronosticos de otros expertos.\n",
        "\n",
        "https://www.bbvaresearch.com/wp-content/uploads/2024/07/Remesas_segundacaida2024_DiadelasMadres.pdf\n",
        "\n",
        "> El Banco Mundial pronostica que para 2024, las remesas a América Latina y el Caribe tendrán un\n",
        "incremento de 2.7%, el cual es un desempeño inferior a lo que se estima para la economía global, que es de\n",
        "3.0%. Para 2025, las remesas a América Latina y el Caribe ralentizarán su crecimiento a 1.6% anual, menos de la\n",
        "mitad de lo pronosticado a nivel mundial de 3.4%. México es el principal receptor de remesas en América Latina y\n",
        "el Caribe, y muy probablemente, como también prevemos en las estimaciones de BBVA Research, desacelerará\n",
        "su crecimiento en la recepción de estos recursos entre 2024 y 2025.\n"
      ],
      "metadata": {
        "id": "PSfHsSMJ4LaR"
      }
    },
    {
      "cell_type": "markdown",
      "source": [
        "## Modelo Seasonal Naive + Drift\n",
        "\n",
        "Con lo visto con anterioridad en el análisis exploratorio, es posible que el modelo Seasonal Naive sea un lo suficientemente bueno para la serie de tiempo analizada.\n",
        "\n",
        "El modelo toma el valor estacional indediatamente anterior cómo el siguiente valor.\n",
        "\n",
        "\\begin{gather*}\n",
        "\\hat{y}_{T+h|T}=y_{T+h-m(k+1)}\n",
        "\\end{gather*}\n",
        "\n",
        "La razón es que es una serie con un componente altamente estacional. También muestra una tendencia, por lo tanto es recomendabe usar un modelo que tóme en consideración la\n",
        "\n",
        "\n",
        "### Estimación"
      ],
      "metadata": {
        "id": "H4Gya1-01juA"
      }
    },
    {
      "cell_type": "code",
      "source": [],
      "metadata": {
        "id": "8MZtxxb42P4f"
      },
      "execution_count": null,
      "outputs": []
    },
    {
      "cell_type": "markdown",
      "source": [
        "### Evaluación"
      ],
      "metadata": {
        "id": "6RMFHaxD2QOJ"
      }
    },
    {
      "cell_type": "markdown",
      "source": [
        "## Bibliografía\n",
        "\n"
      ],
      "metadata": {
        "id": "BFMKsEVd6p21"
      }
    }
  ]
}