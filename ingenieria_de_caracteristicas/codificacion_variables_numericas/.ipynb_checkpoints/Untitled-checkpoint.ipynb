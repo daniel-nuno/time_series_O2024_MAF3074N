{
 "cells": [
  {
   "cell_type": "markdown",
   "id": "4d136122",
   "metadata": {},
   "source": [
    "<br>\n",
    "<br>\n",
    "\n",
    "![iteso](https://upload.wikimedia.org/wikipedia/en/5/5f/Western_Institute_of_Technology_and_Higher_Education_logo.png)\n",
    "\n",
    "###  InstitutoTecnológico y de Estudios Superiores de Occidente ###\n",
    "###  Maestría Ciencia de Datos  ###\n",
    "###  Ingeniería de Características ###\n",
    "###  Función inversa para la transformación Yeo-Johnson  ###\n",
    "\n",
    "<br>\n",
    "<br>\n",
    "\n",
    "* * *\n",
    "\n",
    "Estudiante: Daniel Nuño <br>\n",
    "Profesor: Carlos Augusto Arellano Muro <br>\n",
    "Fecha entrega: 21 de marzo, 2022 <br>\n",
    "\n",
    "* * *\n",
    "\n",
    "<br>\n",
    "<br>"
   ]
  },
  {
   "cell_type": "raw",
   "id": "0f16f6bd",
   "metadata": {},
   "source": [
    "<div style=\"page-break-after: always;\"></div>"
   ]
  },
  {
   "cell_type": "code",
   "execution_count": null,
   "id": "cc5fd9e8",
   "metadata": {},
   "outputs": [],
   "source": [
    "def inv_yeojohnson(y, lmbd):\n",
    "    from math import exp\n",
    "    x = []\n",
    "    y_list = y\n",
    "    for y in y_list:\n",
    "        if y >= 0:\n",
    "            if lmbd != 0:\n",
    "                x.append( (lmbd*y + 1)**(1/lmbd) - 1 )\n",
    "            else:\n",
    "                x.append( exp(y) - 1 )\n",
    "        else:\n",
    "            if lmbd != 2:\n",
    "                x.append( -( (-y * (2 - lmbd) + 1)**(1 / (2 - lmbd)) - 1 ) )\n",
    "            else:\n",
    "                x.append( -(exp(-y) - 1) )\n",
    "    return x"
   ]
  }
 ],
 "metadata": {
  "kernelspec": {
   "display_name": "Python 3 (ipykernel)",
   "language": "python",
   "name": "python3"
  },
  "language_info": {
   "codemirror_mode": {
    "name": "ipython",
    "version": 3
   },
   "file_extension": ".py",
   "mimetype": "text/x-python",
   "name": "python",
   "nbconvert_exporter": "python",
   "pygments_lexer": "ipython3",
   "version": "3.8.8"
  }
 },
 "nbformat": 4,
 "nbformat_minor": 5
}
