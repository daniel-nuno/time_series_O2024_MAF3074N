{
 "cells": [
  {
   "cell_type": "markdown",
   "id": "0aec2618",
   "metadata": {},
   "source": [
    "<br>\n",
    "<br>\n",
    "\n",
    "![iteso](https://upload.wikimedia.org/wikipedia/en/5/5f/Western_Institute_of_Technology_and_Higher_Education_logo.png)\n",
    "\n",
    "##  InstitutoTecnológico y de Estudios Superiores de Occidente ###\n",
    "##  Maestría Ciencia de Datos  ###\n",
    "##  Ingeniería de Características ###\n",
    "##  Tarea 7 Escalamiento  ###\n",
    "\n",
    "<br>\n",
    "<br>\n",
    "\n",
    "* * *\n",
    "\n",
    "Estudiante: Daniel Nuño <br>\n",
    "Profesor: Dr. Carlos Augusto Arellano Muro <br>\n",
    "Fecha entrega: 24 de abril, 2022 <br>\n",
    "\n",
    "* * *\n",
    "\n",
    "<br>\n",
    "<br>"
   ]
  },
  {
   "cell_type": "markdown",
   "id": "99f1f5b5",
   "metadata": {},
   "source": [
    "# Tarea - escalamiento\n",
    "En el archivo `Escalamiento.xlsx` se encuentran dos variables, las cuales se pretenden analizar para una posterior predicción.\n",
    "\n",
    "Se entrenará una red neuronal con la variable $x_1$ usando una función de activación sigmoidal unipolar, y la variable $x_2$ se usará para entrenar una red neuronal con una función de activación de tangente hiperbólica.\n",
    "\n",
    "Use el escalamiento adecuado para cada variable con la finalidad de que la red neuronal opere en el rango de cada función de activación.\n",
    "\n",
    "Debido a la naturaleza de los datos (por experiencia), se consideran datos extraordinariamente atípicos aquellos que se alejan 13 veces la desviación estándar de la media aritmética."
   ]
  },
  {
   "cell_type": "code",
   "execution_count": 60,
   "id": "edd20f73",
   "metadata": {},
   "outputs": [
    {
     "data": {
      "text/html": [
       "<div>\n",
       "<style scoped>\n",
       "    .dataframe tbody tr th:only-of-type {\n",
       "        vertical-align: middle;\n",
       "    }\n",
       "\n",
       "    .dataframe tbody tr th {\n",
       "        vertical-align: top;\n",
       "    }\n",
       "\n",
       "    .dataframe thead th {\n",
       "        text-align: right;\n",
       "    }\n",
       "</style>\n",
       "<table border=\"1\" class=\"dataframe\">\n",
       "  <thead>\n",
       "    <tr style=\"text-align: right;\">\n",
       "      <th></th>\n",
       "      <th>x1</th>\n",
       "      <th>x2</th>\n",
       "    </tr>\n",
       "  </thead>\n",
       "  <tbody>\n",
       "    <tr>\n",
       "      <th>0</th>\n",
       "      <td>6050000.0</td>\n",
       "      <td>5390000.0</td>\n",
       "    </tr>\n",
       "    <tr>\n",
       "      <th>1</th>\n",
       "      <td>4720000.0</td>\n",
       "      <td>700000.0</td>\n",
       "    </tr>\n",
       "    <tr>\n",
       "      <th>2</th>\n",
       "      <td>4460000.0</td>\n",
       "      <td>10140000.0</td>\n",
       "    </tr>\n",
       "    <tr>\n",
       "      <th>3</th>\n",
       "      <td>34740000.0</td>\n",
       "      <td>6600000.0</td>\n",
       "    </tr>\n",
       "    <tr>\n",
       "      <th>4</th>\n",
       "      <td>1910000.0</td>\n",
       "      <td>3390000.0</td>\n",
       "    </tr>\n",
       "  </tbody>\n",
       "</table>\n",
       "</div>"
      ],
      "text/plain": [
       "           x1          x2\n",
       "0   6050000.0   5390000.0\n",
       "1   4720000.0    700000.0\n",
       "2   4460000.0  10140000.0\n",
       "3  34740000.0   6600000.0\n",
       "4   1910000.0   3390000.0"
      ]
     },
     "execution_count": 60,
     "metadata": {},
     "output_type": "execute_result"
    }
   ],
   "source": [
    "import pandas as pd\n",
    "from sklearn.preprocessing import StandardScaler, RobustScaler, MinMaxScaler\n",
    "data = pd.read_excel('Escalamiento.xlsx')\n",
    "data.head()"
   ]
  },
  {
   "cell_type": "code",
   "execution_count": 47,
   "id": "b49333e3",
   "metadata": {},
   "outputs": [
    {
     "data": {
      "text/html": [
       "<div>\n",
       "<style scoped>\n",
       "    .dataframe tbody tr th:only-of-type {\n",
       "        vertical-align: middle;\n",
       "    }\n",
       "\n",
       "    .dataframe tbody tr th {\n",
       "        vertical-align: top;\n",
       "    }\n",
       "\n",
       "    .dataframe thead th {\n",
       "        text-align: right;\n",
       "    }\n",
       "</style>\n",
       "<table border=\"1\" class=\"dataframe\">\n",
       "  <thead>\n",
       "    <tr style=\"text-align: right;\">\n",
       "      <th></th>\n",
       "      <th>x1</th>\n",
       "      <th>x2</th>\n",
       "    </tr>\n",
       "  </thead>\n",
       "  <tbody>\n",
       "    <tr>\n",
       "      <th>count</th>\n",
       "      <td>3.287000e+03</td>\n",
       "      <td>3.287000e+03</td>\n",
       "    </tr>\n",
       "    <tr>\n",
       "      <th>mean</th>\n",
       "      <td>3.215457e+07</td>\n",
       "      <td>1.457638e+07</td>\n",
       "    </tr>\n",
       "    <tr>\n",
       "      <th>std</th>\n",
       "      <td>3.948668e+07</td>\n",
       "      <td>2.910075e+07</td>\n",
       "    </tr>\n",
       "    <tr>\n",
       "      <th>min</th>\n",
       "      <td>3.000000e+04</td>\n",
       "      <td>1.040135e+04</td>\n",
       "    </tr>\n",
       "    <tr>\n",
       "      <th>25%</th>\n",
       "      <td>6.170000e+06</td>\n",
       "      <td>3.915000e+06</td>\n",
       "    </tr>\n",
       "    <tr>\n",
       "      <th>50%</th>\n",
       "      <td>1.612000e+07</td>\n",
       "      <td>7.950000e+06</td>\n",
       "    </tr>\n",
       "    <tr>\n",
       "      <th>75%</th>\n",
       "      <td>4.411500e+07</td>\n",
       "      <td>1.552500e+07</td>\n",
       "    </tr>\n",
       "    <tr>\n",
       "      <th>max</th>\n",
       "      <td>2.999200e+08</td>\n",
       "      <td>5.490700e+08</td>\n",
       "    </tr>\n",
       "  </tbody>\n",
       "</table>\n",
       "</div>"
      ],
      "text/plain": [
       "                 x1            x2\n",
       "count  3.287000e+03  3.287000e+03\n",
       "mean   3.215457e+07  1.457638e+07\n",
       "std    3.948668e+07  2.910075e+07\n",
       "min    3.000000e+04  1.040135e+04\n",
       "25%    6.170000e+06  3.915000e+06\n",
       "50%    1.612000e+07  7.950000e+06\n",
       "75%    4.411500e+07  1.552500e+07\n",
       "max    2.999200e+08  5.490700e+08"
      ]
     },
     "execution_count": 47,
     "metadata": {},
     "output_type": "execute_result"
    },
    {
     "data": {
      "image/png": "[encoded data removed]",
      "text/plain": [
       "<Figure size 432x288 with 2 Axes>"
      ]
     },
     "metadata": {
      "needs_background": "light"
     },
     "output_type": "display_data"
    }
   ],
   "source": [
    "data.hist()\n",
    "data.describe()"
   ]
  },
  {
   "cell_type": "code",
   "execution_count": 48,
   "id": "348db855",
   "metadata": {},
   "outputs": [
    {
     "name": "stdout",
     "output_type": "stream",
     "text": [
      "-481172302.2122417 545481450.3716576\n",
      "0\n"
     ]
    }
   ],
   "source": [
    "#variable x1, funcion de activacion sigmoidal unipolar [-1, 1]\n",
    "#normalización basada en la media\n",
    "X = data.x1\n",
    "print(X.mean() - 13*X.std(), X.mean() + 13*X.std())\n",
    "print(sum(X > X.mean() + 13*X.std()))"
   ]
  },
  {
   "cell_type": "markdown",
   "id": "3e9aae1e",
   "metadata": {},
   "source": [
    "No hay atípicos"
   ]
  },
  {
   "cell_type": "code",
   "execution_count": 49,
   "id": "0b50cadc",
   "metadata": {},
   "outputs": [
    {
     "name": "stdout",
     "output_type": "stream",
     "text": [
      "count    3.287000e+03\n",
      "mean     1.793515e-17\n",
      "std      1.316706e-01\n",
      "min     -1.071212e-01\n",
      "25%     -8.664702e-02\n",
      "50%     -5.346819e-02\n",
      "75%      3.988271e-02\n",
      "max      8.928788e-01\n",
      "Name: x1, dtype: float64\n",
      "0.8928788086308048 -0.10712119136919517\n"
     ]
    }
   ],
   "source": [
    "Ym1 = (X - X.mean()) / (X.max() - X.min())\n",
    "print(Ym1.describe())\n",
    "print(Ym1.max(), Ym1.min())"
   ]
  },
  {
   "cell_type": "code",
   "execution_count": 55,
   "id": "679ba9a0",
   "metadata": {},
   "outputs": [
    {
     "data": {
      "text/plain": [
       "count    3287.000000\n",
       "mean        0.107121\n",
       "std         0.131671\n",
       "min         0.000000\n",
       "25%         0.020474\n",
       "50%         0.053653\n",
       "75%         0.147004\n",
       "max         1.000000\n",
       "Name: x1, dtype: float64"
      ]
     },
     "execution_count": 55,
     "metadata": {},
     "output_type": "execute_result"
    }
   ],
   "source": [
    "#desplazar a 0 y 1\n",
    "Ym1 = Ym1 - Ym1.min()\n",
    "Ym1.describe()"
   ]
  },
  {
   "cell_type": "code",
   "execution_count": 50,
   "id": "d92f14f7",
   "metadata": {},
   "outputs": [],
   "source": [
    "Xd = X.values.reshape(-1,1)\n",
    "ss = StandardScaler(with_mean=True,with_std=False) # Unicamente desplazamos\n",
    "rs = RobustScaler(with_centering=False,with_scaling=True,quantile_range=(0,100)) # Unicamente escalamos usando un rango entre 0 y 100\n",
    "ss.fit(Xd)\n",
    "rs.fit(Xd)\n",
    "\n",
    "# Primero hacemos el desplazamiento\n",
    "Xd = ss.transform(Xd) # Regresa un arreglo de numpy\n",
    "# Despues hacemos el escalamiento\n",
    "Ym1_skl = rs.transform(Xd)"
   ]
  },
  {
   "cell_type": "code",
   "execution_count": 52,
   "id": "51c3798b",
   "metadata": {},
   "outputs": [
    {
     "data": {
      "text/plain": [
       "count    3.287000e+03\n",
       "mean     1.793515e-17\n",
       "std      1.316706e-01\n",
       "min     -1.071212e-01\n",
       "25%     -8.664702e-02\n",
       "50%     -5.346819e-02\n",
       "75%      3.988271e-02\n",
       "max      8.928788e-01\n",
       "dtype: float64"
      ]
     },
     "execution_count": 52,
     "metadata": {},
     "output_type": "execute_result"
    }
   ],
   "source": [
    "pd.Series(Ym1_skl.reshape(-1)).describe()"
   ]
  },
  {
   "cell_type": "code",
   "execution_count": 57,
   "id": "6a21389f",
   "metadata": {},
   "outputs": [
    {
     "name": "stdout",
     "output_type": "stream",
     "text": [
      "-363733327.9235341 392886082.0197267\n",
      "5\n"
     ]
    }
   ],
   "source": [
    "#variable x2, funcion de activacion tangente hiperbólica (-1, 1)\n",
    "X = data.x2\n",
    "print(X.mean() - 13*X.std(), X.mean() + 13*X.std())\n",
    "print(sum(X > X.mean() + 13*X.std()))\n",
    "X = X[X < X.mean() + 13*X.std()]"
   ]
  },
  {
   "cell_type": "markdown",
   "id": "0534a119",
   "metadata": {},
   "source": [
    "Como tiene atípicos entonces elimino los datos mayores a 13 desviaciones estandar."
   ]
  },
  {
   "cell_type": "code",
   "execution_count": 58,
   "id": "019d7531",
   "metadata": {},
   "outputs": [
    {
     "data": {
      "text/plain": [
       "count    3282.000000\n",
       "mean       -0.911177\n",
       "std         0.136061\n",
       "min        -1.000000\n",
       "25%        -0.974871\n",
       "50%        -0.948918\n",
       "75%        -0.900702\n",
       "max         1.000000\n",
       "Name: x2, dtype: float64"
      ]
     },
     "execution_count": 58,
     "metadata": {},
     "output_type": "execute_result"
    }
   ],
   "source": [
    "minimo=-1\n",
    "maximo=1\n",
    "Ym2 = (X - X.min()) / (X.max() - X.min()) * (maximo - minimo) + minimo\n",
    "Ym2.describe()"
   ]
  },
  {
   "cell_type": "code",
   "execution_count": 64,
   "id": "c377fd99",
   "metadata": {},
   "outputs": [
    {
     "data": {
      "text/plain": [
       "(array([1.]), array([-1.]))"
      ]
     },
     "execution_count": 64,
     "metadata": {},
     "output_type": "execute_result"
    }
   ],
   "source": [
    "mM = MinMaxScaler(feature_range=(-1,1)) # Escalamiento entre -1 y 1\n",
    "Ym2_skl = mM.fit_transform(X.values.reshape(-1,1))\n",
    "Ym2_skl.max(axis=0),Ym2_skl.min(axis=0)"
   ]
  },
  {
   "cell_type": "code",
   "execution_count": 68,
   "id": "dea75ef4",
   "metadata": {},
   "outputs": [
    {
     "data": {
      "text/plain": [
       "count    3282.000000\n",
       "mean       -0.911177\n",
       "std         0.136061\n",
       "min        -1.000000\n",
       "25%        -0.974871\n",
       "50%        -0.948918\n",
       "75%        -0.900702\n",
       "max         1.000000\n",
       "dtype: float64"
      ]
     },
     "execution_count": 68,
     "metadata": {},
     "output_type": "execute_result"
    }
   ],
   "source": [
    "pd.Series(Ym2_skl.reshape(-1)).describe()"
   ]
  },
  {
   "cell_type": "code",
   "execution_count": null,
   "id": "3652166a",
   "metadata": {},
   "outputs": [],
   "source": []
  }
 ],
 "metadata": {
  "kernelspec": {
   "display_name": "Python 3",
   "language": "python",
   "name": "python3"
  },
  "language_info": {
   "codemirror_mode": {
    "name": "ipython",
    "version": 3
   },
   "file_extension": ".py",
   "mimetype": "text/x-python",
   "name": "python",
   "nbconvert_exporter": "python",
   "pygments_lexer": "ipython3",
   "version": "3.8.13"
  }
 },
 "nbformat": 4,
 "nbformat_minor": 5
}
