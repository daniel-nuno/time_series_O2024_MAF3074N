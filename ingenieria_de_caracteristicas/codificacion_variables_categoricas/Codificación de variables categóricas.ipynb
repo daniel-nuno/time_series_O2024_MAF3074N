{
 "cells": [
  {
   "cell_type": "markdown",
   "metadata": {},
   "source": [
    "### Variables categoricas ordinales"
   ]
  },
  {
   "cell_type": "code",
   "execution_count": 63,
   "metadata": {},
   "outputs": [],
   "source": [
    "import pandas as pd\n",
    "import numpy as np\n",
    "data = pd.read_csv('data_4_2.csv')"
   ]
  },
  {
   "cell_type": "code",
   "execution_count": 64,
   "metadata": {},
   "outputs": [
    {
     "data": {
      "text/html": [
       "<div>\n",
       "<style scoped>\n",
       "    .dataframe tbody tr th:only-of-type {\n",
       "        vertical-align: middle;\n",
       "    }\n",
       "\n",
       "    .dataframe tbody tr th {\n",
       "        vertical-align: top;\n",
       "    }\n",
       "\n",
       "    .dataframe thead th {\n",
       "        text-align: right;\n",
       "    }\n",
       "</style>\n",
       "<table border=\"1\" class=\"dataframe\">\n",
       "  <thead>\n",
       "    <tr style=\"text-align: right;\">\n",
       "      <th></th>\n",
       "      <th>Escolaridad</th>\n",
       "      <th>No. de hijos</th>\n",
       "    </tr>\n",
       "  </thead>\n",
       "  <tbody>\n",
       "    <tr>\n",
       "      <th>0</th>\n",
       "      <td>Primaria trunca</td>\n",
       "      <td>9</td>\n",
       "    </tr>\n",
       "    <tr>\n",
       "      <th>1</th>\n",
       "      <td>Secundaria</td>\n",
       "      <td>3</td>\n",
       "    </tr>\n",
       "    <tr>\n",
       "      <th>2</th>\n",
       "      <td>Preparatoria</td>\n",
       "      <td>2</td>\n",
       "    </tr>\n",
       "    <tr>\n",
       "      <th>3</th>\n",
       "      <td>Sin escolaridad</td>\n",
       "      <td>3</td>\n",
       "    </tr>\n",
       "    <tr>\n",
       "      <th>4</th>\n",
       "      <td>Primaria</td>\n",
       "      <td>2</td>\n",
       "    </tr>\n",
       "  </tbody>\n",
       "</table>\n",
       "</div>"
      ],
      "text/plain": [
       "       Escolaridad  No. de hijos\n",
       "0  Primaria trunca             9\n",
       "1       Secundaria             3\n",
       "2     Preparatoria             2\n",
       "3  Sin escolaridad             3\n",
       "4         Primaria             2"
      ]
     },
     "execution_count": 64,
     "metadata": {},
     "output_type": "execute_result"
    }
   ],
   "source": [
    "data.head()"
   ]
  },
  {
   "cell_type": "markdown",
   "metadata": {},
   "source": [
    "1. Sustituya los datos de la variable categórica por los coeficientes de un polinomio lineal cuya suma sea cero."
   ]
  },
  {
   "cell_type": "code",
   "execution_count": 65,
   "metadata": {},
   "outputs": [
    {
     "name": "stdout",
     "output_type": "stream",
     "text": [
      "['Primaria trunca' 'Secundaria' 'Preparatoria' 'Sin escolaridad'\n",
      " 'Primaria']\n",
      "['Sin escolaridad', 'Primaria trunca', 'Primaria', 'Secundaria', 'Preparatoria']\n",
      "-2\n",
      "-1\n",
      "0\n",
      "1\n",
      "2\n",
      "{'Sin escolaridad': -0.6324555320336759, 'Primaria trunca': -0.31622776601683794, 'Primaria': 0.0, 'Secundaria': 0.31622776601683794, 'Preparatoria': 0.6324555320336759}\n",
      "1.1102230246251565e-16\n"
     ]
    },
    {
     "data": {
      "text/html": [
       "<div>\n",
       "<style scoped>\n",
       "    .dataframe tbody tr th:only-of-type {\n",
       "        vertical-align: middle;\n",
       "    }\n",
       "\n",
       "    .dataframe tbody tr th {\n",
       "        vertical-align: top;\n",
       "    }\n",
       "\n",
       "    .dataframe thead th {\n",
       "        text-align: right;\n",
       "    }\n",
       "</style>\n",
       "<table border=\"1\" class=\"dataframe\">\n",
       "  <thead>\n",
       "    <tr style=\"text-align: right;\">\n",
       "      <th></th>\n",
       "      <th>Escolaridad</th>\n",
       "      <th>No. de hijos</th>\n",
       "      <th>Pronóstico_Lin</th>\n",
       "    </tr>\n",
       "  </thead>\n",
       "  <tbody>\n",
       "    <tr>\n",
       "      <th>0</th>\n",
       "      <td>Primaria trunca</td>\n",
       "      <td>9</td>\n",
       "      <td>-0.316228</td>\n",
       "    </tr>\n",
       "    <tr>\n",
       "      <th>1</th>\n",
       "      <td>Secundaria</td>\n",
       "      <td>3</td>\n",
       "      <td>0.316228</td>\n",
       "    </tr>\n",
       "    <tr>\n",
       "      <th>2</th>\n",
       "      <td>Preparatoria</td>\n",
       "      <td>2</td>\n",
       "      <td>0.632456</td>\n",
       "    </tr>\n",
       "    <tr>\n",
       "      <th>3</th>\n",
       "      <td>Sin escolaridad</td>\n",
       "      <td>3</td>\n",
       "      <td>-0.632456</td>\n",
       "    </tr>\n",
       "    <tr>\n",
       "      <th>4</th>\n",
       "      <td>Primaria</td>\n",
       "      <td>2</td>\n",
       "      <td>0.000000</td>\n",
       "    </tr>\n",
       "  </tbody>\n",
       "</table>\n",
       "</div>"
      ],
      "text/plain": [
       "       Escolaridad  No. de hijos  Pronóstico_Lin\n",
       "0  Primaria trunca             9       -0.316228\n",
       "1       Secundaria             3        0.316228\n",
       "2     Preparatoria             2        0.632456\n",
       "3  Sin escolaridad             3       -0.632456\n",
       "4         Primaria             2        0.000000"
      ]
     },
     "execution_count": 65,
     "metadata": {},
     "output_type": "execute_result"
    }
   ],
   "source": [
    "#categorías\n",
    "categorias = data.Escolaridad.unique()\n",
    "print(categorias)\n",
    "categorias_ordenadas = [categorias[3], categorias[0], categorias[-1], categorias[1], categorias[2]]\n",
    "print(categorias_ordenadas)\n",
    "n = len(categorias)\n",
    "\n",
    "# Definimos la variable independiente 'x'\n",
    "bg=n-1 if n%2==0 else (n-1)//2\n",
    "st=2 if n%2==0 else 1\n",
    "x=range(-bg,bg+1,st)\n",
    "for i in x:\n",
    "  print(i)\n",
    "\n",
    "m=1/np.sqrt(sum(np.power(x, 2)))\n",
    "p1={c:m*i for c,i in zip(categorias_ordenadas,x)}\n",
    "print(p1)\n",
    "\n",
    "suma=0\n",
    "for v in p1.values():\n",
    "  suma += v\n",
    "print(suma)\n",
    "\n",
    "data['Pronóstico_Lin'] = data['Escolaridad'].map(p1)\n",
    "data.head()"
   ]
  },
  {
   "cell_type": "markdown",
   "metadata": {},
   "source": [
    "2. Muestre en un gráfico la escolaridad contra el número de hijos usando la función *scatter* de *matplotlib.pyplot*."
   ]
  },
  {
   "cell_type": "code",
   "execution_count": 66,
   "metadata": {},
   "outputs": [
    {
     "data": {
      "text/plain": [
       "<matplotlib.collections.PathCollection at 0x21167d71d60>"
      ]
     },
     "execution_count": 66,
     "metadata": {},
     "output_type": "execute_result"
    },
    {
     "data": {
      "image/png": "[encoded data removed]",
      "text/plain": [
       "<Figure size 432x288 with 1 Axes>"
      ]
     },
     "metadata": {
      "needs_background": "light"
     },
     "output_type": "display_data"
    }
   ],
   "source": [
    "import matplotlib.pyplot as plt\n",
    "plt.scatter(data['Pronóstico_Lin'], data['No. de hijos'])\n"
   ]
  },
  {
   "cell_type": "markdown",
   "metadata": {},
   "source": [
    "3. Sustituya ahora la variable categórica por los coeficientes de un polinomio cuadrático cuya suma sea cero."
   ]
  },
  {
   "cell_type": "code",
   "execution_count": 67,
   "metadata": {},
   "outputs": [
    {
     "data": {
      "text/html": [
       "<div>\n",
       "<style scoped>\n",
       "    .dataframe tbody tr th:only-of-type {\n",
       "        vertical-align: middle;\n",
       "    }\n",
       "\n",
       "    .dataframe tbody tr th {\n",
       "        vertical-align: top;\n",
       "    }\n",
       "\n",
       "    .dataframe thead th {\n",
       "        text-align: right;\n",
       "    }\n",
       "</style>\n",
       "<table border=\"1\" class=\"dataframe\">\n",
       "  <thead>\n",
       "    <tr style=\"text-align: right;\">\n",
       "      <th></th>\n",
       "      <th>Escolaridad</th>\n",
       "      <th>No. de hijos</th>\n",
       "      <th>Pronóstico_Lin</th>\n",
       "      <th>Pronóstico_Cua</th>\n",
       "    </tr>\n",
       "  </thead>\n",
       "  <tbody>\n",
       "    <tr>\n",
       "      <th>0</th>\n",
       "      <td>Primaria trunca</td>\n",
       "      <td>9</td>\n",
       "      <td>-0.316228</td>\n",
       "      <td>-0.5</td>\n",
       "    </tr>\n",
       "    <tr>\n",
       "      <th>1</th>\n",
       "      <td>Secundaria</td>\n",
       "      <td>3</td>\n",
       "      <td>0.316228</td>\n",
       "      <td>-0.5</td>\n",
       "    </tr>\n",
       "    <tr>\n",
       "      <th>2</th>\n",
       "      <td>Preparatoria</td>\n",
       "      <td>2</td>\n",
       "      <td>0.632456</td>\n",
       "      <td>1.0</td>\n",
       "    </tr>\n",
       "    <tr>\n",
       "      <th>3</th>\n",
       "      <td>Sin escolaridad</td>\n",
       "      <td>3</td>\n",
       "      <td>-0.632456</td>\n",
       "      <td>1.0</td>\n",
       "    </tr>\n",
       "    <tr>\n",
       "      <th>4</th>\n",
       "      <td>Primaria</td>\n",
       "      <td>2</td>\n",
       "      <td>0.000000</td>\n",
       "      <td>-1.0</td>\n",
       "    </tr>\n",
       "  </tbody>\n",
       "</table>\n",
       "</div>"
      ],
      "text/plain": [
       "       Escolaridad  No. de hijos  Pronóstico_Lin  Pronóstico_Cua\n",
       "0  Primaria trunca             9       -0.316228            -0.5\n",
       "1       Secundaria             3        0.316228            -0.5\n",
       "2     Preparatoria             2        0.632456             1.0\n",
       "3  Sin escolaridad             3       -0.632456             1.0\n",
       "4         Primaria             2        0.000000            -1.0"
      ]
     },
     "execution_count": 67,
     "metadata": {},
     "output_type": "execute_result"
    }
   ],
   "source": [
    "# Codificación cuadrática\n",
    "a0=-1\n",
    "a1=0\n",
    "a2=-n*a0/sum([i**2 for i in x])\n",
    "p2={c:a0+a1*i+a2*i**2 for c,i in zip(categorias_ordenadas,x)}\n",
    "p2\n",
    "\n",
    "suma=0\n",
    "for v in p2.values():\n",
    "  suma+=v\n",
    "suma\n",
    "\n",
    "data['Pronóstico_Cua'] = data['Escolaridad'].map(p2)\n",
    "data.head()"
   ]
  },
  {
   "cell_type": "markdown",
   "metadata": {},
   "source": [
    "4. Obtenga una relación lineal usando la clase *LinearRegression* del paquete *sklearn.linear_model*, para la $X=\\{Escolaridad\\_1, Escolaridad\\_2\\}$ y $Y=No.de\\_hijos$.\n",
    "\n",
    "Donde $Escolaridad\\_1$ es la codificación con coeficientes de grado uno y $Escolaridad\\_2$ es la codificación con los coeficientes de grado dos."
   ]
  },
  {
   "cell_type": "code",
   "execution_count": 68,
   "metadata": {},
   "outputs": [
    {
     "name": "stdout",
     "output_type": "stream",
     "text": [
      "[-1.64545267  0.15970697] 3.0265188826656924\n"
     ]
    }
   ],
   "source": [
    "from sklearn.linear_model import LinearRegression\n",
    "X = data[['Pronóstico_Lin','Pronóstico_Cua']]\n",
    "y = data['No. de hijos']\n",
    "reg = LinearRegression().fit(X, y)\n",
    "print(reg.coef_, reg.intercept_)\n",
    "y_pred = reg.predict(X)"
   ]
  },
  {
   "cell_type": "markdown",
   "metadata": {},
   "source": [
    "5. Realice dos gráficas (con `scatter`) de la relación obtenida proyectando la predicción en cada codificación de la variable Escolaridad."
   ]
  },
  {
   "cell_type": "code",
   "execution_count": 69,
   "metadata": {},
   "outputs": [
    {
     "data": {
      "image/png": "[encoded data removed]",
      "text/plain": [
       "<Figure size 432x288 with 1 Axes>"
      ]
     },
     "metadata": {
      "needs_background": "light"
     },
     "output_type": "display_data"
    }
   ],
   "source": [
    "plt.scatter(X['Pronóstico_Lin'],y)\n",
    "plt.scatter(X['Pronóstico_Lin'],y_pred,c='r')\n",
    "plt.grid()"
   ]
  },
  {
   "cell_type": "code",
   "execution_count": 70,
   "metadata": {},
   "outputs": [
    {
     "data": {
      "image/png": "[encoded data removed]",
      "text/plain": [
       "<Figure size 432x288 with 1 Axes>"
      ]
     },
     "metadata": {
      "needs_background": "light"
     },
     "output_type": "display_data"
    }
   ],
   "source": [
    "plt.scatter(X['Pronóstico_Cua'],y)\n",
    "plt.scatter(X['Pronóstico_Cua'],y_pred,c='r')\n",
    "plt.grid()"
   ]
  }
 ],
 "metadata": {
  "kernelspec": {
   "display_name": "Python 3 (ipykernel)",
   "language": "python",
   "name": "python3"
  },
  "language_info": {
   "codemirror_mode": {
    "name": "ipython",
    "version": 3
   },
   "file_extension": ".py",
   "mimetype": "text/x-python",
   "name": "python",
   "nbconvert_exporter": "python",
   "pygments_lexer": "ipython3",
   "version": "3.8.8"
  }
 },
 "nbformat": 4,
 "nbformat_minor": 2
}
