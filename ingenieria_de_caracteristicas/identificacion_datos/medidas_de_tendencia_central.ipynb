{
 "cells": [
  {
   "cell_type": "markdown",
   "id": "0e925c31-795f-4724-8a66-04947f2cf1ec",
   "metadata": {},
   "source": [
    "<br>\n",
    "<br>\n",
    "\n",
    "![iteso](https://upload.wikimedia.org/wikipedia/en/5/5f/Western_Institute_of_Technology_and_Higher_Education_logo.png)\n",
    "\n",
    "###  InstitutoTecnológico y de Estudios Superiores de Occidente ###\n",
    "###  Maestría Ciencia de Datos  ###\n",
    "###  Ingeniería de Características ###\n",
    "###  Medidas de tendencia central  ###\n",
    "\n",
    "<br>\n",
    "<br>\n",
    "\n",
    "* * *\n",
    "\n",
    "Estudiante: Daniel Nuño <br>\n",
    "Profesor: Carlos Augusto Arellano Muro <br>\n",
    "Fecha entrega: 3 de febrero, 2022 <br>\n",
    "\n",
    "* * *\n",
    "\n",
    "<br>\n",
    "<br>"
   ]
  },
  {
   "cell_type": "raw",
   "id": "1bc7b50e-597c-4474-9e47-ef28f108d60a",
   "metadata": {},
   "source": [
    "<div style=\"page-break-after: always;\"></div>"
   ]
  },
  {
   "cell_type": "markdown",
   "id": "7f286a91-8dd6-4cd3-853f-179b352a3d2e",
   "metadata": {},
   "source": [
    "- Adquirir al menos 30 variables numéricas desde una o varias bases de datos (La recomendación es adquirir datos de sklearn.datasets, la base de datos puede ser load_wine, load_iris, load_boston, etc.).\n",
    "- Calcular la media aritmética , la media geométrica y la media armónica\n",
    "- Describir cuál de estas medias es mayor y cuál es menor. ¿La media mayor (o menor) es la misma para todas la variables?\n",
    "\n",
    "Se desea obtener para el caso general $ \\mu_{h} < \\mu_{g} < \\mu $"
   ]
  },
  {
   "cell_type": "code",
   "execution_count": 1,
   "id": "93786703-4daa-4532-a09b-4b46dac3bf5e",
   "metadata": {},
   "outputs": [],
   "source": [
    "from sklearn.datasets import load_wine\n",
    "import pandas as pd\n",
    "import numpy as np\n",
    "import matplotlib.pyplot as plt\n",
    "from scipy import stats\n",
    "\n",
    "LW=load_wine()\n",
    "data=LW.data\n",
    "names=LW.feature_names\n",
    "df=pd.DataFrame(data=data,columns=names)"
   ]
  },
  {
   "cell_type": "code",
   "execution_count": 2,
   "id": "4d9da45d-dc65-45fe-a54a-a4044ac19769",
   "metadata": {},
   "outputs": [],
   "source": [
    "#media aritmética\n",
    "media_aritmetica = df.mean()\n",
    "media_aritmetica = media_aritmetica.to_numpy()"
   ]
  },
  {
   "cell_type": "code",
   "execution_count": 3,
   "id": "01091c23-13e2-4685-94b4-36fd8de91309",
   "metadata": {},
   "outputs": [],
   "source": [
    "#media geométrica\n",
    "media_geometrica = stats.gmean(df, axis=0)"
   ]
  },
  {
   "cell_type": "code",
   "execution_count": 4,
   "id": "9becf4d5-7cd6-40df-8f5f-eba49b31e2d8",
   "metadata": {},
   "outputs": [],
   "source": [
    "#media armónica\n",
    "media_armonica = stats.hmean(df)"
   ]
  },
  {
   "cell_type": "code",
   "execution_count": 5,
   "id": "15469f67-5d3d-4145-88a7-5aa35a311ec3",
   "metadata": {},
   "outputs": [
    {
     "data": {
      "text/plain": [
       "array([ True,  True,  True,  True,  True,  True,  True,  True,  True,\n",
       "        True,  True,  True,  True])"
      ]
     },
     "execution_count": 5,
     "metadata": {},
     "output_type": "execute_result"
    }
   ],
   "source": [
    "(media_armonica <= media_geometrica) & (media_geometrica <= media_aritmetica)"
   ]
  },
  {
   "cell_type": "markdown",
   "id": "28cb0547-1ce9-473f-9b79-11798c88eaaa",
   "metadata": {},
   "source": [
    "Se cumple la condición en todas las variables que la media armónica es más grande que la media geométrica y a su vez, la media geométrica es más grande que la media aritmética."
   ]
  }
 ],
 "metadata": {
  "kernelspec": {
   "display_name": "Python 3 (ipykernel)",
   "language": "python",
   "name": "python3"
  },
  "language_info": {
   "codemirror_mode": {
    "name": "ipython",
    "version": 3
   },
   "file_extension": ".py",
   "mimetype": "text/x-python",
   "name": "python",
   "nbconvert_exporter": "python",
   "pygments_lexer": "ipython3",
   "version": "3.8.8"
  }
 },
 "nbformat": 4,
 "nbformat_minor": 5
}
