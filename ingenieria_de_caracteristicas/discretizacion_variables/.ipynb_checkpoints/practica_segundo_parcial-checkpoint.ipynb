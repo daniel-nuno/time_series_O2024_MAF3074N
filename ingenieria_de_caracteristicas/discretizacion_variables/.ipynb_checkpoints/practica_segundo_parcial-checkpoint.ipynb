{
 "cells": [
  {
   "cell_type": "markdown",
   "metadata": {},
   "source": [
    "<br>\n",
    "<br>\n",
    "\n",
    "![iteso](https://upload.wikimedia.org/wikipedia/en/5/5f/Western_Institute_of_Technology_and_Higher_Education_logo.png)\n",
    "\n",
    "##  InstitutoTecnológico y de Estudios Superiores de Occidente ###\n",
    "##  Maestría Ciencia de Datos  ###\n",
    "##  Ingeniería de Características ###\n",
    "##  Práctica 2 Discretización y transformación  ###\n",
    "\n",
    "<br>\n",
    "<br>\n",
    "\n",
    "* * *\n",
    "\n",
    "Estudiante: Daniel Nuño <br>\n",
    "Profesor: Dr. Carlos Augusto Arellano Muro <br>\n",
    "Fecha entrega: 7 de abril, 2022 <br>\n",
    "\n",
    "* * *\n",
    "\n",
    "<br>\n",
    "<br>"
   ]
  },
  {
   "cell_type": "raw",
   "metadata": {},
   "source": [
    "<div style=\"page-break-after: always;\"></div>"
   ]
  },
  {
   "cell_type": "markdown",
   "metadata": {},
   "source": [
    "El  objetivo  de  esta  práctica  es  obtener  un  modelo  del  comportamiento  de  un  sistema  de tanques de almacenamiento.\n",
    "\n",
    "En  esta  práctica  se  comparan  diferentes  métodos  en  el  tratamiento  de  datos  para  obtener mejores resultados en el entrenamiento de un futuro modelo con redes neuronales."
   ]
  },
  {
   "cell_type": "markdown",
   "metadata": {},
   "source": [
    "### Instrucciones:\n",
    "#### Leer  el  archivo  de  Excel  donde  se  muestran  fechas  y  los  niveles  de  4  tanques, mostrar además, el histograma de los datos."
   ]
  },
  {
   "cell_type": "code",
   "execution_count": 49,
   "metadata": {},
   "outputs": [
    {
     "name": "stdout",
     "output_type": "stream",
     "text": [
      "(3287, 5)\n"
     ]
    }
   ],
   "source": [
    "import pandas as pd\n",
    "import matplotlib.pyplot as plt\n",
    "from scipy.stats import boxcox\n",
    "\n",
    "data = pd.read_excel('Datos presas.xlsx')\n",
    "data.head()\n",
    "print(data.shape)"
   ]
  },
  {
   "cell_type": "code",
   "execution_count": 13,
   "metadata": {},
   "outputs": [
    {
     "data": {
      "text/plain": [
       "array([[<AxesSubplot:title={'center':'Nivel 1'}>,\n",
       "        <AxesSubplot:title={'center':'Nivel 2'}>],\n",
       "       [<AxesSubplot:title={'center':'Nivel 3'}>,\n",
       "        <AxesSubplot:title={'center':'Nivel 4'}>]], dtype=object)"
      ]
     },
     "execution_count": 13,
     "metadata": {},
     "output_type": "execute_result"
    },
    {
     "data": {
      "image/png": "[encoded data removed]",
      "text/plain": [
       "<Figure size 432x288 with 4 Axes>"
      ]
     },
     "metadata": {
      "needs_background": "light"
     },
     "output_type": "display_data"
    }
   ],
   "source": [
    "data[['Nivel 1', 'Nivel 2', 'Nivel 3', 'Nivel 4']].hist()"
   ]
  },
  {
   "cell_type": "markdown",
   "metadata": {},
   "source": [
    "De cada cada tanque se puede observar:\n",
    "- nivel 1: distribución sesgada positivamente y bimodal.\n",
    "- nivel 2: distribución sesgada negaticamente y ligeramente de curtosis mesocúrtica.\n",
    "- nivel 3: distribución mayor mente uniforme.\n",
    "- nivel 4: distribución leptocúrtica muy centrada entre el 85 y 86 y sesgada negativamente.\n",
    "\n",
    "#### Transformar  mediante  boxcox  cada  variable  y  comparar  antes  y  después  de  la transformación a través del histograma."
   ]
  },
  {
   "cell_type": "code",
   "execution_count": 89,
   "metadata": {},
   "outputs": [
    {
     "name": "stdout",
     "output_type": "stream",
     "text": [
      "lambdas\n",
      "Nivel 1    0.727039\n",
      "Nivel 2    2.320144\n",
      "Nivel 3    0.797279\n",
      "Nivel 4    3.154639\n",
      "Name: 1, dtype: object\n"
     ]
    },
    {
     "data": {
      "image/png": "[encoded data removed]",
      "text/plain": [
       "<Figure size 432x288 with 4 Axes>"
      ]
     },
     "metadata": {
      "needs_background": "light"
     },
     "output_type": "display_data"
    },
    {
     "data": {
      "image/png": "[encoded data removed]",
      "text/plain": [
       "<Figure size 432x288 with 4 Axes>"
      ]
     },
     "metadata": {
      "needs_background": "light"
     },
     "output_type": "display_data"
    }
   ],
   "source": [
    "data_en_uno = data[['Nivel 1', 'Nivel 2', 'Nivel 3', 'Nivel 4']].apply(lambda x: x - x.min() + 1, axis=0)\n",
    "data_en_uno.hist()\n",
    "\n",
    "box_cox = data_en_uno.apply(lambda x: boxcox(x), axis=0)\n",
    "lmdb = box_cox.iloc[1,:]\n",
    "box_cox = box_cox.iloc[0,:]\n",
    "df_box_cox = pd.DataFrame()\n",
    "df_box_cox['Nivel 1'] = box_cox[0]\n",
    "df_box_cox['Nivel 2'] = box_cox[1]\n",
    "df_box_cox['Nivel 3'] = box_cox[2]\n",
    "df_box_cox['Nivel 4'] = box_cox[3]\n",
    "df_box_cox.hist()\n",
    "print('lambdas')\n",
    "print(lmdb)"
   ]
  },
  {
   "cell_type": "markdown",
   "metadata": {},
   "source": [
    "#### Explique, ¿por qué el conjunto completo de los datos transformados no se asemeja a una distribución normal?\n",
    "Por que box cox es una transformación utilizada para estabilizar la varianza y hacer los datos más semejantes a las normales incluyendo el sesgo. Esencialmente usa lambda exponencialmente y la mejor lambda es cual tenga mejor likelihood en conjunto con todos los datos.\n",
    "\n",
    "En distribuciones como tanque 3 cambia de ser uniforme a ser más normal. Distribuciones como el tanque 4 hacen que valores atipicos empujen con más fuerza la distribución y obtengas algunos valores muy altos. De hecho la distribución 4 de box cox parece un reflejo de la original."
   ]
  },
  {
   "cell_type": "code",
   "execution_count": 29,
   "metadata": {},
   "outputs": [
    {
     "data": {
      "text/plain": [
       "array([19.9 ,  8.8 , 22.91, 15.4 ])"
      ]
     },
     "execution_count": 29,
     "metadata": {},
     "output_type": "execute_result"
    }
   ],
   "source": [
    "data[['Nivel 1', 'Nivel 2', 'Nivel 3', 'Nivel 4']].max(axis=0).values - data[['Nivel 1', 'Nivel 2', 'Nivel 3', 'Nivel 4']].min(axis=0).values + 1"
   ]
  },
  {
   "cell_type": "code",
   "execution_count": 90,
   "metadata": {},
   "outputs": [
    {
     "data": {
      "text/plain": [
       "(0.0, 1766.7340521592307)"
      ]
     },
     "execution_count": 90,
     "metadata": {},
     "output_type": "execute_result"
    }
   ],
   "source": [
    "df_box_cox['Nivel 4'].min(), df_box_cox['Nivel 4'].max()\n"
   ]
  },
  {
   "cell_type": "code",
   "execution_count": 92,
   "metadata": {},
   "outputs": [
    {
     "data": {
      "text/plain": [
       "1766.7357440118192"
      ]
     },
     "execution_count": 92,
     "metadata": {},
     "output_type": "execute_result"
    }
   ],
   "source": [
    "(data_en_uno['Nivel 4'].max()**3.154639 - 1) / 3.154639"
   ]
  },
  {
   "cell_type": "code",
   "execution_count": 95,
   "metadata": {},
   "outputs": [
    {
     "data": {
      "text/plain": [
       "(3.1546386039416694, 1766.7340521592307)"
      ]
     },
     "execution_count": 95,
     "metadata": {},
     "output_type": "execute_result"
    }
   ],
   "source": [
    "b, l = boxcox(data_en_uno['Nivel 4'])\n",
    "l, b.max()"
   ]
  },
  {
   "cell_type": "code",
   "execution_count": 96,
   "metadata": {},
   "outputs": [
    {
     "data": {
      "text/plain": [
       "15.400000000000006"
      ]
     },
     "execution_count": 96,
     "metadata": {},
     "output_type": "execute_result"
    }
   ],
   "source": [
    "data_en_uno['Nivel 4'].max()"
   ]
  },
  {
   "cell_type": "code",
   "execution_count": null,
   "metadata": {},
   "outputs": [],
   "source": []
  }
 ],
 "metadata": {
  "interpreter": {
   "hash": "842683789507e1a95d6eccf98254e283f0c80bd4902b127e61ddc5ffb271f3ff"
  },
  "kernelspec": {
   "display_name": "Python 3 (ipykernel)",
   "language": "python",
   "name": "python3"
  },
  "language_info": {
   "codemirror_mode": {
    "name": "ipython",
    "version": 3
   },
   "file_extension": ".py",
   "mimetype": "text/x-python",
   "name": "python",
   "nbconvert_exporter": "python",
   "pygments_lexer": "ipython3",
   "version": "3.8.13"
  }
 },
 "nbformat": 4,
 "nbformat_minor": 2
}
