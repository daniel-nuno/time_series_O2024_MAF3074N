{
 "cells": [
  {
   "cell_type": "code",
   "execution_count": 2,
   "metadata": {
    "executionInfo": {
     "elapsed": 257,
     "status": "ok",
     "timestamp": 1614844482088,
     "user": {
      "displayName": "Carlos Arellano",
      "photoUrl": "https://lh3.googleusercontent.com/a-/AOh14GiBH8fGUTBmi6h7rbiSwe2noqDE_qJ7QT79JTtMRA=s64",
      "userId": "03055712073717640513"
     },
     "user_tz": 360
    },
    "id": "-_pi5cta0qbs"
   },
   "outputs": [],
   "source": [
    "import numpy as np\n",
    "import matplotlib.pyplot as plt\n",
    "import pandas as pd"
   ]
  },
  {
   "cell_type": "markdown",
   "metadata": {
    "id": "bgJdKur7PvWW"
   },
   "source": [
    "* Leer la base de datos `edades.csv`"
   ]
  },
  {
   "cell_type": "code",
   "execution_count": 16,
   "metadata": {
    "id": "q00d1MWkQPqr"
   },
   "outputs": [
    {
     "data": {
      "image/png": "[encoded data removed]",
      "text/plain": [
       "<Figure size 432x288 with 1 Axes>"
      ]
     },
     "metadata": {
      "needs_background": "light"
     },
     "output_type": "display_data"
    }
   ],
   "source": [
    "edades = pd.read_csv('edades.csv')\n",
    "H=edades['edades'].hist(bins=10)"
   ]
  },
  {
   "cell_type": "code",
   "execution_count": 19,
   "metadata": {},
   "outputs": [
    {
     "data": {
      "text/plain": [
       "array([  0. ,  10.1,  20.2,  30.3,  40.4,  50.5,  60.6,  70.7,  80.8,\n",
       "        90.9, 101. ])"
      ]
     },
     "execution_count": 19,
     "metadata": {},
     "output_type": "execute_result"
    }
   ],
   "source": [
    "count, div = np.histogram(edades, bins = 10)"
   ]
  },
  {
   "cell_type": "markdown",
   "metadata": {
    "id": "YTthPvzaQQec"
   },
   "source": [
    "* Discretizar los datos en 10 intervalos iguales. ¿Cuántas personas forman parte de cada intervalo? ¿Cuál es este intervalo?"
   ]
  },
  {
   "cell_type": "code",
   "execution_count": 28,
   "metadata": {},
   "outputs": [
    {
     "name": "stdout",
     "output_type": "stream",
     "text": [
      "El intervalo es de 10.1\n",
      "En la siguiente tabla muestra cuantas personas forman parte de cada intervalo\n"
     ]
    },
    {
     "data": {
      "text/html": [
       "<div>\n",
       "<style scoped>\n",
       "    .dataframe tbody tr th:only-of-type {\n",
       "        vertical-align: middle;\n",
       "    }\n",
       "\n",
       "    .dataframe tbody tr th {\n",
       "        vertical-align: top;\n",
       "    }\n",
       "\n",
       "    .dataframe thead th {\n",
       "        text-align: right;\n",
       "    }\n",
       "</style>\n",
       "<table border=\"1\" class=\"dataframe\">\n",
       "  <thead>\n",
       "    <tr style=\"text-align: right;\">\n",
       "      <th></th>\n",
       "      <th>edades</th>\n",
       "    </tr>\n",
       "    <tr>\n",
       "      <th>edades'</th>\n",
       "      <th></th>\n",
       "    </tr>\n",
       "  </thead>\n",
       "  <tbody>\n",
       "    <tr>\n",
       "      <th>(-0.001, 10.1]</th>\n",
       "      <td>44</td>\n",
       "    </tr>\n",
       "    <tr>\n",
       "      <th>(10.1, 20.2]</th>\n",
       "      <td>99</td>\n",
       "    </tr>\n",
       "    <tr>\n",
       "      <th>(20.2, 30.3]</th>\n",
       "      <td>53</td>\n",
       "    </tr>\n",
       "    <tr>\n",
       "      <th>(30.3, 40.4]</th>\n",
       "      <td>14</td>\n",
       "    </tr>\n",
       "    <tr>\n",
       "      <th>(40.4, 50.5]</th>\n",
       "      <td>10</td>\n",
       "    </tr>\n",
       "    <tr>\n",
       "      <th>(50.5, 60.6]</th>\n",
       "      <td>8</td>\n",
       "    </tr>\n",
       "    <tr>\n",
       "      <th>(60.6, 70.7]</th>\n",
       "      <td>3</td>\n",
       "    </tr>\n",
       "    <tr>\n",
       "      <th>(70.7, 80.8]</th>\n",
       "      <td>1</td>\n",
       "    </tr>\n",
       "    <tr>\n",
       "      <th>(80.8, 90.9]</th>\n",
       "      <td>2</td>\n",
       "    </tr>\n",
       "    <tr>\n",
       "      <th>(90.9, 101.0]</th>\n",
       "      <td>2</td>\n",
       "    </tr>\n",
       "  </tbody>\n",
       "</table>\n",
       "</div>"
      ],
      "text/plain": [
       "                edades\n",
       "edades'               \n",
       "(-0.001, 10.1]      44\n",
       "(10.1, 20.2]        99\n",
       "(20.2, 30.3]        53\n",
       "(30.3, 40.4]        14\n",
       "(40.4, 50.5]        10\n",
       "(50.5, 60.6]         8\n",
       "(60.6, 70.7]         3\n",
       "(70.7, 80.8]         1\n",
       "(80.8, 90.9]         2\n",
       "(90.9, 101.0]        2"
      ]
     },
     "execution_count": 28,
     "metadata": {},
     "output_type": "execute_result"
    }
   ],
   "source": [
    "N=10\n",
    "M=edades['edades'].max()\n",
    "m=edades['edades'].min()\n",
    "intervalo=(M-m)/N\n",
    "contenedores=np.arange(m,M+0.1,intervalo)\n",
    "edades[\"edades'\"]=pd.cut(edades['edades'],div,include_lowest=True)\n",
    "\n",
    "print('El intervalo es de ' + str(intervalo))\n",
    "print('En la siguiente tabla muestra cuantas personas forman parte de cada intervalo')\n",
    "edades.groupby([\"edades'\"]).count()"
   ]
  },
  {
   "cell_type": "markdown",
   "metadata": {
    "id": "yFt6hOq3QiG6"
   },
   "source": [
    "* Discretizar los datos en edades de 10 en 10. ¿Cuántas personas forman parte de cada intervalo?"
   ]
  },
  {
   "cell_type": "code",
   "execution_count": 38,
   "metadata": {
    "id": "rwpbpd3wQxPz"
   },
   "outputs": [
    {
     "data": {
      "text/plain": [
       "edades'F\n",
       "(-0.101, 10.1]    44\n",
       "(10.1, 20.2]      99\n",
       "(20.2, 30.3]      53\n",
       "(30.3, 40.4]      14\n",
       "(40.4, 50.5]      10\n",
       "(50.5, 60.6]       8\n",
       "(60.6, 70.7]       3\n",
       "(70.7, 80.8]       1\n",
       "(80.8, 90.9]       2\n",
       "(90.9, 101.0]      2\n",
       "Name: edades, dtype: int64"
      ]
     },
     "execution_count": 38,
     "metadata": {},
     "output_type": "execute_result"
    }
   ],
   "source": [
    "N=10\n",
    "L=len(edades['edades'])\n",
    "edades[\"edades'F\"] = pd.cut(edades['edades'],N)\n",
    "\n",
    "print('La siguiente tabla muesta la cantidad de personas que hay en cada intervalo')\n",
    "edades.groupby([\"edades'F\"])['edades'].count()"
   ]
  },
  {
   "cell_type": "markdown",
   "metadata": {
    "id": "pV4biuI8Qx1x"
   },
   "source": [
    "* Discretizar los datos y nombrar los intervalos de acuerdo a la siguiente tabla:\n",
    "\n",
    "Nombre del rango|Rango\n",
    "------------------|:--------:\n",
    "bebé|0-2\n",
    "niño|3-11\n",
    "adolecente|12-17\n",
    "joven|18-25\n",
    "adulto joven|26-39\n",
    "adulto maduro|40-59\n",
    "adulto mayor |60 en adelante\n",
    "\n",
    "Para nombrar los intervalos use el argumento `labels` de la función `cut`"
   ]
  },
  {
   "cell_type": "code",
   "execution_count": 51,
   "metadata": {
    "id": "toTfZllTSo9W"
   },
   "outputs": [
    {
     "data": {
      "text/plain": [
       "edades'nombre\n",
       "bebé             16\n",
       "niño             28\n",
       "adolescente      66\n",
       "joven            71\n",
       "adulto joven     29\n",
       "adulto maduro    18\n",
       "adulto mayor      0\n",
       "Name: edades, dtype: int64"
      ]
     },
     "execution_count": 51,
     "metadata": {},
     "output_type": "execute_result"
    }
   ],
   "source": [
    "edades[\"edades'nombre\"], contenedores = pd.cut(x=edades['edades'],\n",
    "                                  bins=[-0.001,2,11,17,25,39,59,60],\n",
    "                                  retbins=True,\n",
    "                                  labels=['bebé', 'niño', 'adolescente', 'joven', 'adulto joven', 'adulto maduro', 'adulto mayor'])"
   ]
  },
  {
   "cell_type": "markdown",
   "metadata": {
    "id": "VYawvL3vSqTb"
   },
   "source": [
    "* Mostrar un histograma de esta última discretización (¿Cuántas personas forman parte de cada grupo?)."
   ]
  },
  {
   "cell_type": "code",
   "execution_count": 52,
   "metadata": {
    "id": "yioeZca8S1qf"
   },
   "outputs": [
    {
     "data": {
      "text/plain": [
       "edades'nombre\n",
       "bebé             16\n",
       "niño             28\n",
       "adolescente      66\n",
       "joven            71\n",
       "adulto joven     29\n",
       "adulto maduro    18\n",
       "adulto mayor      0\n",
       "Name: edades, dtype: int64"
      ]
     },
     "execution_count": 52,
     "metadata": {},
     "output_type": "execute_result"
    }
   ],
   "source": [
    "edades.groupby([\"edades'nombre\"])['edades'].count()"
   ]
  },
  {
   "cell_type": "markdown",
   "metadata": {
    "id": "o1ri85sIS7b2"
   },
   "source": [
    "* Leer el archivo llamado `Vol-Pot.csv`"
   ]
  },
  {
   "cell_type": "code",
   "execution_count": 56,
   "metadata": {
    "id": "PI6MW3drTF26"
   },
   "outputs": [
    {
     "data": {
      "text/html": [
       "<div>\n",
       "<style scoped>\n",
       "    .dataframe tbody tr th:only-of-type {\n",
       "        vertical-align: middle;\n",
       "    }\n",
       "\n",
       "    .dataframe tbody tr th {\n",
       "        vertical-align: top;\n",
       "    }\n",
       "\n",
       "    .dataframe thead th {\n",
       "        text-align: right;\n",
       "    }\n",
       "</style>\n",
       "<table border=\"1\" class=\"dataframe\">\n",
       "  <thead>\n",
       "    <tr style=\"text-align: right;\">\n",
       "      <th></th>\n",
       "      <th>Volumen</th>\n",
       "      <th>Potencia</th>\n",
       "    </tr>\n",
       "  </thead>\n",
       "  <tbody>\n",
       "    <tr>\n",
       "      <th>0</th>\n",
       "      <td>0.000000</td>\n",
       "      <td>0.000000</td>\n",
       "    </tr>\n",
       "    <tr>\n",
       "      <th>1</th>\n",
       "      <td>0.010001</td>\n",
       "      <td>0.000500</td>\n",
       "    </tr>\n",
       "    <tr>\n",
       "      <th>2</th>\n",
       "      <td>0.020002</td>\n",
       "      <td>0.001001</td>\n",
       "    </tr>\n",
       "    <tr>\n",
       "      <th>3</th>\n",
       "      <td>0.030003</td>\n",
       "      <td>0.001501</td>\n",
       "    </tr>\n",
       "    <tr>\n",
       "      <th>4</th>\n",
       "      <td>0.040004</td>\n",
       "      <td>0.002002</td>\n",
       "    </tr>\n",
       "  </tbody>\n",
       "</table>\n",
       "</div>"
      ],
      "text/plain": [
       "    Volumen  Potencia\n",
       "0  0.000000  0.000000\n",
       "1  0.010001  0.000500\n",
       "2  0.020002  0.001001\n",
       "3  0.030003  0.001501\n",
       "4  0.040004  0.002002"
      ]
     },
     "execution_count": 56,
     "metadata": {},
     "output_type": "execute_result"
    }
   ],
   "source": [
    "vol_pot = pd.read_csv('Vol-Pot.csv')\n",
    "vol_pot.head()"
   ]
  },
  {
   "cell_type": "markdown",
   "metadata": {
    "id": "IBapzf7YTGZw"
   },
   "source": [
    "* Discretizar la columna de `Potencia` en 10 binas de forma que el intervalo crezca de forma exponencial:\n",
    "```python\n",
    "bins=10\n",
    "intervalo=[np.exp(A*i)-B for i in range(bins+1)]\n",
    "```\n",
    "(Encontrar `A` y `B` de forma que abarque el rango de la columna `Potencia`)."
   ]
  },
  {
   "cell_type": "code",
   "execution_count": 64,
   "metadata": {
    "id": "Q1DlfdIkT1X2",
    "scrolled": true
   },
   "outputs": [
    {
     "data": {
      "text/plain": [
       "<matplotlib.collections.PathCollection at 0x1bd5c01d3a0>"
      ]
     },
     "execution_count": 64,
     "metadata": {},
     "output_type": "execute_result"
    },
    {
     "data": {
      "image/png": "[encoded data removed]",
      "text/plain": [
       "<Figure size 432x288 with 1 Axes>"
      ]
     },
     "metadata": {
      "needs_background": "light"
     },
     "output_type": "display_data"
    }
   ],
   "source": [
    "plt.scatter(vol_pot.Potencia, vol_pot.Volumen)"
   ]
  },
  {
   "cell_type": "code",
   "execution_count": 77,
   "metadata": {},
   "outputs": [
    {
     "data": {
      "text/plain": [
       "147.413159"
      ]
     },
     "execution_count": 77,
     "metadata": {},
     "output_type": "execute_result"
    }
   ],
   "source": [
    "vol_pot.Potencia.max()"
   ]
  },
  {
   "cell_type": "code",
   "execution_count": 81,
   "metadata": {},
   "outputs": [
    {
     "name": "stdout",
     "output_type": "stream",
     "text": [
      "[-0.0009999999999998899, 0.6478861510710794, 1.7178255391939983, 3.4820337787553437, 6.391012312573535, 11.187586730749402, 19.096591861461413, 32.137640890242565, 53.64084602923874, 89.09718318656996, 147.56064649300035]\n"
     ]
    }
   ],
   "source": [
    "bins=10\n",
    "A = 0.5001\n",
    "B = 1.001\n",
    "intervalo=[np.exp(A*i)-B for i in range(bins+1)]\n",
    "print(intervalo)\n",
    "vol_pot[\"potencia'\"]=pd.cut(vol_pot[\"Potencia\"],intervalo,include_lowest=True)"
   ]
  },
  {
   "cell_type": "code",
   "execution_count": 82,
   "metadata": {},
   "outputs": [
    {
     "data": {
      "text/html": [
       "<div>\n",
       "<style scoped>\n",
       "    .dataframe tbody tr th:only-of-type {\n",
       "        vertical-align: middle;\n",
       "    }\n",
       "\n",
       "    .dataframe tbody tr th {\n",
       "        vertical-align: top;\n",
       "    }\n",
       "\n",
       "    .dataframe thead th {\n",
       "        text-align: right;\n",
       "    }\n",
       "</style>\n",
       "<table border=\"1\" class=\"dataframe\">\n",
       "  <thead>\n",
       "    <tr style=\"text-align: right;\">\n",
       "      <th></th>\n",
       "      <th>Volumen</th>\n",
       "      <th>Potencia</th>\n",
       "      <th>potencia'</th>\n",
       "    </tr>\n",
       "  </thead>\n",
       "  <tbody>\n",
       "    <tr>\n",
       "      <th>0</th>\n",
       "      <td>0.000000</td>\n",
       "      <td>0.000000</td>\n",
       "      <td>(-0.002, 0.648]</td>\n",
       "    </tr>\n",
       "    <tr>\n",
       "      <th>1</th>\n",
       "      <td>0.010001</td>\n",
       "      <td>0.000500</td>\n",
       "      <td>(-0.002, 0.648]</td>\n",
       "    </tr>\n",
       "    <tr>\n",
       "      <th>2</th>\n",
       "      <td>0.020002</td>\n",
       "      <td>0.001001</td>\n",
       "      <td>(-0.002, 0.648]</td>\n",
       "    </tr>\n",
       "    <tr>\n",
       "      <th>3</th>\n",
       "      <td>0.030003</td>\n",
       "      <td>0.001501</td>\n",
       "      <td>(-0.002, 0.648]</td>\n",
       "    </tr>\n",
       "    <tr>\n",
       "      <th>4</th>\n",
       "      <td>0.040004</td>\n",
       "      <td>0.002002</td>\n",
       "      <td>(-0.002, 0.648]</td>\n",
       "    </tr>\n",
       "  </tbody>\n",
       "</table>\n",
       "</div>"
      ],
      "text/plain": [
       "    Volumen  Potencia        potencia'\n",
       "0  0.000000  0.000000  (-0.002, 0.648]\n",
       "1  0.010001  0.000500  (-0.002, 0.648]\n",
       "2  0.020002  0.001001  (-0.002, 0.648]\n",
       "3  0.030003  0.001501  (-0.002, 0.648]\n",
       "4  0.040004  0.002002  (-0.002, 0.648]"
      ]
     },
     "execution_count": 82,
     "metadata": {},
     "output_type": "execute_result"
    }
   ],
   "source": [
    "vol_pot.head()"
   ]
  },
  {
   "cell_type": "markdown",
   "metadata": {
    "id": "Q_CPWv0ST4TJ"
   },
   "source": [
    "* ¿Cuántos datos se agrupan en cada intervalo para la columna de `Potencia` y cuántos para la columna de `Volumen`?"
   ]
  },
  {
   "cell_type": "code",
   "execution_count": 84,
   "metadata": {
    "id": "r6OfHvL7UELL"
   },
   "outputs": [
    {
     "data": {
      "text/html": [
       "<div>\n",
       "<style scoped>\n",
       "    .dataframe tbody tr th:only-of-type {\n",
       "        vertical-align: middle;\n",
       "    }\n",
       "\n",
       "    .dataframe tbody tr th {\n",
       "        vertical-align: top;\n",
       "    }\n",
       "\n",
       "    .dataframe thead th {\n",
       "        text-align: right;\n",
       "    }\n",
       "</style>\n",
       "<table border=\"1\" class=\"dataframe\">\n",
       "  <thead>\n",
       "    <tr style=\"text-align: right;\">\n",
       "      <th></th>\n",
       "      <th>Volumen</th>\n",
       "      <th>Potencia</th>\n",
       "    </tr>\n",
       "    <tr>\n",
       "      <th>potencia'</th>\n",
       "      <th></th>\n",
       "      <th></th>\n",
       "    </tr>\n",
       "  </thead>\n",
       "  <tbody>\n",
       "    <tr>\n",
       "      <th>(-0.002, 0.648]</th>\n",
       "      <td>999</td>\n",
       "      <td>999</td>\n",
       "    </tr>\n",
       "    <tr>\n",
       "      <th>(0.648, 1.718]</th>\n",
       "      <td>1001</td>\n",
       "      <td>1001</td>\n",
       "    </tr>\n",
       "    <tr>\n",
       "      <th>(1.718, 3.482]</th>\n",
       "      <td>1000</td>\n",
       "      <td>1000</td>\n",
       "    </tr>\n",
       "    <tr>\n",
       "      <th>(3.482, 6.391]</th>\n",
       "      <td>1001</td>\n",
       "      <td>1001</td>\n",
       "    </tr>\n",
       "    <tr>\n",
       "      <th>(6.391, 11.188]</th>\n",
       "      <td>1000</td>\n",
       "      <td>1000</td>\n",
       "    </tr>\n",
       "    <tr>\n",
       "      <th>(11.188, 19.097]</th>\n",
       "      <td>1000</td>\n",
       "      <td>1000</td>\n",
       "    </tr>\n",
       "    <tr>\n",
       "      <th>(19.097, 32.138]</th>\n",
       "      <td>1000</td>\n",
       "      <td>1000</td>\n",
       "    </tr>\n",
       "    <tr>\n",
       "      <th>(32.138, 53.641]</th>\n",
       "      <td>1000</td>\n",
       "      <td>1000</td>\n",
       "    </tr>\n",
       "    <tr>\n",
       "      <th>(53.641, 89.097]</th>\n",
       "      <td>1000</td>\n",
       "      <td>1000</td>\n",
       "    </tr>\n",
       "    <tr>\n",
       "      <th>(89.097, 147.561]</th>\n",
       "      <td>999</td>\n",
       "      <td>999</td>\n",
       "    </tr>\n",
       "  </tbody>\n",
       "</table>\n",
       "</div>"
      ],
      "text/plain": [
       "                   Volumen  Potencia\n",
       "potencia'                           \n",
       "(-0.002, 0.648]        999       999\n",
       "(0.648, 1.718]        1001      1001\n",
       "(1.718, 3.482]        1000      1000\n",
       "(3.482, 6.391]        1001      1001\n",
       "(6.391, 11.188]       1000      1000\n",
       "(11.188, 19.097]      1000      1000\n",
       "(19.097, 32.138]      1000      1000\n",
       "(32.138, 53.641]      1000      1000\n",
       "(53.641, 89.097]      1000      1000\n",
       "(89.097, 147.561]      999       999"
      ]
     },
     "execution_count": 84,
     "metadata": {},
     "output_type": "execute_result"
    }
   ],
   "source": [
    "vol_pot.groupby([\"potencia'\"]).count()"
   ]
  },
  {
   "cell_type": "code",
   "execution_count": null,
   "metadata": {},
   "outputs": [],
   "source": []
  }
 ],
 "metadata": {
  "colab": {
   "authorship_tag": "ABX9TyNIMHSHTdR7XKCFqQYUFjQN",
   "collapsed_sections": [],
   "name": "Copia de Ejercicios de discretización.ipynb",
   "provenance": []
  },
  "kernelspec": {
   "display_name": "Python 3 (ipykernel)",
   "language": "python",
   "name": "python3"
  },
  "language_info": {
   "codemirror_mode": {
    "name": "ipython",
    "version": 3
   },
   "file_extension": ".py",
   "mimetype": "text/x-python",
   "name": "python",
   "nbconvert_exporter": "python",
   "pygments_lexer": "ipython3",
   "version": "3.8.8"
  }
 },
 "nbformat": 4,
 "nbformat_minor": 1
}
