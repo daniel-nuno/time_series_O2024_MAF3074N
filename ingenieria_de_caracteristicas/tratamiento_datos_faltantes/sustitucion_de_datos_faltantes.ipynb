{
 "cells": [
  {
   "cell_type": "markdown",
   "id": "db95b60b",
   "metadata": {},
   "source": [
    "<br>\n",
    "<br>\n",
    "\n",
    "![iteso](https://upload.wikimedia.org/wikipedia/en/5/5f/Western_Institute_of_Technology_and_Higher_Education_logo.png)\n",
    "\n",
    "###  InstitutoTecnológico y de Estudios Superiores de Occidente ###\n",
    "###  Maestría Ciencia de Datos  ###\n",
    "###  Ingeniería de Características ###\n",
    "###  Sustitución de datos faltantes ###\n",
    "\n",
    "<br>\n",
    "<br>\n",
    "\n",
    "* * *\n",
    "\n",
    "Estudiante: Daniel Nuño <br>\n",
    "Profesor: Carlos Augusto Arellano Muro <br>\n",
    "Fecha entrega: 12 de febrero, 2022 <br>\n",
    "\n",
    "* * *\n",
    "\n",
    "<br>\n",
    "<br>"
   ]
  },
  {
   "cell_type": "raw",
   "id": "467ab36c",
   "metadata": {},
   "source": [
    "<div style=\"page-break-after: always;\"></div>"
   ]
  },
  {
   "cell_type": "markdown",
   "id": "09dbba92",
   "metadata": {},
   "source": [
    "En el archivo tratamiento_de_valores_faltantes.csv, se encuentran cuatro variables.\n",
    "\n",
    "En un archivo con extensión ipynb, identifique cada una de estas variables (categórica o numérica, su distribución, o si presenta datos atípicos) y sustituya los valores faltantes con algún método que crea conveniente. Importante: justifique el método usado."
   ]
  },
  {
   "cell_type": "code",
   "execution_count": 37,
   "id": "176b1404",
   "metadata": {},
   "outputs": [
    {
     "data": {
      "text/html": [
       "<div>\n",
       "<style scoped>\n",
       "    .dataframe tbody tr th:only-of-type {\n",
       "        vertical-align: middle;\n",
       "    }\n",
       "\n",
       "    .dataframe tbody tr th {\n",
       "        vertical-align: top;\n",
       "    }\n",
       "\n",
       "    .dataframe thead th {\n",
       "        text-align: right;\n",
       "    }\n",
       "</style>\n",
       "<table border=\"1\" class=\"dataframe\">\n",
       "  <thead>\n",
       "    <tr style=\"text-align: right;\">\n",
       "      <th></th>\n",
       "      <th>x1</th>\n",
       "      <th>x2</th>\n",
       "      <th>x3</th>\n",
       "      <th>x4</th>\n",
       "    </tr>\n",
       "  </thead>\n",
       "  <tbody>\n",
       "    <tr>\n",
       "      <th>0</th>\n",
       "      <td>1.307150</td>\n",
       "      <td>Comida rápida</td>\n",
       "      <td>5.249548</td>\n",
       "      <td>2.790293</td>\n",
       "    </tr>\n",
       "    <tr>\n",
       "      <th>1</th>\n",
       "      <td>18.422083</td>\n",
       "      <td>Mexicano</td>\n",
       "      <td>5.278007</td>\n",
       "      <td>3.330853</td>\n",
       "    </tr>\n",
       "    <tr>\n",
       "      <th>2</th>\n",
       "      <td>7.729605</td>\n",
       "      <td>Italiano</td>\n",
       "      <td>7.403145</td>\n",
       "      <td>2.895753</td>\n",
       "    </tr>\n",
       "    <tr>\n",
       "      <th>3</th>\n",
       "      <td>10.599776</td>\n",
       "      <td>Comida rápida</td>\n",
       "      <td>7.209577</td>\n",
       "      <td>3.393178</td>\n",
       "    </tr>\n",
       "    <tr>\n",
       "      <th>4</th>\n",
       "      <td>5.612505</td>\n",
       "      <td>Chino</td>\n",
       "      <td>5.896599</td>\n",
       "      <td>2.901199</td>\n",
       "    </tr>\n",
       "  </tbody>\n",
       "</table>\n",
       "</div>"
      ],
      "text/plain": [
       "          x1             x2        x3        x4\n",
       "0   1.307150  Comida rápida  5.249548  2.790293\n",
       "1  18.422083       Mexicano  5.278007  3.330853\n",
       "2   7.729605       Italiano  7.403145  2.895753\n",
       "3  10.599776  Comida rápida  7.209577  3.393178\n",
       "4   5.612505          Chino  5.896599  2.901199"
      ]
     },
     "execution_count": 37,
     "metadata": {},
     "output_type": "execute_result"
    }
   ],
   "source": [
    "import pandas as pd\n",
    "import numpy as np\n",
    "from sklearn.linear_model import LinearRegression\n",
    "import matplotlib.pyplot as plt\n",
    "ruta = 'C:/Users/nuno/OneDrive - ITESO/Ciencia de Datos/ingenieria_de_caracteristicas/'\n",
    "df = pd.read_csv(ruta+'tratamiento_de_valores_faltantes.csv')\n",
    "df.head()"
   ]
  },
  {
   "cell_type": "code",
   "execution_count": 38,
   "id": "99045cf4",
   "metadata": {},
   "outputs": [
    {
     "data": {
      "text/plain": [
       "x1    float64\n",
       "x2     object\n",
       "x3    float64\n",
       "x4    float64\n",
       "dtype: object"
      ]
     },
     "execution_count": 38,
     "metadata": {},
     "output_type": "execute_result"
    }
   ],
   "source": [
    "df.dtypes"
   ]
  },
  {
   "cell_type": "markdown",
   "id": "6ef87e30",
   "metadata": {},
   "source": [
    "La cantidad de valores faltantes por variable:"
   ]
  },
  {
   "cell_type": "code",
   "execution_count": 39,
   "id": "08caed8b",
   "metadata": {},
   "outputs": [
    {
     "data": {
      "text/plain": [
       "x1    18\n",
       "x2    20\n",
       "x3    14\n",
       "x4    17\n",
       "dtype: int64"
      ]
     },
     "execution_count": 39,
     "metadata": {},
     "output_type": "execute_result"
    }
   ],
   "source": [
    "pd.isna(df).sum()"
   ]
  },
  {
   "cell_type": "code",
   "execution_count": 40,
   "id": "317b9378",
   "metadata": {},
   "outputs": [
    {
     "data": {
      "text/plain": [
       "array([[<AxesSubplot:title={'center':'x1'}>,\n",
       "        <AxesSubplot:title={'center':'x3'}>],\n",
       "       [<AxesSubplot:title={'center':'x4'}>, <AxesSubplot:>]],\n",
       "      dtype=object)"
      ]
     },
     "execution_count": 40,
     "metadata": {},
     "output_type": "execute_result"
    },
    {
     "data": {
      "image/png": "[encoded data removed]",
      "text/plain": [
       "<Figure size 432x288 with 4 Axes>"
      ]
     },
     "metadata": {
      "needs_background": "light"
     },
     "output_type": "display_data"
    }
   ],
   "source": [
    "df.hist()"
   ]
  },
  {
   "cell_type": "code",
   "execution_count": 41,
   "id": "602513c0",
   "metadata": {
    "scrolled": false
   },
   "outputs": [
    {
     "data": {
      "text/plain": [
       "<AxesSubplot:>"
      ]
     },
     "execution_count": 41,
     "metadata": {},
     "output_type": "execute_result"
    },
    {
     "data": {
      "image/png": "[encoded data removed]",
      "text/plain": [
       "<Figure size 432x288 with 1 Axes>"
      ]
     },
     "metadata": {
      "needs_background": "light"
     },
     "output_type": "display_data"
    }
   ],
   "source": [
    "df['x2'].value_counts().plot(kind='bar')"
   ]
  },
  {
   "cell_type": "code",
   "execution_count": 42,
   "id": "ff55d27e",
   "metadata": {},
   "outputs": [
    {
     "name": "stdout",
     "output_type": "stream",
     "text": [
      "Mediana:\n",
      " x1    11.997242\n",
      "x3     5.887484\n",
      "x4     3.000913\n",
      "dtype: float64 \n",
      "\n",
      "Media:\n",
      " x1    11.946714\n",
      "x3     5.955536\n",
      "x4     3.003786\n",
      "dtype: float64\n"
     ]
    }
   ],
   "source": [
    "print('Mediana:\\n', df.drop(['x2'], axis=1).median(), '\\n')\n",
    "\n",
    "print('Media:\\n', df.drop(['x2'], axis=1).mean())"
   ]
  },
  {
   "cell_type": "code",
   "execution_count": 43,
   "id": "93c250e6",
   "metadata": {
    "scrolled": false
   },
   "outputs": [
    {
     "data": {
      "text/plain": [
       "x1    3.157644\n",
       "x3   -1.260308\n",
       "x4   -0.290781\n",
       "dtype: float64"
      ]
     },
     "execution_count": 43,
     "metadata": {},
     "output_type": "execute_result"
    }
   ],
   "source": [
    "df.drop(['x2'], axis=1).kurt()"
   ]
  },
  {
   "cell_type": "code",
   "execution_count": 44,
   "id": "85c459ea",
   "metadata": {},
   "outputs": [
    {
     "data": {
      "text/plain": [
       "x1    6\n",
       "x3    0\n",
       "x4    0\n",
       "dtype: int64"
      ]
     },
     "execution_count": 44,
     "metadata": {},
     "output_type": "execute_result"
    }
   ],
   "source": [
    "q1 = df.drop(['x2'], axis=1).quantile(0.25)\n",
    "q3 = df.drop(['x2'], axis=1).quantile(0.75)\n",
    "iqr = q3-q1\n",
    "\n",
    "((df.drop(['x2'], axis=1)<q1-3*iqr)|(df.drop(['x2'], axis=1)>q3+3*iqr)).sum()"
   ]
  },
  {
   "cell_type": "markdown",
   "id": "987188ae",
   "metadata": {},
   "source": [
    "Como podemos observar arriva, existen valores extremos para la variable **x1**. Para evitar que nos ocacione ruido y disturbio podemos sustituirlos como valores faltantes asumiendo que nuestro analisis no son importantes."
   ]
  },
  {
   "cell_type": "code",
   "execution_count": 45,
   "id": "9c9fc6bc",
   "metadata": {},
   "outputs": [
    {
     "data": {
      "text/plain": [
       "0"
      ]
     },
     "execution_count": 45,
     "metadata": {},
     "output_type": "execute_result"
    }
   ],
   "source": [
    "q1 = df['x1'].quantile(0.25)\n",
    "q3 = df['x1'].quantile(0.75)\n",
    "iqr = q3-q1\n",
    "\n",
    "df[(df['x1']<q1-3*iqr)|(df['x1']>q3+3*iqr)] = np.NaN\n",
    "((df['x1']<q1-3*iqr) | (df['x1']>q3+3*iqr)).sum()"
   ]
  },
  {
   "cell_type": "markdown",
   "id": "bda80987",
   "metadata": {},
   "source": [
    "La primera variable para sustituir es **x2**. Siendo una variable categórica entonces el método que usare es el de la moda, porque es una forma sencilla pero conveniente ya que no es numérica y no tiene que considerar las otras variables:"
   ]
  },
  {
   "cell_type": "code",
   "execution_count": 46,
   "id": "ec6b404b",
   "metadata": {},
   "outputs": [],
   "source": [
    "df['x2'] = df['x2'].fillna(df['x2'].mode()[0])"
   ]
  },
  {
   "cell_type": "markdown",
   "id": "0b38e7fb",
   "metadata": {},
   "source": [
    "La variable **x3** parece tener una distribución uniforme y tiene curtosis de -1.26. Por lo tanto, las voy a sustituir con valores de forma aleatoria de la misma variable."
   ]
  },
  {
   "cell_type": "code",
   "execution_count": 47,
   "id": "30293c5c",
   "metadata": {},
   "outputs": [
    {
     "name": "stderr",
     "output_type": "stream",
     "text": [
      "C:\\Users\\nuno\\Anaconda3\\lib\\site-packages\\pandas\\core\\indexing.py:1732: SettingWithCopyWarning: \n",
      "A value is trying to be set on a copy of a slice from a DataFrame\n",
      "\n",
      "See the caveats in the documentation: https://pandas.pydata.org/pandas-docs/stable/user_guide/indexing.html#returning-a-view-versus-a-copy\n",
      "  self._setitem_single_block(indexer, value, name)\n"
     ]
    }
   ],
   "source": [
    "for c in ['x3']:\n",
    "    for o in np.where(df[c].isna())[0]:\n",
    "        dim = df[c].dropna().shape[0]\n",
    "        i = np.random.randint(dim)\n",
    "        val = df[c].dropna().iloc[i]\n",
    "        df[c].iloc[o] = val"
   ]
  },
  {
   "cell_type": "markdown",
   "id": "d202e482",
   "metadata": {},
   "source": [
    "La variable **x1** es muy parecida a la normal en el histograma, pero tiene mucha curtosis y poco sesgo. Entonces, voy a imputar los valores faltantes usando la media (la mediana es casi la misma)."
   ]
  },
  {
   "cell_type": "code",
   "execution_count": 48,
   "id": "9386d2a3",
   "metadata": {},
   "outputs": [],
   "source": [
    "df['x1'] = df['x1'].fillna(df['x1'].mean())"
   ]
  },
  {
   "cell_type": "markdown",
   "id": "afe163b9",
   "metadata": {},
   "source": [
    "La variable **x4** es muy parecida a la normal en el histograma y la curtosis y no parece tener mucho sesgo (sin hacer más pruebas de normalidad). Por lo tanto, voy a utilizar la mediana para sustituir los perdidos."
   ]
  },
  {
   "cell_type": "code",
   "execution_count": 49,
   "id": "3bfa8fb6",
   "metadata": {
    "scrolled": true
   },
   "outputs": [],
   "source": [
    "df['x4'] = df['x4'].fillna(df['x4'].median())"
   ]
  },
  {
   "cell_type": "code",
   "execution_count": 50,
   "id": "d3809645",
   "metadata": {},
   "outputs": [
    {
     "data": {
      "text/plain": [
       "x1    0\n",
       "x2    0\n",
       "x3    0\n",
       "x4    0\n",
       "dtype: int64"
      ]
     },
     "execution_count": 50,
     "metadata": {},
     "output_type": "execute_result"
    }
   ],
   "source": [
    "pd.isna(df).sum()"
   ]
  }
 ],
 "metadata": {
  "kernelspec": {
   "display_name": "Python 3 (ipykernel)",
   "language": "python",
   "name": "python3"
  },
  "language_info": {
   "codemirror_mode": {
    "name": "ipython",
    "version": 3
   },
   "file_extension": ".py",
   "mimetype": "text/x-python",
   "name": "python",
   "nbconvert_exporter": "python",
   "pygments_lexer": "ipython3",
   "version": "3.8.8"
  }
 },
 "nbformat": 4,
 "nbformat_minor": 5
}
