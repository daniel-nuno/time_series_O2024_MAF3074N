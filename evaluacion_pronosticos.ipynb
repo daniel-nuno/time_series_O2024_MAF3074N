{
  "nbformat": 4,
  "nbformat_minor": 0,
  "metadata": {
    "colab": {
      "provenance": [],
      "authorship_tag": "ABX9TyOwYmZlzfyqC3UQ+QOXwWwY",
      "include_colab_link": true
    },
    "kernelspec": {
      "name": "python3",
      "display_name": "Python 3"
    },
    "language_info": {
      "name": "python"
    }
  },
  "cells": [
    {
      "cell_type": "markdown",
      "metadata": {
        "id": "view-in-github",
        "colab_type": "text"
      },
      "source": [
        "<a href=\"https://colab.research.google.com/github/daniel-nuno/time_series_O2024_MAF3074N/blob/main/evaluacion_pronosticos.ipynb\" target=\"_parent\"><img src=\"https://colab.research.google.com/assets/colab-badge.svg\" alt=\"Open In Colab\"/></a>"
      ]
    },
    {
      "cell_type": "markdown",
      "source": [
        "<br>\n",
        "<br>\n",
        "\n",
        "![iteso](https://upload.wikimedia.org/wikipedia/en/5/5f/Western_Institute_of_Technology_and_Higher_Education_logo.png)\n",
        "\n",
        "<br>\n",
        "<br>\n",
        "Clase: Series de tiempo\n",
        "<br>\n",
        "Actividad: Evaluación y Pronósticos\n",
        "<br>\n",
        "<br>\n",
        "\n",
        "* * *\n",
        "\n",
        "Docente: Daniel Nuño <br>\n",
        "Fecha: 7 de octubre 2024 <br>\n",
        "\n",
        "* * *\n",
        "\n",
        "<br>\n",
        "<br>"
      ],
      "metadata": {
        "id": "dBqK4qMcGSsd"
      }
    },
    {
      "cell_type": "markdown",
      "source": [
        "# Evaluación de pronósticos\n",
        "\n",
        "Es importante evaluar la precisión de las previsiones utilizando previsiones auténticas. Por consiguiente, el tamaño de los residuos no es una indicación fiable de la magnitud de los errores de previsión reales. La precisión de las previsiones sólo puede determinarse teniendo en cuenta el rendimiento de un modelo con datos nuevos que no se utilizaron al ajustarlo.\n",
        "\n",
        "Hay que tener en cuenta los siguientes puntos.\n",
        "\n",
        "* Un modelo que se ajuste bien a los datos de entrenamiento no necesariamente pronosticará bien.\n",
        "* Siempre se puede obtener un ajuste perfecto utilizando un modelo con suficientes parámetros.\n",
        "* Ajustar demasiado un modelo a los datos es tan malo como no identificar un patrón sistemático en los datos.\n",
        "* Algunas referencias describen el conjunto de prueba como el «conjunto de retención» porque estos datos se «retienen» de los datos utilizados para el ajuste.\n",
        "\n",
        "Otras referencias llaman al conjunto de entrenamiento «datos dentro de la muestra» y al conjunto de prueba «datos fuera de la muestra». En este libro preferimos utilizar «datos de entrenamiento» y «datos de prueba»."
      ],
      "metadata": {
        "id": "XJTYGJ88HBTG"
      }
    },
    {
      "cell_type": "code",
      "source": [
        "from google.colab import drive\n",
        "drive.mount('/content/drive')"
      ],
      "metadata": {
        "colab": {
          "base_uri": "https://localhost:8080/"
        },
        "id": "jqHbS7yaH8io",
        "outputId": "15c5ecd8-d7d2-4ba1-df7c-130ca32eab02"
      },
      "execution_count": 1,
      "outputs": [
        {
          "output_type": "stream",
          "name": "stdout",
          "text": [
            "Mounted at /content/drive\n"
          ]
        }
      ]
    },
    {
      "cell_type": "code",
      "source": [
        "import pandas as pd\n",
        "import numpy as np\n",
        "import matplotlib.pyplot as plt\n",
        "import seaborn as sns\n",
        "import datetime as dt\n",
        "import scipy as sp\n",
        "import yfinance as yf"
      ],
      "metadata": {
        "id": "X6zUW8FtIHnW"
      },
      "execution_count": 2,
      "outputs": []
    },
    {
      "cell_type": "code",
      "source": [
        "data = pd.read_excel(\"/content/drive/MyDrive/series_tiempo/Assets/remesas.xlsx\")\n",
        "data.index = pd.to_datetime(data['Fecha'])\n",
        "del data['Fecha']\n",
        "del data['Promedio Diario']\n",
        "data = pd.Series(data = data['Remesas Totales'], index=data.index)"
      ],
      "metadata": {
        "id": "jwcSdAadGfks"
      },
      "execution_count": 3,
      "outputs": []
    },
    {
      "cell_type": "code",
      "source": [
        "data.tail()"
      ],
      "metadata": {
        "colab": {
          "base_uri": "https://localhost:8080/",
          "height": 271
        },
        "id": "1vx9oAc3H5Fq",
        "outputId": "d0aff77f-50b7-4a9c-9382-f70beb9328cc"
      },
      "execution_count": 4,
      "outputs": [
        {
          "output_type": "execute_result",
          "data": {
            "text/plain": [
              "Fecha\n",
              "2024-03-01    5014.5816\n",
              "2024-04-01    5418.8526\n",
              "2024-05-01    5618.1155\n",
              "2024-06-01    6206.8793\n",
              "2024-07-01    5613.6041\n",
              "Name: Remesas Totales, dtype: float64"
            ],
            "text/html": [
              "<div>\n",
              "<style scoped>\n",
              "    .dataframe tbody tr th:only-of-type {\n",
              "        vertical-align: middle;\n",
              "    }\n",
              "\n",
              "    .dataframe tbody tr th {\n",
              "        vertical-align: top;\n",
              "    }\n",
              "\n",
              "    .dataframe thead th {\n",
              "        text-align: right;\n",
              "    }\n",
              "</style>\n",
              "<table border=\"1\" class=\"dataframe\">\n",
              "  <thead>\n",
              "    <tr style=\"text-align: right;\">\n",
              "      <th></th>\n",
              "      <th>Remesas Totales</th>\n",
              "    </tr>\n",
              "    <tr>\n",
              "      <th>Fecha</th>\n",
              "      <th></th>\n",
              "    </tr>\n",
              "  </thead>\n",
              "  <tbody>\n",
              "    <tr>\n",
              "      <th>2024-03-01</th>\n",
              "      <td>5014.5816</td>\n",
              "    </tr>\n",
              "    <tr>\n",
              "      <th>2024-04-01</th>\n",
              "      <td>5418.8526</td>\n",
              "    </tr>\n",
              "    <tr>\n",
              "      <th>2024-05-01</th>\n",
              "      <td>5618.1155</td>\n",
              "    </tr>\n",
              "    <tr>\n",
              "      <th>2024-06-01</th>\n",
              "      <td>6206.8793</td>\n",
              "    </tr>\n",
              "    <tr>\n",
              "      <th>2024-07-01</th>\n",
              "      <td>5613.6041</td>\n",
              "    </tr>\n",
              "  </tbody>\n",
              "</table>\n",
              "</div><br><label><b>dtype:</b> float64</label>"
            ]
          },
          "metadata": {},
          "execution_count": 4
        }
      ]
    },
    {
      "cell_type": "code",
      "source": [
        "training_mask = data.index > '2023-01-01'"
      ],
      "metadata": {
        "id": "w8t1JuY7INUQ"
      },
      "execution_count": 5,
      "outputs": []
    },
    {
      "cell_type": "code",
      "source": [
        "test = data[training_mask]\n",
        "train = data[~training_mask]\n",
        "horizon = len(test)"
      ],
      "metadata": {
        "id": "8LAjRuNRIbL4"
      },
      "execution_count": 6,
      "outputs": []
    },
    {
      "cell_type": "code",
      "source": [
        "test.head()"
      ],
      "metadata": {
        "colab": {
          "base_uri": "https://localhost:8080/",
          "height": 271
        },
        "id": "2bZ6qJoPIdfN",
        "outputId": "3dcb13a8-b88a-4949-bd1f-652c2802da9e"
      },
      "execution_count": 7,
      "outputs": [
        {
          "output_type": "execute_result",
          "data": {
            "text/plain": [
              "Fecha\n",
              "2023-02-01    4346.1517\n",
              "2023-03-01    5189.3920\n",
              "2023-04-01    5006.8015\n",
              "2023-05-01    5675.8614\n",
              "2023-06-01    5584.4913\n",
              "Name: Remesas Totales, dtype: float64"
            ],
            "text/html": [
              "<div>\n",
              "<style scoped>\n",
              "    .dataframe tbody tr th:only-of-type {\n",
              "        vertical-align: middle;\n",
              "    }\n",
              "\n",
              "    .dataframe tbody tr th {\n",
              "        vertical-align: top;\n",
              "    }\n",
              "\n",
              "    .dataframe thead th {\n",
              "        text-align: right;\n",
              "    }\n",
              "</style>\n",
              "<table border=\"1\" class=\"dataframe\">\n",
              "  <thead>\n",
              "    <tr style=\"text-align: right;\">\n",
              "      <th></th>\n",
              "      <th>Remesas Totales</th>\n",
              "    </tr>\n",
              "    <tr>\n",
              "      <th>Fecha</th>\n",
              "      <th></th>\n",
              "    </tr>\n",
              "  </thead>\n",
              "  <tbody>\n",
              "    <tr>\n",
              "      <th>2023-02-01</th>\n",
              "      <td>4346.1517</td>\n",
              "    </tr>\n",
              "    <tr>\n",
              "      <th>2023-03-01</th>\n",
              "      <td>5189.3920</td>\n",
              "    </tr>\n",
              "    <tr>\n",
              "      <th>2023-04-01</th>\n",
              "      <td>5006.8015</td>\n",
              "    </tr>\n",
              "    <tr>\n",
              "      <th>2023-05-01</th>\n",
              "      <td>5675.8614</td>\n",
              "    </tr>\n",
              "    <tr>\n",
              "      <th>2023-06-01</th>\n",
              "      <td>5584.4913</td>\n",
              "    </tr>\n",
              "  </tbody>\n",
              "</table>\n",
              "</div><br><label><b>dtype:</b> float64</label>"
            ]
          },
          "metadata": {},
          "execution_count": 7
        }
      ]
    },
    {
      "cell_type": "code",
      "source": [
        "pip install statsforecast"
      ],
      "metadata": {
        "colab": {
          "base_uri": "https://localhost:8080/"
        },
        "collapsed": true,
        "id": "_Z0FZpw-JUFp",
        "outputId": "7ff09fc9-0f27-43ca-9da4-f2c8f8b3c9d4"
      },
      "execution_count": 8,
      "outputs": [
        {
          "output_type": "stream",
          "name": "stdout",
          "text": [
            "Collecting statsforecast\n",
            "  Downloading statsforecast-1.7.8-cp310-cp310-manylinux_2_17_x86_64.manylinux2014_x86_64.whl.metadata (28 kB)\n",
            "Requirement already satisfied: cloudpickle in /usr/local/lib/python3.10/dist-packages (from statsforecast) (2.2.1)\n",
            "Collecting coreforecast>=0.0.12 (from statsforecast)\n",
            "  Downloading coreforecast-0.0.12-py3-none-manylinux_2_17_x86_64.manylinux2014_x86_64.whl.metadata (3.6 kB)\n",
            "Requirement already satisfied: numba>=0.55.0 in /usr/local/lib/python3.10/dist-packages (from statsforecast) (0.60.0)\n",
            "Requirement already satisfied: numpy>=1.21.6 in /usr/local/lib/python3.10/dist-packages (from statsforecast) (1.26.4)\n",
            "Requirement already satisfied: pandas>=1.3.5 in /usr/local/lib/python3.10/dist-packages (from statsforecast) (2.2.2)\n",
            "Requirement already satisfied: scipy>=1.7.3 in /usr/local/lib/python3.10/dist-packages (from statsforecast) (1.13.1)\n",
            "Requirement already satisfied: statsmodels>=0.13.2 in /usr/local/lib/python3.10/dist-packages (from statsforecast) (0.14.4)\n",
            "Requirement already satisfied: tqdm in /usr/local/lib/python3.10/dist-packages (from statsforecast) (4.66.5)\n",
            "Collecting fugue>=0.8.1 (from statsforecast)\n",
            "  Downloading fugue-0.9.1-py3-none-any.whl.metadata (18 kB)\n",
            "Collecting utilsforecast>=0.1.4 (from statsforecast)\n",
            "  Downloading utilsforecast-0.2.5-py3-none-any.whl.metadata (7.4 kB)\n",
            "Requirement already satisfied: threadpoolctl>=3 in /usr/local/lib/python3.10/dist-packages (from statsforecast) (3.5.0)\n",
            "Collecting triad>=0.9.7 (from fugue>=0.8.1->statsforecast)\n",
            "  Downloading triad-0.9.8-py3-none-any.whl.metadata (6.3 kB)\n",
            "Collecting adagio>=0.2.4 (from fugue>=0.8.1->statsforecast)\n",
            "  Downloading adagio-0.2.6-py3-none-any.whl.metadata (1.8 kB)\n",
            "Requirement already satisfied: llvmlite<0.44,>=0.43.0dev0 in /usr/local/lib/python3.10/dist-packages (from numba>=0.55.0->statsforecast) (0.43.0)\n",
            "Requirement already satisfied: python-dateutil>=2.8.2 in /usr/local/lib/python3.10/dist-packages (from pandas>=1.3.5->statsforecast) (2.8.2)\n",
            "Requirement already satisfied: pytz>=2020.1 in /usr/local/lib/python3.10/dist-packages (from pandas>=1.3.5->statsforecast) (2024.2)\n",
            "Requirement already satisfied: tzdata>=2022.7 in /usr/local/lib/python3.10/dist-packages (from pandas>=1.3.5->statsforecast) (2024.2)\n",
            "Requirement already satisfied: patsy>=0.5.6 in /usr/local/lib/python3.10/dist-packages (from statsmodels>=0.13.2->statsforecast) (0.5.6)\n",
            "Requirement already satisfied: packaging>=21.3 in /usr/local/lib/python3.10/dist-packages (from statsmodels>=0.13.2->statsforecast) (24.1)\n",
            "Requirement already satisfied: six in /usr/local/lib/python3.10/dist-packages (from patsy>=0.5.6->statsmodels>=0.13.2->statsforecast) (1.16.0)\n",
            "Requirement already satisfied: pyarrow>=6.0.1 in /usr/local/lib/python3.10/dist-packages (from triad>=0.9.7->fugue>=0.8.1->statsforecast) (16.1.0)\n",
            "Requirement already satisfied: fsspec>=2022.5.0 in /usr/local/lib/python3.10/dist-packages (from triad>=0.9.7->fugue>=0.8.1->statsforecast) (2024.6.1)\n",
            "Collecting fs (from triad>=0.9.7->fugue>=0.8.1->statsforecast)\n",
            "  Downloading fs-2.4.16-py2.py3-none-any.whl.metadata (6.3 kB)\n",
            "Collecting appdirs~=1.4.3 (from fs->triad>=0.9.7->fugue>=0.8.1->statsforecast)\n",
            "  Downloading appdirs-1.4.4-py2.py3-none-any.whl.metadata (9.0 kB)\n",
            "Requirement already satisfied: setuptools in /usr/local/lib/python3.10/dist-packages (from fs->triad>=0.9.7->fugue>=0.8.1->statsforecast) (71.0.4)\n",
            "Downloading statsforecast-1.7.8-cp310-cp310-manylinux_2_17_x86_64.manylinux2014_x86_64.whl (314 kB)\n",
            "\u001b[2K   \u001b[90m━━━━━━━━━━━━━━━━━━━━━━━━━━━━━━━━━━━━━━━━\u001b[0m \u001b[32m314.7/314.7 kB\u001b[0m \u001b[31m8.5 MB/s\u001b[0m eta \u001b[36m0:00:00\u001b[0m\n",
            "\u001b[?25hDownloading coreforecast-0.0.12-py3-none-manylinux_2_17_x86_64.manylinux2014_x86_64.whl (196 kB)\n",
            "\u001b[2K   \u001b[90m━━━━━━━━━━━━━━━━━━━━━━━━━━━━━━━━━━━━━━━━\u001b[0m \u001b[32m196.7/196.7 kB\u001b[0m \u001b[31m13.4 MB/s\u001b[0m eta \u001b[36m0:00:00\u001b[0m\n",
            "\u001b[?25hDownloading fugue-0.9.1-py3-none-any.whl (278 kB)\n",
            "\u001b[2K   \u001b[90m━━━━━━━━━━━━━━━━━━━━━━━━━━━━━━━━━━━━━━━━\u001b[0m \u001b[32m278.2/278.2 kB\u001b[0m \u001b[31m18.4 MB/s\u001b[0m eta \u001b[36m0:00:00\u001b[0m\n",
            "\u001b[?25hDownloading utilsforecast-0.2.5-py3-none-any.whl (41 kB)\n",
            "\u001b[2K   \u001b[90m━━━━━━━━━━━━━━━━━━━━━━━━━━━━━━━━━━━━━━━━\u001b[0m \u001b[32m41.2/41.2 kB\u001b[0m \u001b[31m2.9 MB/s\u001b[0m eta \u001b[36m0:00:00\u001b[0m\n",
            "\u001b[?25hDownloading adagio-0.2.6-py3-none-any.whl (19 kB)\n",
            "Downloading triad-0.9.8-py3-none-any.whl (62 kB)\n",
            "\u001b[2K   \u001b[90m━━━━━━━━━━━━━━━━━━━━━━━━━━━━━━━━━━━━━━━━\u001b[0m \u001b[32m62.3/62.3 kB\u001b[0m \u001b[31m4.5 MB/s\u001b[0m eta \u001b[36m0:00:00\u001b[0m\n",
            "\u001b[?25hDownloading fs-2.4.16-py2.py3-none-any.whl (135 kB)\n",
            "\u001b[2K   \u001b[90m━━━━━━━━━━━━━━━━━━━━━━━━━━━━━━━━━━━━━━━━\u001b[0m \u001b[32m135.3/135.3 kB\u001b[0m \u001b[31m9.1 MB/s\u001b[0m eta \u001b[36m0:00:00\u001b[0m\n",
            "\u001b[?25hDownloading appdirs-1.4.4-py2.py3-none-any.whl (9.6 kB)\n",
            "Installing collected packages: appdirs, fs, coreforecast, utilsforecast, triad, adagio, fugue, statsforecast\n",
            "Successfully installed adagio-0.2.6 appdirs-1.4.4 coreforecast-0.0.12 fs-2.4.16 fugue-0.9.1 statsforecast-1.7.8 triad-0.9.8 utilsforecast-0.2.5\n"
          ]
        }
      ]
    },
    {
      "cell_type": "code",
      "source": [
        "from statsforecast.models import SeasonalNaive"
      ],
      "metadata": {
        "colab": {
          "base_uri": "https://localhost:8080/"
        },
        "id": "nYMbLPezJh6V",
        "outputId": "c68cab41-e18a-4c03-e6ed-d625a20a7eb9"
      },
      "execution_count": 10,
      "outputs": [
        {
          "output_type": "stream",
          "name": "stderr",
          "text": [
            "/usr/local/lib/python3.10/dist-packages/dask/dataframe/__init__.py:42: FutureWarning: \n",
            "Dask dataframe query planning is disabled because dask-expr is not installed.\n",
            "\n",
            "You can install it with `pip install dask[dataframe]` or `conda install dask`.\n",
            "This will raise in a future version.\n",
            "\n",
            "  warnings.warn(msg, FutureWarning)\n"
          ]
        }
      ]
    },
    {
      "cell_type": "code",
      "source": [
        "model_sn = SeasonalNaive(season_length=12)\n",
        "model_sn = model_sn.fit(y=train.values)\n",
        "y_hat_dict = model_sn.predict(h=horizon)\n",
        "\n",
        "y_hat_dict['mean']"
      ],
      "metadata": {
        "colab": {
          "base_uri": "https://localhost:8080/"
        },
        "id": "SbcI99V6IgpH",
        "outputId": "6b74092b-74ff-442f-8a3d-55742ee2eee1"
      },
      "execution_count": 11,
      "outputs": [
        {
          "output_type": "execute_result",
          "data": {
            "text/plain": [
              "array([3928.4852, 4712.0937, 4749.1098, 5173.7153, 5150.2223, 5342.837 ,\n",
              "       5160.1441, 5078.5862, 5404.6702, 4853.746 , 5379.1316, 4434.7719,\n",
              "       3928.4852, 4712.0937, 4749.1098, 5173.7153, 5150.2223, 5342.837 ])"
            ]
          },
          "metadata": {},
          "execution_count": 11
        }
      ]
    },
    {
      "cell_type": "markdown",
      "source": [],
      "metadata": {
        "id": "FzdodhaiLB_V"
      }
    },
    {
      "cell_type": "code",
      "source": [
        "model_sn.predict_in_sample()[\"fitted\"]"
      ],
      "metadata": {
        "colab": {
          "base_uri": "https://localhost:8080/"
        },
        "collapsed": true,
        "id": "wmk4mfssMvLP",
        "outputId": "bf5a7507-e0ff-4e9d-8b13-1b57e9e38f81"
      },
      "execution_count": 13,
      "outputs": [
        {
          "output_type": "execute_result",
          "data": {
            "text/plain": [
              "array([      nan,       nan,       nan,       nan,       nan,       nan,\n",
              "             nan,       nan,       nan,       nan,       nan,       nan,\n",
              "        254.5724,  248.0605,  287.3645,  298.9135,  357.7396,  352.3695,\n",
              "        342.8993,  362.2739,  314.1492,  324.5033,  255.5922,  274.2883,\n",
              "        313.5091,  281.9257,  337.3185,  393.3877,  413.542 ,  365.2451,\n",
              "        373.6705,  386.0666,  339.2533,  348.901 ,  315.6016,  355.2609,\n",
              "        338.6477,  331.5918,  381.9072,  425.5386,  486.6894,  453.5596,\n",
              "        441.6863,  428.9022,  431.4678,  421.6681,  343.4307,  379.755 ,\n",
              "        382.5317,  366.3982,  427.1949,  439.995 ,  520.3739,  503.4876,\n",
              "        494.3256,  486.607 ,  476.2905,  454.6739,  460.6924,  614.271 ,\n",
              "        399.6423,  388.8511,  464.8977,  469.1828,  571.562 ,  521.9225,\n",
              "        506.6642,  532.0997,  490.4829,  474.5069,  502.0073,  587.7353,\n",
              "        456.2456,  447.187 ,  494.4502,  498.8308,  590.7496,  541.5775,\n",
              "        557.598 ,  608.0612,  568.5493,  559.5235,  583.1218,  666.8485,\n",
              "        654.982 ,  637.6737,  718.055 ,  734.8058,  798.2438,  747.837 ,\n",
              "        796.5951,  789.3075,  772.0803,  792.8295,  693.8224,  759.0318,\n",
              "        711.043 ,  718.865 ,  744.527 ,  805.872 ,  912.205 ,  860.003 ,\n",
              "        843.0738,  849.1376,  860.5997,  848.283 ,  741.438 ,  919.401 ,\n",
              "       1051.2547,  979.7597, 1139.1124, 1202.5097, 1350.9669, 1351.1707,\n",
              "       1361.362 , 1401.2462, 1365.5085, 1391.0112, 1203.7084, 1341.0761,\n",
              "       1081.8635, 1171.7737, 1480.224 , 1513.5151, 1770.3978, 1684.7248,\n",
              "       1654.376 , 1786.8078, 1586.8407, 1529.9477, 1506.1644, 1565.1123,\n",
              "       1367.5563, 1428.377 , 1691.5896, 1753.3032, 2057.2773, 1923.2802,\n",
              "       1840.3006, 2059.2229, 1885.9905, 1862.2776, 1886.9538, 1932.142 ,\n",
              "       1758.3057, 1823.1898, 2152.8362, 2072.7017, 2534.599 , 2340.2623,\n",
              "       2191.6469, 2334.2835, 2140.9586, 2316.5244, 1962.802 , 1938.7249,\n",
              "       1872.9292, 1856.7782, 2186.5239, 2166.564 , 2480.6564, 2300.5755,\n",
              "       2469.4671, 2514.9439, 2284.105 , 2465.5833, 2047.0797, 2050.7298,\n",
              "       1781.6996, 1942.0303, 2206.3771, 2278.089 , 2477.9622, 2366.006 ,\n",
              "       2278.9294, 2198.5254, 2208.0883, 2759.2451, 1834.3372, 1853.9266,\n",
              "       1642.9594, 1890.6882, 2194.4479, 1867.0471, 1986.2721, 2007.8197,\n",
              "       1919.4754, 1864.1988, 1808.0308, 1756.2439, 1563.7409, 1622.8016,\n",
              "       1374.0619, 1610.3716, 2018.3173, 1853.3743, 2215.0434, 1954.6276,\n",
              "       1937.0854, 2022.7421, 1774.9577, 1784.3884, 1678.5798, 1767.7899,\n",
              "       1443.6509, 1701.9788, 2117.8914, 1939.8625, 2236.9868, 2089.4759,\n",
              "       1972.6129, 2216.8552, 2157.5537, 1976.2471, 1850.3941, 1843.8366,\n",
              "       1555.5014, 1852.2529, 2164.5087, 2104.2749, 2429.1369, 2167.6113,\n",
              "       1926.9582, 1967.1665, 1734.3221, 1848.5677, 1762.57  , 1773.4016,\n",
              "       1588.9104, 1721.9287, 1935.7183, 2050.798 , 2176.62  , 2067.0878,\n",
              "       1945.4921, 2024.0101, 1890.4586, 1973.1587, 1796.2248, 1919.63  ,\n",
              "       1706.7546, 1788.209 , 2182.6248, 2056.9042, 2234.0545, 2095.8672,\n",
              "       2051.0516, 2057.7782, 2015.0182, 2097.4737, 1824.4766, 2291.6336,\n",
              "       1671.4057, 1893.1655, 2305.4392, 2047.7711, 2247.4372, 2198.2765,\n",
              "       2288.9386, 2308.932 , 2097.7903, 2131.7302, 1944.0834, 2241.5383,\n",
              "       1976.3992, 2123.221 , 2235.7849, 2213.3934, 2532.8538, 2366.6498,\n",
              "       2306.0699, 2318.9361, 2441.427 , 2273.9136, 2444.7874, 2397.7077,\n",
              "       2196.0865, 2191.0386, 2678.2118, 2449.3006, 2754.1658, 2609.611 ,\n",
              "       2663.0471, 2678.7156, 2550.7464, 2873.1654, 2473.8381, 2824.9873,\n",
              "       2308.8292, 2292.3587, 2730.9501, 2816.4145, 3232.3766, 3224.4911,\n",
              "       2930.1358, 2961.1494, 2796.1366, 3115.6072, 3005.4157, 3021.2516,\n",
              "       2527.5581, 2506.4369, 3038.1022, 3014.8781, 3387.2534, 3293.2442,\n",
              "       3371.3039, 3487.494 , 3181.9307, 3238.0284, 3006.514 , 3197.7419,\n",
              "       2676.6263, 2803.4988, 4147.1146, 2982.6531, 3541.8263, 3630.6225,\n",
              "       3629.1537, 3654.1707, 3673.8419, 3715.2525, 3491.9473, 3757.2255,\n",
              "       3392.8085, 3264.1015, 4275.0937, 4167.7596, 4677.3251, 4605.3268,\n",
              "       4616.2582, 4776.7196, 4436.0128, 4854.0866, 4689.3135, 4767.7923,\n",
              "       3935.0868])"
            ]
          },
          "metadata": {},
          "execution_count": 13
        }
      ]
    },
    {
      "cell_type": "code",
      "source": [
        "residuals_train = train.values[12:] - model_sn.predict_in_sample()['fitted'][12:]"
      ],
      "metadata": {
        "id": "UZMHxf5lMp1f"
      },
      "execution_count": 14,
      "outputs": []
    },
    {
      "cell_type": "code",
      "source": [
        "residuals_train = train.values[12:] - model_sn.predict_in_sample()['fitted'][12:]\n",
        "residuals_test = test.values - y_hat_dict['mean']"
      ],
      "metadata": {
        "id": "m41Uba_zLEzm"
      },
      "execution_count": 37,
      "outputs": []
    },
    {
      "cell_type": "code",
      "source": [
        "residuals_train = train.values[12:] - model_sn.predict_in_sample()['fitted'][12:]\n",
        "residuals_test = test.values - y_hat_dict['mean']\n",
        "rmse_trian = np.sqrt(np.mean(residuals_train**2))\n",
        "rmse_test = np.sqrt(np.mean(residuals_test**2))"
      ],
      "metadata": {
        "id": "dmwcnXqcJS_a"
      },
      "execution_count": 16,
      "outputs": []
    },
    {
      "cell_type": "code",
      "source": [
        "tabla_modelos = pd.DataFrame(columns=['Modelo', 'RMSE Train', 'RMSE Test', 'Parametros'], data = [['Seasonal Naive', rmse_trian, rmse_test, 0]])"
      ],
      "metadata": {
        "id": "uSkctGruLI99"
      },
      "execution_count": 17,
      "outputs": []
    },
    {
      "cell_type": "code",
      "source": [
        "tabla_modelos"
      ],
      "metadata": {
        "colab": {
          "base_uri": "https://localhost:8080/",
          "height": 89
        },
        "id": "EpYdGaOMLa1F",
        "outputId": "3f06b54e-39a8-4874-fccc-ecf7913e7950"
      },
      "execution_count": 18,
      "outputs": [
        {
          "output_type": "execute_result",
          "data": {
            "text/plain": [
              "           Modelo  RMSE Train  RMSE Test  Parametros\n",
              "0  Seasonal Naive  316.560422    467.073           0"
            ],
            "text/html": [
              "\n",
              "  <div id=\"df-83b5b42d-87ca-4cd0-a256-b78fba659381\" class=\"colab-df-container\">\n",
              "    <div>\n",
              "<style scoped>\n",
              "    .dataframe tbody tr th:only-of-type {\n",
              "        vertical-align: middle;\n",
              "    }\n",
              "\n",
              "    .dataframe tbody tr th {\n",
              "        vertical-align: top;\n",
              "    }\n",
              "\n",
              "    .dataframe thead th {\n",
              "        text-align: right;\n",
              "    }\n",
              "</style>\n",
              "<table border=\"1\" class=\"dataframe\">\n",
              "  <thead>\n",
              "    <tr style=\"text-align: right;\">\n",
              "      <th></th>\n",
              "      <th>Modelo</th>\n",
              "      <th>RMSE Train</th>\n",
              "      <th>RMSE Test</th>\n",
              "      <th>Parametros</th>\n",
              "    </tr>\n",
              "  </thead>\n",
              "  <tbody>\n",
              "    <tr>\n",
              "      <th>0</th>\n",
              "      <td>Seasonal Naive</td>\n",
              "      <td>316.560422</td>\n",
              "      <td>467.073</td>\n",
              "      <td>0</td>\n",
              "    </tr>\n",
              "  </tbody>\n",
              "</table>\n",
              "</div>\n",
              "    <div class=\"colab-df-buttons\">\n",
              "\n",
              "  <div class=\"colab-df-container\">\n",
              "    <button class=\"colab-df-convert\" onclick=\"convertToInteractive('df-83b5b42d-87ca-4cd0-a256-b78fba659381')\"\n",
              "            title=\"Convert this dataframe to an interactive table.\"\n",
              "            style=\"display:none;\">\n",
              "\n",
              "  <svg xmlns=\"http://www.w3.org/2000/svg\" height=\"24px\" viewBox=\"0 -960 960 960\">\n",
              "    <path d=\"M120-120v-720h720v720H120Zm60-500h600v-160H180v160Zm220 220h160v-160H400v160Zm0 220h160v-160H400v160ZM180-400h160v-160H180v160Zm440 0h160v-160H620v160ZM180-180h160v-160H180v160Zm440 0h160v-160H620v160Z\"/>\n",
              "  </svg>\n",
              "    </button>\n",
              "\n",
              "  <style>\n",
              "    .colab-df-container {\n",
              "      display:flex;\n",
              "      gap: 12px;\n",
              "    }\n",
              "\n",
              "    .colab-df-convert {\n",
              "      background-color: #E8F0FE;\n",
              "      border: none;\n",
              "      border-radius: 50%;\n",
              "      cursor: pointer;\n",
              "      display: none;\n",
              "      fill: #1967D2;\n",
              "      height: 32px;\n",
              "      padding: 0 0 0 0;\n",
              "      width: 32px;\n",
              "    }\n",
              "\n",
              "    .colab-df-convert:hover {\n",
              "      background-color: #E2EBFA;\n",
              "      box-shadow: 0px 1px 2px rgba(60, 64, 67, 0.3), 0px 1px 3px 1px rgba(60, 64, 67, 0.15);\n",
              "      fill: #174EA6;\n",
              "    }\n",
              "\n",
              "    .colab-df-buttons div {\n",
              "      margin-bottom: 4px;\n",
              "    }\n",
              "\n",
              "    [theme=dark] .colab-df-convert {\n",
              "      background-color: #3B4455;\n",
              "      fill: #D2E3FC;\n",
              "    }\n",
              "\n",
              "    [theme=dark] .colab-df-convert:hover {\n",
              "      background-color: #434B5C;\n",
              "      box-shadow: 0px 1px 3px 1px rgba(0, 0, 0, 0.15);\n",
              "      filter: drop-shadow(0px 1px 2px rgba(0, 0, 0, 0.3));\n",
              "      fill: #FFFFFF;\n",
              "    }\n",
              "  </style>\n",
              "\n",
              "    <script>\n",
              "      const buttonEl =\n",
              "        document.querySelector('#df-83b5b42d-87ca-4cd0-a256-b78fba659381 button.colab-df-convert');\n",
              "      buttonEl.style.display =\n",
              "        google.colab.kernel.accessAllowed ? 'block' : 'none';\n",
              "\n",
              "      async function convertToInteractive(key) {\n",
              "        const element = document.querySelector('#df-83b5b42d-87ca-4cd0-a256-b78fba659381');\n",
              "        const dataTable =\n",
              "          await google.colab.kernel.invokeFunction('convertToInteractive',\n",
              "                                                    [key], {});\n",
              "        if (!dataTable) return;\n",
              "\n",
              "        const docLinkHtml = 'Like what you see? Visit the ' +\n",
              "          '<a target=\"_blank\" href=https://colab.research.google.com/notebooks/data_table.ipynb>data table notebook</a>'\n",
              "          + ' to learn more about interactive tables.';\n",
              "        element.innerHTML = '';\n",
              "        dataTable['output_type'] = 'display_data';\n",
              "        await google.colab.output.renderOutput(dataTable, element);\n",
              "        const docLink = document.createElement('div');\n",
              "        docLink.innerHTML = docLinkHtml;\n",
              "        element.appendChild(docLink);\n",
              "      }\n",
              "    </script>\n",
              "  </div>\n",
              "\n",
              "\n",
              "  <div id=\"id_b623a8a3-2729-4d7b-82ff-d123cd95a538\">\n",
              "    <style>\n",
              "      .colab-df-generate {\n",
              "        background-color: #E8F0FE;\n",
              "        border: none;\n",
              "        border-radius: 50%;\n",
              "        cursor: pointer;\n",
              "        display: none;\n",
              "        fill: #1967D2;\n",
              "        height: 32px;\n",
              "        padding: 0 0 0 0;\n",
              "        width: 32px;\n",
              "      }\n",
              "\n",
              "      .colab-df-generate:hover {\n",
              "        background-color: #E2EBFA;\n",
              "        box-shadow: 0px 1px 2px rgba(60, 64, 67, 0.3), 0px 1px 3px 1px rgba(60, 64, 67, 0.15);\n",
              "        fill: #174EA6;\n",
              "      }\n",
              "\n",
              "      [theme=dark] .colab-df-generate {\n",
              "        background-color: #3B4455;\n",
              "        fill: #D2E3FC;\n",
              "      }\n",
              "\n",
              "      [theme=dark] .colab-df-generate:hover {\n",
              "        background-color: #434B5C;\n",
              "        box-shadow: 0px 1px 3px 1px rgba(0, 0, 0, 0.15);\n",
              "        filter: drop-shadow(0px 1px 2px rgba(0, 0, 0, 0.3));\n",
              "        fill: #FFFFFF;\n",
              "      }\n",
              "    </style>\n",
              "    <button class=\"colab-df-generate\" onclick=\"generateWithVariable('tabla_modelos')\"\n",
              "            title=\"Generate code using this dataframe.\"\n",
              "            style=\"display:none;\">\n",
              "\n",
              "  <svg xmlns=\"http://www.w3.org/2000/svg\" height=\"24px\"viewBox=\"0 0 24 24\"\n",
              "       width=\"24px\">\n",
              "    <path d=\"M7,19H8.4L18.45,9,17,7.55,7,17.6ZM5,21V16.75L18.45,3.32a2,2,0,0,1,2.83,0l1.4,1.43a1.91,1.91,0,0,1,.58,1.4,1.91,1.91,0,0,1-.58,1.4L9.25,21ZM18.45,9,17,7.55Zm-12,3A5.31,5.31,0,0,0,4.9,8.1,5.31,5.31,0,0,0,1,6.5,5.31,5.31,0,0,0,4.9,4.9,5.31,5.31,0,0,0,6.5,1,5.31,5.31,0,0,0,8.1,4.9,5.31,5.31,0,0,0,12,6.5,5.46,5.46,0,0,0,6.5,12Z\"/>\n",
              "  </svg>\n",
              "    </button>\n",
              "    <script>\n",
              "      (() => {\n",
              "      const buttonEl =\n",
              "        document.querySelector('#id_b623a8a3-2729-4d7b-82ff-d123cd95a538 button.colab-df-generate');\n",
              "      buttonEl.style.display =\n",
              "        google.colab.kernel.accessAllowed ? 'block' : 'none';\n",
              "\n",
              "      buttonEl.onclick = () => {\n",
              "        google.colab.notebook.generateWithVariable('tabla_modelos');\n",
              "      }\n",
              "      })();\n",
              "    </script>\n",
              "  </div>\n",
              "\n",
              "    </div>\n",
              "  </div>\n"
            ],
            "application/vnd.google.colaboratory.intrinsic+json": {
              "type": "dataframe",
              "variable_name": "tabla_modelos",
              "summary": "{\n  \"name\": \"tabla_modelos\",\n  \"rows\": 1,\n  \"fields\": [\n    {\n      \"column\": \"Modelo\",\n      \"properties\": {\n        \"dtype\": \"string\",\n        \"num_unique_values\": 1,\n        \"samples\": [\n          \"Seasonal Naive\"\n        ],\n        \"semantic_type\": \"\",\n        \"description\": \"\"\n      }\n    },\n    {\n      \"column\": \"RMSE Train\",\n      \"properties\": {\n        \"dtype\": \"number\",\n        \"std\": null,\n        \"min\": 316.56042223234,\n        \"max\": 316.56042223234,\n        \"num_unique_values\": 1,\n        \"samples\": [\n          316.56042223234\n        ],\n        \"semantic_type\": \"\",\n        \"description\": \"\"\n      }\n    },\n    {\n      \"column\": \"RMSE Test\",\n      \"properties\": {\n        \"dtype\": \"number\",\n        \"std\": null,\n        \"min\": 467.0730002850337,\n        \"max\": 467.0730002850337,\n        \"num_unique_values\": 1,\n        \"samples\": [\n          467.0730002850337\n        ],\n        \"semantic_type\": \"\",\n        \"description\": \"\"\n      }\n    },\n    {\n      \"column\": \"Parametros\",\n      \"properties\": {\n        \"dtype\": \"number\",\n        \"std\": null,\n        \"min\": 0,\n        \"max\": 0,\n        \"num_unique_values\": 1,\n        \"samples\": [\n          0\n        ],\n        \"semantic_type\": \"\",\n        \"description\": \"\"\n      }\n    }\n  ]\n}"
            }
          },
          "metadata": {},
          "execution_count": 18
        }
      ]
    },
    {
      "cell_type": "markdown",
      "source": [
        "## RMSE\n",
        "\n",
        "En machine learning, el RMSE (Root Mean Squared Error o Raíz del Error Cuadrático Medio) es una métrica comúnmente utilizada para evaluar el rendimiento de un modelo en problemas de regresión. Estas son algunas de sus principales ventajas:\n",
        "\n",
        "* Penaliza los errores grandes: Como el RMSE eleva al cuadrado las diferencias\n",
        "entre las predicciones y los valores reales antes de promediar, los errores más grandes tienen un impacto mayor en la métrica final. Esto es útil cuando deseas que el modelo sea particularmente sensible a los errores grandes.\n",
        "* Fácil interpretación: El RMSE está en la misma escala que la variable de salida, lo que facilita su interpretación. Por ejemplo, si estás prediciendo precios de casas en miles de dólares, un RMSE de 5 significa que el error promedio es de 5,000 dólares.\n",
        "* Sensibilidad a cambios pequeños: Debido a la elevación al cuadrado, el RMSE puede detectar cambios pequeños en las predicciones, lo que lo hace adecuado cuando se busca mejorar el modelo finamente.\n",
        "* Comparación entre modelos: RMSE es una métrica estándar ampliamente utilizada, lo que facilita la comparación del rendimiento de diferentes modelos de regresión en un conjunto de datos específico.\n",
        "* Diferenciable: En el contexto del entrenamiento de modelos basados en métodos de optimización como el gradiente descendente, el RMSE es una función diferenciable, lo que permite calcular su gradiente y optimizar los pesos del modelo de manera eficiente.\n",
        "\n",
        "## R-cuadrada\n",
        "\n",
        "La principal diferencia entre RMSE (Root Mean Squared Error) y R-cuadrada (Coeficiente de Determinación) radica en el tipo de información que ofrecen y en cómo se interpretan en el contexto de los modelos de regresión.\n",
        "\n",
        "1. RMSE (Root Mean Squared Error)\n",
        "Métrica de error: El RMSE mide directamente el error promedio de las predicciones de un modelo. Cuantifica la magnitud del error en las predicciones del modelo, representando la distancia media entre los valores observados y los valores predichos.\n",
        "Interpretación: Se interpreta en las mismas unidades que la variable dependiente o de salida. Un RMSE más bajo indica un modelo más preciso, pero no proporciona un sentido claro de qué tan bien el modelo está explicando la variabilidad de los datos.\n",
        "Escala: Depende de las unidades de la variable dependiente. Esto significa que puede ser difícil comparar el RMSE entre modelos aplicados a diferentes conjuntos de datos o variables de diferentes escalas.\n",
        "2. R-cuadrada (Coeficiente de Determinación)\n",
        "* Métrica de ajuste: mide qué proporción de la variabilidad total en los datos de salida está explicada por el modelo. No mide el error en sí, sino qué tan bien las predicciones del modelo capturan las tendencias generales en los datos.\n",
        "* Interpretación: va de 0 a 1 (o puede ser negativo si el modelo es peor que una línea de base), donde:\n",
        "*   =1 significa que el modelo predice perfectamente todos los puntos.\n",
        "\n",
        "*  =0 significa que el modelo no predice mejor que la media de los datos (es decir, no explica nada de la variabilidad).\n",
        "*   < 0 significa que el modelo es peor que simplemente usar la media como predicción.\n",
        "\n",
        "* Escala relativa: Como es una proporción, es más fácil de interpretar y comparar entre diferentes modelos o conjuntos de datos, ya que no está influenciado por las unidades de la variable dependiente.\n",
        "\n",
        "3. Comparación clave:\n",
        "* RMSE se centra en la magnitud del error en las predicciones. Si el RMSE es pequeño, significa que el modelo predice bien en términos absolutos.\n",
        "* R-cuadrada se enfoca en la proporción de la variabilidad de los datos que el modelo puede explicar. Un alto R-cuadrada significa que el modelo está capturando bien las tendencias generales de los datos, pero no garantiza que los errores individuales sean pequeños (ahí es donde entra el RMSE).\n",
        "\n",
        "**En resumen:**\n",
        "\n",
        "* RMSE te dice \"cuánto se están equivocando las predicciones en promedio.\n",
        "* R-cuadrada \"te dice \"qué porcentaje de la variabilidad en los datos está siendo explicado por el modelo.\"\n",
        "\n",
        "Ambas métricas son útiles, pero proporcionan información diferente. Es común usar ambas para evaluar modelos de regresión.\n",
        "\n",
        "$$\n",
        "R_{2} = 1 - \\frac{SS_{res}}{SS_{tot}}\n",
        "$$\n",
        "\n",
        "$ SS_{res} $: es la suma de los cuadrados de los residuos (pronósticos) (también llamado error residual)\n",
        "\n",
        "$ SS_{tot} $: es la suma total de los cuadrados (media) (también llamado total de la variabilidad):"
      ],
      "metadata": {
        "id": "bi40LZKtLxtX"
      }
    },
    {
      "cell_type": "markdown",
      "source": [
        "## Decomposición"
      ],
      "metadata": {
        "id": "B25G8RTUl8tB"
      }
    },
    {
      "cell_type": "code",
      "source": [
        "from statsmodels.tsa.seasonal import seasonal_decompose\n",
        "result = seasonal_decompose(train, model='additive')\n",
        "print(result.trend)\n",
        "print(result.seasonal)\n",
        "print(result.resid)\n",
        "print(result.observed)"
      ],
      "metadata": {
        "colab": {
          "base_uri": "https://localhost:8080/"
        },
        "id": "t5y5hY5GN8Q1",
        "outputId": "dd1b504c-0fd9-4522-83f4-75b9decd18bf"
      },
      "execution_count": 20,
      "outputs": [
        {
          "output_type": "stream",
          "name": "stdout",
          "text": [
            "Fecha\n",
            "1995-01-01   NaN\n",
            "1995-02-01   NaN\n",
            "1995-03-01   NaN\n",
            "1995-04-01   NaN\n",
            "1995-05-01   NaN\n",
            "              ..\n",
            "2022-09-01   NaN\n",
            "2022-10-01   NaN\n",
            "2022-11-01   NaN\n",
            "2022-12-01   NaN\n",
            "2023-01-01   NaN\n",
            "Name: trend, Length: 337, dtype: float64\n",
            "Fecha\n",
            "1995-01-01   -289.141684\n",
            "1995-02-01   -238.510377\n",
            "1995-03-01     88.183928\n",
            "1995-04-01     -4.544499\n",
            "1995-05-01    229.499669\n",
            "                 ...    \n",
            "2022-09-01     -4.680994\n",
            "2022-10-01     52.169448\n",
            "2022-11-01   -122.082215\n",
            "2022-12-01    -33.325633\n",
            "2023-01-01   -289.141684\n",
            "Name: seasonal, Length: 337, dtype: float64\n",
            "Fecha\n",
            "1995-01-01   NaN\n",
            "1995-02-01   NaN\n",
            "1995-03-01   NaN\n",
            "1995-04-01   NaN\n",
            "1995-05-01   NaN\n",
            "              ..\n",
            "2022-09-01   NaN\n",
            "2022-10-01   NaN\n",
            "2022-11-01   NaN\n",
            "2022-12-01   NaN\n",
            "2023-01-01   NaN\n",
            "Name: resid, Length: 337, dtype: float64\n",
            "Fecha\n",
            "1995-01-01     254.5724\n",
            "1995-02-01     248.0605\n",
            "1995-03-01     287.3645\n",
            "1995-04-01     298.9135\n",
            "1995-05-01     357.7396\n",
            "                ...    \n",
            "2022-09-01    5078.5862\n",
            "2022-10-01    5404.6702\n",
            "2022-11-01    4853.7460\n",
            "2022-12-01    5379.1316\n",
            "2023-01-01    4434.7719\n",
            "Name: Remesas Totales, Length: 337, dtype: float64\n"
          ]
        }
      ]
    },
    {
      "cell_type": "code",
      "source": [
        "tendencia = result.trend"
      ],
      "metadata": {
        "id": "fmW3jwHNN8NQ"
      },
      "execution_count": 25,
      "outputs": []
    },
    {
      "cell_type": "code",
      "source": [
        "# prompt: remove nan observations from tendencia\n",
        "\n",
        "tendencia = tendencia.dropna()\n"
      ],
      "metadata": {
        "id": "hWZQC8O4nbrY"
      },
      "execution_count": 33,
      "outputs": []
    },
    {
      "cell_type": "code",
      "source": [
        "tendencia.tail()"
      ],
      "metadata": {
        "colab": {
          "base_uri": "https://localhost:8080/",
          "height": 271
        },
        "id": "BDnO1dBhnq7z",
        "outputId": "40ea76b3-b2c8-4f2b-bb9f-f84e7cc4ee3c"
      },
      "execution_count": 34,
      "outputs": [
        {
          "output_type": "execute_result",
          "data": {
            "text/plain": [
              "Fecha\n",
              "2022-03-01    4768.348842\n",
              "2022-04-01    4818.063717\n",
              "2022-05-01    4847.856054\n",
              "2022-06-01    4880.179879\n",
              "2022-07-01    4926.472562\n",
              "Name: trend, dtype: float64"
            ],
            "text/html": [
              "<div>\n",
              "<style scoped>\n",
              "    .dataframe tbody tr th:only-of-type {\n",
              "        vertical-align: middle;\n",
              "    }\n",
              "\n",
              "    .dataframe tbody tr th {\n",
              "        vertical-align: top;\n",
              "    }\n",
              "\n",
              "    .dataframe thead th {\n",
              "        text-align: right;\n",
              "    }\n",
              "</style>\n",
              "<table border=\"1\" class=\"dataframe\">\n",
              "  <thead>\n",
              "    <tr style=\"text-align: right;\">\n",
              "      <th></th>\n",
              "      <th>trend</th>\n",
              "    </tr>\n",
              "    <tr>\n",
              "      <th>Fecha</th>\n",
              "      <th></th>\n",
              "    </tr>\n",
              "  </thead>\n",
              "  <tbody>\n",
              "    <tr>\n",
              "      <th>2022-03-01</th>\n",
              "      <td>4768.348842</td>\n",
              "    </tr>\n",
              "    <tr>\n",
              "      <th>2022-04-01</th>\n",
              "      <td>4818.063717</td>\n",
              "    </tr>\n",
              "    <tr>\n",
              "      <th>2022-05-01</th>\n",
              "      <td>4847.856054</td>\n",
              "    </tr>\n",
              "    <tr>\n",
              "      <th>2022-06-01</th>\n",
              "      <td>4880.179879</td>\n",
              "    </tr>\n",
              "    <tr>\n",
              "      <th>2022-07-01</th>\n",
              "      <td>4926.472562</td>\n",
              "    </tr>\n",
              "  </tbody>\n",
              "</table>\n",
              "</div><br><label><b>dtype:</b> float64</label>"
            ]
          },
          "metadata": {},
          "execution_count": 34
        }
      ]
    },
    {
      "cell_type": "code",
      "source": [
        "from statsforecast.models import RandomWalkWithDrift"
      ],
      "metadata": {
        "id": "tqlNn_KMN8KX"
      },
      "execution_count": 26,
      "outputs": []
    },
    {
      "cell_type": "code",
      "source": [
        "model__stl_drift = RandomWalkWithDrift()\n",
        "model__stl_drift = model__stl_drift.fit(y=tendencia.values)\n",
        "y_hat_dict_trend = model__stl_drift.predict(h=horizon)\n",
        "\n",
        "y_hat_dict_trend['mean']\n",
        "len(model__stl_drift.predict_in_sample()[\"fitted\"])"
      ],
      "metadata": {
        "colab": {
          "base_uri": "https://localhost:8080/"
        },
        "id": "72tPdWr2N8BX",
        "outputId": "02f5fa8c-b821-4de8-9351-893551514a58"
      },
      "execution_count": 113,
      "outputs": [
        {
          "output_type": "execute_result",
          "data": {
            "text/plain": [
              "325"
            ]
          },
          "metadata": {},
          "execution_count": 113
        }
      ]
    },
    {
      "cell_type": "code",
      "source": [
        "season = result.seasonal"
      ],
      "metadata": {
        "id": "WLyIMpFpm5U9"
      },
      "execution_count": 114,
      "outputs": []
    },
    {
      "cell_type": "code",
      "source": [
        "model_sn = SeasonalNaive(season_length=12)\n",
        "model_sn = model_sn.fit(y=season.values)\n",
        "y_hat_dict_season = model_sn.predict(h=horizon)\n",
        "\n",
        "y_hat_dict_season['mean']\n",
        "season_train_predict = model_sn.predict_in_sample()[\"fitted\"]"
      ],
      "metadata": {
        "id": "xERGukuKm5NK"
      },
      "execution_count": 115,
      "outputs": []
    },
    {
      "cell_type": "code",
      "source": [
        "season_train_predict = season_train_predict[~np.isnan(season_train_predict)]"
      ],
      "metadata": {
        "id": "tTsLofOApYju"
      },
      "execution_count": 116,
      "outputs": []
    },
    {
      "cell_type": "code",
      "source": [
        "len(season_train_predict)"
      ],
      "metadata": {
        "colab": {
          "base_uri": "https://localhost:8080/"
        },
        "id": "ApaUF9hMpI84",
        "outputId": "a06f2cec-467e-4fda-a7cc-0996e31533f3"
      },
      "execution_count": 117,
      "outputs": [
        {
          "output_type": "execute_result",
          "data": {
            "text/plain": [
              "325"
            ]
          },
          "metadata": {},
          "execution_count": 117
        }
      ]
    },
    {
      "cell_type": "code",
      "source": [
        "predict_stl = model__stl_drift.predict_in_sample()[\"fitted\"] + season_train_predict"
      ],
      "metadata": {
        "id": "fdLEbLZ3p0UG"
      },
      "execution_count": 118,
      "outputs": []
    },
    {
      "cell_type": "code",
      "source": [
        "y_hat = y_hat_dict_trend['mean'] + y_hat_dict_season['mean']"
      ],
      "metadata": {
        "id": "F6warSNLoGZJ"
      },
      "execution_count": 119,
      "outputs": []
    },
    {
      "cell_type": "code",
      "source": [
        "predict_stl[0] = train.values[12]"
      ],
      "metadata": {
        "colab": {
          "base_uri": "https://localhost:8080/",
          "height": 231
        },
        "id": "QntwiLzrqKuo",
        "outputId": "6e610b51-d6c3-4549-f132-23882cb6bde8"
      },
      "execution_count": 120,
      "outputs": [
        {
          "output_type": "error",
          "ename": "ValueError",
          "evalue": "setting an array element with a sequence.",
          "traceback": [
            "\u001b[0;31m---------------------------------------------------------------------------\u001b[0m",
            "\u001b[0;31mTypeError\u001b[0m                                 Traceback (most recent call last)",
            "\u001b[0;31mTypeError\u001b[0m: only length-1 arrays can be converted to Python scalars",
            "\nThe above exception was the direct cause of the following exception:\n",
            "\u001b[0;31mValueError\u001b[0m                                Traceback (most recent call last)",
            "\u001b[0;32m<ipython-input-120-b60119994eb0>\u001b[0m in \u001b[0;36m<cell line: 1>\u001b[0;34m()\u001b[0m\n\u001b[0;32m----> 1\u001b[0;31m \u001b[0mpredict_stl\u001b[0m\u001b[0;34m[\u001b[0m\u001b[0;36m0\u001b[0m\u001b[0;34m]\u001b[0m \u001b[0;34m=\u001b[0m \u001b[0mtrain\u001b[0m\u001b[0;34m.\u001b[0m\u001b[0mvalues\u001b[0m\u001b[0;34m[\u001b[0m\u001b[0;36m12\u001b[0m\u001b[0;34m]\u001b[0m\u001b[0;34m\u001b[0m\u001b[0;34m\u001b[0m\u001b[0m\n\u001b[0m",
            "\u001b[0;31mValueError\u001b[0m: setting an array element with a sequence."
          ]
        }
      ]
    },
    {
      "cell_type": "code",
      "source": [
        "residuals_train = train.values[12:] - predict_stl\n",
        "residuals_test = test.values - y_hat\n",
        "rmse_train = np.sqrt(np.mean(residuals_train**2))\n",
        "rmse_test = np.sqrt(np.mean(residuals_test**2))"
      ],
      "metadata": {
        "id": "juNiXtwfm5F-"
      },
      "execution_count": 67,
      "outputs": []
    },
    {
      "cell_type": "code",
      "source": [
        "rmse_test, rmse_train"
      ],
      "metadata": {
        "colab": {
          "base_uri": "https://localhost:8080/"
        },
        "id": "4r20T3mgm5Cx",
        "outputId": "77a79f85-cf69-4de8-e5ad-c652e86724b3"
      },
      "execution_count": 68,
      "outputs": [
        {
          "output_type": "execute_result",
          "data": {
            "text/plain": [
              "(438.17875234271077, 215.93778433850665)"
            ]
          },
          "metadata": {},
          "execution_count": 68
        }
      ]
    },
    {
      "cell_type": "code",
      "source": [
        "tabla_modelos = pd.concat([tabla_modelos,\n",
        "           pd.DataFrame(columns=['Modelo', 'RMSE Train', 'RMSE Test', 'Parametros'],\n",
        "                        data = [['STL', rmse_train, rmse_test, 0]])])"
      ],
      "metadata": {
        "id": "39r_HoRDLcy2"
      },
      "execution_count": 109,
      "outputs": []
    },
    {
      "cell_type": "markdown",
      "source": [
        "## Regresión"
      ],
      "metadata": {
        "id": "BjF9O5WYrpQh"
      }
    },
    {
      "cell_type": "code",
      "source": [
        "stock = 'MXN=X'\n",
        "ticker = yf.Ticker(stock)\n",
        "usdmxn = ticker.history(start= '1993-01-01', end= '2024-07-31', interval='1mo')['Close']\n",
        "\n",
        "usdmxn.tail()"
      ],
      "metadata": {
        "colab": {
          "base_uri": "https://localhost:8080/",
          "height": 271
        },
        "id": "1nhCq6_qro9E",
        "outputId": "f315f2c3-06cc-4c14-cc70-bc502efa82c1"
      },
      "execution_count": 74,
      "outputs": [
        {
          "output_type": "execute_result",
          "data": {
            "text/plain": [
              "Date\n",
              "2024-03-01 00:00:00+00:00    16.546101\n",
              "2024-04-01 00:00:00+01:00    17.011560\n",
              "2024-05-01 00:00:00+01:00    17.005819\n",
              "2024-06-01 00:00:00+01:00    18.323500\n",
              "2024-07-01 00:00:00+01:00    18.752800\n",
              "Name: Close, dtype: float64"
            ],
            "text/html": [
              "<div>\n",
              "<style scoped>\n",
              "    .dataframe tbody tr th:only-of-type {\n",
              "        vertical-align: middle;\n",
              "    }\n",
              "\n",
              "    .dataframe tbody tr th {\n",
              "        vertical-align: top;\n",
              "    }\n",
              "\n",
              "    .dataframe thead th {\n",
              "        text-align: right;\n",
              "    }\n",
              "</style>\n",
              "<table border=\"1\" class=\"dataframe\">\n",
              "  <thead>\n",
              "    <tr style=\"text-align: right;\">\n",
              "      <th></th>\n",
              "      <th>Close</th>\n",
              "    </tr>\n",
              "    <tr>\n",
              "      <th>Date</th>\n",
              "      <th></th>\n",
              "    </tr>\n",
              "  </thead>\n",
              "  <tbody>\n",
              "    <tr>\n",
              "      <th>2024-03-01 00:00:00+00:00</th>\n",
              "      <td>16.546101</td>\n",
              "    </tr>\n",
              "    <tr>\n",
              "      <th>2024-04-01 00:00:00+01:00</th>\n",
              "      <td>17.011560</td>\n",
              "    </tr>\n",
              "    <tr>\n",
              "      <th>2024-05-01 00:00:00+01:00</th>\n",
              "      <td>17.005819</td>\n",
              "    </tr>\n",
              "    <tr>\n",
              "      <th>2024-06-01 00:00:00+01:00</th>\n",
              "      <td>18.323500</td>\n",
              "    </tr>\n",
              "    <tr>\n",
              "      <th>2024-07-01 00:00:00+01:00</th>\n",
              "      <td>18.752800</td>\n",
              "    </tr>\n",
              "  </tbody>\n",
              "</table>\n",
              "</div><br><label><b>dtype:</b> float64</label>"
            ]
          },
          "metadata": {},
          "execution_count": 74
        }
      ]
    },
    {
      "cell_type": "code",
      "source": [
        "data = data[\"2003\":]"
      ],
      "metadata": {
        "id": "jTcAx2IKLoFC"
      },
      "execution_count": 77,
      "outputs": []
    },
    {
      "cell_type": "code",
      "source": [
        "usdmxn.index = usdmxn.index.strftime('%Y-%m')\n",
        "usdmxn.index = pd.to_datetime(usdmxn.index)\n",
        "usdmxn.head()"
      ],
      "metadata": {
        "colab": {
          "base_uri": "https://localhost:8080/",
          "height": 271
        },
        "id": "Nc6olr2ksIF8",
        "outputId": "39573aa9-2eb8-4a68-d7dc-7011487e8511"
      },
      "execution_count": 76,
      "outputs": [
        {
          "output_type": "execute_result",
          "data": {
            "text/plain": [
              "Date\n",
              "2003-12-01    11.191\n",
              "2004-01-01    11.048\n",
              "2004-02-01    11.055\n",
              "2004-03-01    11.105\n",
              "2004-04-01    11.352\n",
              "Name: Close, dtype: float64"
            ],
            "text/html": [
              "<div>\n",
              "<style scoped>\n",
              "    .dataframe tbody tr th:only-of-type {\n",
              "        vertical-align: middle;\n",
              "    }\n",
              "\n",
              "    .dataframe tbody tr th {\n",
              "        vertical-align: top;\n",
              "    }\n",
              "\n",
              "    .dataframe thead th {\n",
              "        text-align: right;\n",
              "    }\n",
              "</style>\n",
              "<table border=\"1\" class=\"dataframe\">\n",
              "  <thead>\n",
              "    <tr style=\"text-align: right;\">\n",
              "      <th></th>\n",
              "      <th>Close</th>\n",
              "    </tr>\n",
              "    <tr>\n",
              "      <th>Date</th>\n",
              "      <th></th>\n",
              "    </tr>\n",
              "  </thead>\n",
              "  <tbody>\n",
              "    <tr>\n",
              "      <th>2003-12-01</th>\n",
              "      <td>11.191</td>\n",
              "    </tr>\n",
              "    <tr>\n",
              "      <th>2004-01-01</th>\n",
              "      <td>11.048</td>\n",
              "    </tr>\n",
              "    <tr>\n",
              "      <th>2004-02-01</th>\n",
              "      <td>11.055</td>\n",
              "    </tr>\n",
              "    <tr>\n",
              "      <th>2004-03-01</th>\n",
              "      <td>11.105</td>\n",
              "    </tr>\n",
              "    <tr>\n",
              "      <th>2004-04-01</th>\n",
              "      <td>11.352</td>\n",
              "    </tr>\n",
              "  </tbody>\n",
              "</table>\n",
              "</div><br><label><b>dtype:</b> float64</label>"
            ]
          },
          "metadata": {},
          "execution_count": 76
        }
      ]
    },
    {
      "cell_type": "code",
      "source": [
        "data = pd.DataFrame(data.values, columns=['Y'], index=data.index)\n",
        "data.head()"
      ],
      "metadata": {
        "colab": {
          "base_uri": "https://localhost:8080/",
          "height": 236
        },
        "id": "_z3UwT_xsZLn",
        "outputId": "ee58167e-e641-48e5-8bfb-b943cc9a173b"
      },
      "execution_count": 78,
      "outputs": [
        {
          "output_type": "execute_result",
          "data": {
            "text/plain": [
              "                    Y\n",
              "Fecha                \n",
              "2003-01-01  1051.2547\n",
              "2003-02-01   979.7597\n",
              "2003-03-01  1139.1124\n",
              "2003-04-01  1202.5097\n",
              "2003-05-01  1350.9669"
            ],
            "text/html": [
              "\n",
              "  <div id=\"df-970b3d67-37bd-4ff9-8b7f-04c95e5fc4b4\" class=\"colab-df-container\">\n",
              "    <div>\n",
              "<style scoped>\n",
              "    .dataframe tbody tr th:only-of-type {\n",
              "        vertical-align: middle;\n",
              "    }\n",
              "\n",
              "    .dataframe tbody tr th {\n",
              "        vertical-align: top;\n",
              "    }\n",
              "\n",
              "    .dataframe thead th {\n",
              "        text-align: right;\n",
              "    }\n",
              "</style>\n",
              "<table border=\"1\" class=\"dataframe\">\n",
              "  <thead>\n",
              "    <tr style=\"text-align: right;\">\n",
              "      <th></th>\n",
              "      <th>Y</th>\n",
              "    </tr>\n",
              "    <tr>\n",
              "      <th>Fecha</th>\n",
              "      <th></th>\n",
              "    </tr>\n",
              "  </thead>\n",
              "  <tbody>\n",
              "    <tr>\n",
              "      <th>2003-01-01</th>\n",
              "      <td>1051.2547</td>\n",
              "    </tr>\n",
              "    <tr>\n",
              "      <th>2003-02-01</th>\n",
              "      <td>979.7597</td>\n",
              "    </tr>\n",
              "    <tr>\n",
              "      <th>2003-03-01</th>\n",
              "      <td>1139.1124</td>\n",
              "    </tr>\n",
              "    <tr>\n",
              "      <th>2003-04-01</th>\n",
              "      <td>1202.5097</td>\n",
              "    </tr>\n",
              "    <tr>\n",
              "      <th>2003-05-01</th>\n",
              "      <td>1350.9669</td>\n",
              "    </tr>\n",
              "  </tbody>\n",
              "</table>\n",
              "</div>\n",
              "    <div class=\"colab-df-buttons\">\n",
              "\n",
              "  <div class=\"colab-df-container\">\n",
              "    <button class=\"colab-df-convert\" onclick=\"convertToInteractive('df-970b3d67-37bd-4ff9-8b7f-04c95e5fc4b4')\"\n",
              "            title=\"Convert this dataframe to an interactive table.\"\n",
              "            style=\"display:none;\">\n",
              "\n",
              "  <svg xmlns=\"http://www.w3.org/2000/svg\" height=\"24px\" viewBox=\"0 -960 960 960\">\n",
              "    <path d=\"M120-120v-720h720v720H120Zm60-500h600v-160H180v160Zm220 220h160v-160H400v160Zm0 220h160v-160H400v160ZM180-400h160v-160H180v160Zm440 0h160v-160H620v160ZM180-180h160v-160H180v160Zm440 0h160v-160H620v160Z\"/>\n",
              "  </svg>\n",
              "    </button>\n",
              "\n",
              "  <style>\n",
              "    .colab-df-container {\n",
              "      display:flex;\n",
              "      gap: 12px;\n",
              "    }\n",
              "\n",
              "    .colab-df-convert {\n",
              "      background-color: #E8F0FE;\n",
              "      border: none;\n",
              "      border-radius: 50%;\n",
              "      cursor: pointer;\n",
              "      display: none;\n",
              "      fill: #1967D2;\n",
              "      height: 32px;\n",
              "      padding: 0 0 0 0;\n",
              "      width: 32px;\n",
              "    }\n",
              "\n",
              "    .colab-df-convert:hover {\n",
              "      background-color: #E2EBFA;\n",
              "      box-shadow: 0px 1px 2px rgba(60, 64, 67, 0.3), 0px 1px 3px 1px rgba(60, 64, 67, 0.15);\n",
              "      fill: #174EA6;\n",
              "    }\n",
              "\n",
              "    .colab-df-buttons div {\n",
              "      margin-bottom: 4px;\n",
              "    }\n",
              "\n",
              "    [theme=dark] .colab-df-convert {\n",
              "      background-color: #3B4455;\n",
              "      fill: #D2E3FC;\n",
              "    }\n",
              "\n",
              "    [theme=dark] .colab-df-convert:hover {\n",
              "      background-color: #434B5C;\n",
              "      box-shadow: 0px 1px 3px 1px rgba(0, 0, 0, 0.15);\n",
              "      filter: drop-shadow(0px 1px 2px rgba(0, 0, 0, 0.3));\n",
              "      fill: #FFFFFF;\n",
              "    }\n",
              "  </style>\n",
              "\n",
              "    <script>\n",
              "      const buttonEl =\n",
              "        document.querySelector('#df-970b3d67-37bd-4ff9-8b7f-04c95e5fc4b4 button.colab-df-convert');\n",
              "      buttonEl.style.display =\n",
              "        google.colab.kernel.accessAllowed ? 'block' : 'none';\n",
              "\n",
              "      async function convertToInteractive(key) {\n",
              "        const element = document.querySelector('#df-970b3d67-37bd-4ff9-8b7f-04c95e5fc4b4');\n",
              "        const dataTable =\n",
              "          await google.colab.kernel.invokeFunction('convertToInteractive',\n",
              "                                                    [key], {});\n",
              "        if (!dataTable) return;\n",
              "\n",
              "        const docLinkHtml = 'Like what you see? Visit the ' +\n",
              "          '<a target=\"_blank\" href=https://colab.research.google.com/notebooks/data_table.ipynb>data table notebook</a>'\n",
              "          + ' to learn more about interactive tables.';\n",
              "        element.innerHTML = '';\n",
              "        dataTable['output_type'] = 'display_data';\n",
              "        await google.colab.output.renderOutput(dataTable, element);\n",
              "        const docLink = document.createElement('div');\n",
              "        docLink.innerHTML = docLinkHtml;\n",
              "        element.appendChild(docLink);\n",
              "      }\n",
              "    </script>\n",
              "  </div>\n",
              "\n",
              "\n",
              "<div id=\"df-423bb988-2b5f-447e-a04a-6a7d60e3d70d\">\n",
              "  <button class=\"colab-df-quickchart\" onclick=\"quickchart('df-423bb988-2b5f-447e-a04a-6a7d60e3d70d')\"\n",
              "            title=\"Suggest charts\"\n",
              "            style=\"display:none;\">\n",
              "\n",
              "<svg xmlns=\"http://www.w3.org/2000/svg\" height=\"24px\"viewBox=\"0 0 24 24\"\n",
              "     width=\"24px\">\n",
              "    <g>\n",
              "        <path d=\"M19 3H5c-1.1 0-2 .9-2 2v14c0 1.1.9 2 2 2h14c1.1 0 2-.9 2-2V5c0-1.1-.9-2-2-2zM9 17H7v-7h2v7zm4 0h-2V7h2v10zm4 0h-2v-4h2v4z\"/>\n",
              "    </g>\n",
              "</svg>\n",
              "  </button>\n",
              "\n",
              "<style>\n",
              "  .colab-df-quickchart {\n",
              "      --bg-color: #E8F0FE;\n",
              "      --fill-color: #1967D2;\n",
              "      --hover-bg-color: #E2EBFA;\n",
              "      --hover-fill-color: #174EA6;\n",
              "      --disabled-fill-color: #AAA;\n",
              "      --disabled-bg-color: #DDD;\n",
              "  }\n",
              "\n",
              "  [theme=dark] .colab-df-quickchart {\n",
              "      --bg-color: #3B4455;\n",
              "      --fill-color: #D2E3FC;\n",
              "      --hover-bg-color: #434B5C;\n",
              "      --hover-fill-color: #FFFFFF;\n",
              "      --disabled-bg-color: #3B4455;\n",
              "      --disabled-fill-color: #666;\n",
              "  }\n",
              "\n",
              "  .colab-df-quickchart {\n",
              "    background-color: var(--bg-color);\n",
              "    border: none;\n",
              "    border-radius: 50%;\n",
              "    cursor: pointer;\n",
              "    display: none;\n",
              "    fill: var(--fill-color);\n",
              "    height: 32px;\n",
              "    padding: 0;\n",
              "    width: 32px;\n",
              "  }\n",
              "\n",
              "  .colab-df-quickchart:hover {\n",
              "    background-color: var(--hover-bg-color);\n",
              "    box-shadow: 0 1px 2px rgba(60, 64, 67, 0.3), 0 1px 3px 1px rgba(60, 64, 67, 0.15);\n",
              "    fill: var(--button-hover-fill-color);\n",
              "  }\n",
              "\n",
              "  .colab-df-quickchart-complete:disabled,\n",
              "  .colab-df-quickchart-complete:disabled:hover {\n",
              "    background-color: var(--disabled-bg-color);\n",
              "    fill: var(--disabled-fill-color);\n",
              "    box-shadow: none;\n",
              "  }\n",
              "\n",
              "  .colab-df-spinner {\n",
              "    border: 2px solid var(--fill-color);\n",
              "    border-color: transparent;\n",
              "    border-bottom-color: var(--fill-color);\n",
              "    animation:\n",
              "      spin 1s steps(1) infinite;\n",
              "  }\n",
              "\n",
              "  @keyframes spin {\n",
              "    0% {\n",
              "      border-color: transparent;\n",
              "      border-bottom-color: var(--fill-color);\n",
              "      border-left-color: var(--fill-color);\n",
              "    }\n",
              "    20% {\n",
              "      border-color: transparent;\n",
              "      border-left-color: var(--fill-color);\n",
              "      border-top-color: var(--fill-color);\n",
              "    }\n",
              "    30% {\n",
              "      border-color: transparent;\n",
              "      border-left-color: var(--fill-color);\n",
              "      border-top-color: var(--fill-color);\n",
              "      border-right-color: var(--fill-color);\n",
              "    }\n",
              "    40% {\n",
              "      border-color: transparent;\n",
              "      border-right-color: var(--fill-color);\n",
              "      border-top-color: var(--fill-color);\n",
              "    }\n",
              "    60% {\n",
              "      border-color: transparent;\n",
              "      border-right-color: var(--fill-color);\n",
              "    }\n",
              "    80% {\n",
              "      border-color: transparent;\n",
              "      border-right-color: var(--fill-color);\n",
              "      border-bottom-color: var(--fill-color);\n",
              "    }\n",
              "    90% {\n",
              "      border-color: transparent;\n",
              "      border-bottom-color: var(--fill-color);\n",
              "    }\n",
              "  }\n",
              "</style>\n",
              "\n",
              "  <script>\n",
              "    async function quickchart(key) {\n",
              "      const quickchartButtonEl =\n",
              "        document.querySelector('#' + key + ' button');\n",
              "      quickchartButtonEl.disabled = true;  // To prevent multiple clicks.\n",
              "      quickchartButtonEl.classList.add('colab-df-spinner');\n",
              "      try {\n",
              "        const charts = await google.colab.kernel.invokeFunction(\n",
              "            'suggestCharts', [key], {});\n",
              "      } catch (error) {\n",
              "        console.error('Error during call to suggestCharts:', error);\n",
              "      }\n",
              "      quickchartButtonEl.classList.remove('colab-df-spinner');\n",
              "      quickchartButtonEl.classList.add('colab-df-quickchart-complete');\n",
              "    }\n",
              "    (() => {\n",
              "      let quickchartButtonEl =\n",
              "        document.querySelector('#df-423bb988-2b5f-447e-a04a-6a7d60e3d70d button');\n",
              "      quickchartButtonEl.style.display =\n",
              "        google.colab.kernel.accessAllowed ? 'block' : 'none';\n",
              "    })();\n",
              "  </script>\n",
              "</div>\n",
              "\n",
              "    </div>\n",
              "  </div>\n"
            ],
            "application/vnd.google.colaboratory.intrinsic+json": {
              "type": "dataframe",
              "variable_name": "data",
              "summary": "{\n  \"name\": \"data\",\n  \"rows\": 259,\n  \"fields\": [\n    {\n      \"column\": \"Fecha\",\n      \"properties\": {\n        \"dtype\": \"date\",\n        \"min\": \"2003-01-01 00:00:00\",\n        \"max\": \"2024-07-01 00:00:00\",\n        \"num_unique_values\": 259,\n        \"samples\": [\n          \"2008-07-01 00:00:00\",\n          \"2006-10-01 00:00:00\",\n          \"2003-10-01 00:00:00\"\n        ],\n        \"semantic_type\": \"\",\n        \"description\": \"\"\n      }\n    },\n    {\n      \"column\": \"Y\",\n      \"properties\": {\n        \"dtype\": \"number\",\n        \"std\": 1180.761331512114,\n        \"min\": 979.7597,\n        \"max\": 6206.8793,\n        \"num_unique_values\": 259,\n        \"samples\": [\n          2278.9294,\n          2316.5244,\n          1391.0112\n        ],\n        \"semantic_type\": \"\",\n        \"description\": \"\"\n      }\n    }\n  ]\n}"
            }
          },
          "metadata": {},
          "execution_count": 78
        }
      ]
    },
    {
      "cell_type": "code",
      "source": [
        "data = data.join(usdmxn)"
      ],
      "metadata": {
        "id": "W2dqmjWRsnfz"
      },
      "execution_count": 79,
      "outputs": []
    },
    {
      "cell_type": "code",
      "source": [
        "data.head(24)"
      ],
      "metadata": {
        "colab": {
          "base_uri": "https://localhost:8080/",
          "height": 829
        },
        "id": "sXbVOqA_sqR9",
        "outputId": "13e2fe19-a31e-43bb-f31a-af7317bda6f0"
      },
      "execution_count": 80,
      "outputs": [
        {
          "output_type": "execute_result",
          "data": {
            "text/plain": [
              "                    Y   Close\n",
              "Fecha                        \n",
              "2003-01-01  1051.2547     NaN\n",
              "2003-02-01   979.7597     NaN\n",
              "2003-03-01  1139.1124     NaN\n",
              "2003-04-01  1202.5097     NaN\n",
              "2003-05-01  1350.9669     NaN\n",
              "2003-06-01  1351.1707     NaN\n",
              "2003-07-01  1361.3620     NaN\n",
              "2003-08-01  1401.2462     NaN\n",
              "2003-09-01  1365.5085     NaN\n",
              "2003-10-01  1391.0112     NaN\n",
              "2003-11-01  1203.7084     NaN\n",
              "2003-12-01  1341.0761  11.191\n",
              "2004-01-01  1081.8635  11.048\n",
              "2004-02-01  1171.7737  11.055\n",
              "2004-03-01  1480.2240  11.105\n",
              "2004-04-01  1513.5151  11.352\n",
              "2004-05-01  1770.3978  11.427\n",
              "2004-06-01  1684.7248  11.467\n",
              "2004-07-01  1654.3760  11.468\n",
              "2004-08-01  1786.8078  11.365\n",
              "2004-09-01  1586.8407  11.353\n",
              "2004-10-01  1529.9477  11.540\n",
              "2004-11-01  1506.1644  11.202\n",
              "2004-12-01  1565.1123  11.106"
            ],
            "text/html": [
              "\n",
              "  <div id=\"df-09f6cac3-856c-4af4-aa96-25c61e4a2e20\" class=\"colab-df-container\">\n",
              "    <div>\n",
              "<style scoped>\n",
              "    .dataframe tbody tr th:only-of-type {\n",
              "        vertical-align: middle;\n",
              "    }\n",
              "\n",
              "    .dataframe tbody tr th {\n",
              "        vertical-align: top;\n",
              "    }\n",
              "\n",
              "    .dataframe thead th {\n",
              "        text-align: right;\n",
              "    }\n",
              "</style>\n",
              "<table border=\"1\" class=\"dataframe\">\n",
              "  <thead>\n",
              "    <tr style=\"text-align: right;\">\n",
              "      <th></th>\n",
              "      <th>Y</th>\n",
              "      <th>Close</th>\n",
              "    </tr>\n",
              "    <tr>\n",
              "      <th>Fecha</th>\n",
              "      <th></th>\n",
              "      <th></th>\n",
              "    </tr>\n",
              "  </thead>\n",
              "  <tbody>\n",
              "    <tr>\n",
              "      <th>2003-01-01</th>\n",
              "      <td>1051.2547</td>\n",
              "      <td>NaN</td>\n",
              "    </tr>\n",
              "    <tr>\n",
              "      <th>2003-02-01</th>\n",
              "      <td>979.7597</td>\n",
              "      <td>NaN</td>\n",
              "    </tr>\n",
              "    <tr>\n",
              "      <th>2003-03-01</th>\n",
              "      <td>1139.1124</td>\n",
              "      <td>NaN</td>\n",
              "    </tr>\n",
              "    <tr>\n",
              "      <th>2003-04-01</th>\n",
              "      <td>1202.5097</td>\n",
              "      <td>NaN</td>\n",
              "    </tr>\n",
              "    <tr>\n",
              "      <th>2003-05-01</th>\n",
              "      <td>1350.9669</td>\n",
              "      <td>NaN</td>\n",
              "    </tr>\n",
              "    <tr>\n",
              "      <th>2003-06-01</th>\n",
              "      <td>1351.1707</td>\n",
              "      <td>NaN</td>\n",
              "    </tr>\n",
              "    <tr>\n",
              "      <th>2003-07-01</th>\n",
              "      <td>1361.3620</td>\n",
              "      <td>NaN</td>\n",
              "    </tr>\n",
              "    <tr>\n",
              "      <th>2003-08-01</th>\n",
              "      <td>1401.2462</td>\n",
              "      <td>NaN</td>\n",
              "    </tr>\n",
              "    <tr>\n",
              "      <th>2003-09-01</th>\n",
              "      <td>1365.5085</td>\n",
              "      <td>NaN</td>\n",
              "    </tr>\n",
              "    <tr>\n",
              "      <th>2003-10-01</th>\n",
              "      <td>1391.0112</td>\n",
              "      <td>NaN</td>\n",
              "    </tr>\n",
              "    <tr>\n",
              "      <th>2003-11-01</th>\n",
              "      <td>1203.7084</td>\n",
              "      <td>NaN</td>\n",
              "    </tr>\n",
              "    <tr>\n",
              "      <th>2003-12-01</th>\n",
              "      <td>1341.0761</td>\n",
              "      <td>11.191</td>\n",
              "    </tr>\n",
              "    <tr>\n",
              "      <th>2004-01-01</th>\n",
              "      <td>1081.8635</td>\n",
              "      <td>11.048</td>\n",
              "    </tr>\n",
              "    <tr>\n",
              "      <th>2004-02-01</th>\n",
              "      <td>1171.7737</td>\n",
              "      <td>11.055</td>\n",
              "    </tr>\n",
              "    <tr>\n",
              "      <th>2004-03-01</th>\n",
              "      <td>1480.2240</td>\n",
              "      <td>11.105</td>\n",
              "    </tr>\n",
              "    <tr>\n",
              "      <th>2004-04-01</th>\n",
              "      <td>1513.5151</td>\n",
              "      <td>11.352</td>\n",
              "    </tr>\n",
              "    <tr>\n",
              "      <th>2004-05-01</th>\n",
              "      <td>1770.3978</td>\n",
              "      <td>11.427</td>\n",
              "    </tr>\n",
              "    <tr>\n",
              "      <th>2004-06-01</th>\n",
              "      <td>1684.7248</td>\n",
              "      <td>11.467</td>\n",
              "    </tr>\n",
              "    <tr>\n",
              "      <th>2004-07-01</th>\n",
              "      <td>1654.3760</td>\n",
              "      <td>11.468</td>\n",
              "    </tr>\n",
              "    <tr>\n",
              "      <th>2004-08-01</th>\n",
              "      <td>1786.8078</td>\n",
              "      <td>11.365</td>\n",
              "    </tr>\n",
              "    <tr>\n",
              "      <th>2004-09-01</th>\n",
              "      <td>1586.8407</td>\n",
              "      <td>11.353</td>\n",
              "    </tr>\n",
              "    <tr>\n",
              "      <th>2004-10-01</th>\n",
              "      <td>1529.9477</td>\n",
              "      <td>11.540</td>\n",
              "    </tr>\n",
              "    <tr>\n",
              "      <th>2004-11-01</th>\n",
              "      <td>1506.1644</td>\n",
              "      <td>11.202</td>\n",
              "    </tr>\n",
              "    <tr>\n",
              "      <th>2004-12-01</th>\n",
              "      <td>1565.1123</td>\n",
              "      <td>11.106</td>\n",
              "    </tr>\n",
              "  </tbody>\n",
              "</table>\n",
              "</div>\n",
              "    <div class=\"colab-df-buttons\">\n",
              "\n",
              "  <div class=\"colab-df-container\">\n",
              "    <button class=\"colab-df-convert\" onclick=\"convertToInteractive('df-09f6cac3-856c-4af4-aa96-25c61e4a2e20')\"\n",
              "            title=\"Convert this dataframe to an interactive table.\"\n",
              "            style=\"display:none;\">\n",
              "\n",
              "  <svg xmlns=\"http://www.w3.org/2000/svg\" height=\"24px\" viewBox=\"0 -960 960 960\">\n",
              "    <path d=\"M120-120v-720h720v720H120Zm60-500h600v-160H180v160Zm220 220h160v-160H400v160Zm0 220h160v-160H400v160ZM180-400h160v-160H180v160Zm440 0h160v-160H620v160ZM180-180h160v-160H180v160Zm440 0h160v-160H620v160Z\"/>\n",
              "  </svg>\n",
              "    </button>\n",
              "\n",
              "  <style>\n",
              "    .colab-df-container {\n",
              "      display:flex;\n",
              "      gap: 12px;\n",
              "    }\n",
              "\n",
              "    .colab-df-convert {\n",
              "      background-color: #E8F0FE;\n",
              "      border: none;\n",
              "      border-radius: 50%;\n",
              "      cursor: pointer;\n",
              "      display: none;\n",
              "      fill: #1967D2;\n",
              "      height: 32px;\n",
              "      padding: 0 0 0 0;\n",
              "      width: 32px;\n",
              "    }\n",
              "\n",
              "    .colab-df-convert:hover {\n",
              "      background-color: #E2EBFA;\n",
              "      box-shadow: 0px 1px 2px rgba(60, 64, 67, 0.3), 0px 1px 3px 1px rgba(60, 64, 67, 0.15);\n",
              "      fill: #174EA6;\n",
              "    }\n",
              "\n",
              "    .colab-df-buttons div {\n",
              "      margin-bottom: 4px;\n",
              "    }\n",
              "\n",
              "    [theme=dark] .colab-df-convert {\n",
              "      background-color: #3B4455;\n",
              "      fill: #D2E3FC;\n",
              "    }\n",
              "\n",
              "    [theme=dark] .colab-df-convert:hover {\n",
              "      background-color: #434B5C;\n",
              "      box-shadow: 0px 1px 3px 1px rgba(0, 0, 0, 0.15);\n",
              "      filter: drop-shadow(0px 1px 2px rgba(0, 0, 0, 0.3));\n",
              "      fill: #FFFFFF;\n",
              "    }\n",
              "  </style>\n",
              "\n",
              "    <script>\n",
              "      const buttonEl =\n",
              "        document.querySelector('#df-09f6cac3-856c-4af4-aa96-25c61e4a2e20 button.colab-df-convert');\n",
              "      buttonEl.style.display =\n",
              "        google.colab.kernel.accessAllowed ? 'block' : 'none';\n",
              "\n",
              "      async function convertToInteractive(key) {\n",
              "        const element = document.querySelector('#df-09f6cac3-856c-4af4-aa96-25c61e4a2e20');\n",
              "        const dataTable =\n",
              "          await google.colab.kernel.invokeFunction('convertToInteractive',\n",
              "                                                    [key], {});\n",
              "        if (!dataTable) return;\n",
              "\n",
              "        const docLinkHtml = 'Like what you see? Visit the ' +\n",
              "          '<a target=\"_blank\" href=https://colab.research.google.com/notebooks/data_table.ipynb>data table notebook</a>'\n",
              "          + ' to learn more about interactive tables.';\n",
              "        element.innerHTML = '';\n",
              "        dataTable['output_type'] = 'display_data';\n",
              "        await google.colab.output.renderOutput(dataTable, element);\n",
              "        const docLink = document.createElement('div');\n",
              "        docLink.innerHTML = docLinkHtml;\n",
              "        element.appendChild(docLink);\n",
              "      }\n",
              "    </script>\n",
              "  </div>\n",
              "\n",
              "\n",
              "<div id=\"df-55a2f4dd-9157-4852-b6ef-dd1c93bd5e5d\">\n",
              "  <button class=\"colab-df-quickchart\" onclick=\"quickchart('df-55a2f4dd-9157-4852-b6ef-dd1c93bd5e5d')\"\n",
              "            title=\"Suggest charts\"\n",
              "            style=\"display:none;\">\n",
              "\n",
              "<svg xmlns=\"http://www.w3.org/2000/svg\" height=\"24px\"viewBox=\"0 0 24 24\"\n",
              "     width=\"24px\">\n",
              "    <g>\n",
              "        <path d=\"M19 3H5c-1.1 0-2 .9-2 2v14c0 1.1.9 2 2 2h14c1.1 0 2-.9 2-2V5c0-1.1-.9-2-2-2zM9 17H7v-7h2v7zm4 0h-2V7h2v10zm4 0h-2v-4h2v4z\"/>\n",
              "    </g>\n",
              "</svg>\n",
              "  </button>\n",
              "\n",
              "<style>\n",
              "  .colab-df-quickchart {\n",
              "      --bg-color: #E8F0FE;\n",
              "      --fill-color: #1967D2;\n",
              "      --hover-bg-color: #E2EBFA;\n",
              "      --hover-fill-color: #174EA6;\n",
              "      --disabled-fill-color: #AAA;\n",
              "      --disabled-bg-color: #DDD;\n",
              "  }\n",
              "\n",
              "  [theme=dark] .colab-df-quickchart {\n",
              "      --bg-color: #3B4455;\n",
              "      --fill-color: #D2E3FC;\n",
              "      --hover-bg-color: #434B5C;\n",
              "      --hover-fill-color: #FFFFFF;\n",
              "      --disabled-bg-color: #3B4455;\n",
              "      --disabled-fill-color: #666;\n",
              "  }\n",
              "\n",
              "  .colab-df-quickchart {\n",
              "    background-color: var(--bg-color);\n",
              "    border: none;\n",
              "    border-radius: 50%;\n",
              "    cursor: pointer;\n",
              "    display: none;\n",
              "    fill: var(--fill-color);\n",
              "    height: 32px;\n",
              "    padding: 0;\n",
              "    width: 32px;\n",
              "  }\n",
              "\n",
              "  .colab-df-quickchart:hover {\n",
              "    background-color: var(--hover-bg-color);\n",
              "    box-shadow: 0 1px 2px rgba(60, 64, 67, 0.3), 0 1px 3px 1px rgba(60, 64, 67, 0.15);\n",
              "    fill: var(--button-hover-fill-color);\n",
              "  }\n",
              "\n",
              "  .colab-df-quickchart-complete:disabled,\n",
              "  .colab-df-quickchart-complete:disabled:hover {\n",
              "    background-color: var(--disabled-bg-color);\n",
              "    fill: var(--disabled-fill-color);\n",
              "    box-shadow: none;\n",
              "  }\n",
              "\n",
              "  .colab-df-spinner {\n",
              "    border: 2px solid var(--fill-color);\n",
              "    border-color: transparent;\n",
              "    border-bottom-color: var(--fill-color);\n",
              "    animation:\n",
              "      spin 1s steps(1) infinite;\n",
              "  }\n",
              "\n",
              "  @keyframes spin {\n",
              "    0% {\n",
              "      border-color: transparent;\n",
              "      border-bottom-color: var(--fill-color);\n",
              "      border-left-color: var(--fill-color);\n",
              "    }\n",
              "    20% {\n",
              "      border-color: transparent;\n",
              "      border-left-color: var(--fill-color);\n",
              "      border-top-color: var(--fill-color);\n",
              "    }\n",
              "    30% {\n",
              "      border-color: transparent;\n",
              "      border-left-color: var(--fill-color);\n",
              "      border-top-color: var(--fill-color);\n",
              "      border-right-color: var(--fill-color);\n",
              "    }\n",
              "    40% {\n",
              "      border-color: transparent;\n",
              "      border-right-color: var(--fill-color);\n",
              "      border-top-color: var(--fill-color);\n",
              "    }\n",
              "    60% {\n",
              "      border-color: transparent;\n",
              "      border-right-color: var(--fill-color);\n",
              "    }\n",
              "    80% {\n",
              "      border-color: transparent;\n",
              "      border-right-color: var(--fill-color);\n",
              "      border-bottom-color: var(--fill-color);\n",
              "    }\n",
              "    90% {\n",
              "      border-color: transparent;\n",
              "      border-bottom-color: var(--fill-color);\n",
              "    }\n",
              "  }\n",
              "</style>\n",
              "\n",
              "  <script>\n",
              "    async function quickchart(key) {\n",
              "      const quickchartButtonEl =\n",
              "        document.querySelector('#' + key + ' button');\n",
              "      quickchartButtonEl.disabled = true;  // To prevent multiple clicks.\n",
              "      quickchartButtonEl.classList.add('colab-df-spinner');\n",
              "      try {\n",
              "        const charts = await google.colab.kernel.invokeFunction(\n",
              "            'suggestCharts', [key], {});\n",
              "      } catch (error) {\n",
              "        console.error('Error during call to suggestCharts:', error);\n",
              "      }\n",
              "      quickchartButtonEl.classList.remove('colab-df-spinner');\n",
              "      quickchartButtonEl.classList.add('colab-df-quickchart-complete');\n",
              "    }\n",
              "    (() => {\n",
              "      let quickchartButtonEl =\n",
              "        document.querySelector('#df-55a2f4dd-9157-4852-b6ef-dd1c93bd5e5d button');\n",
              "      quickchartButtonEl.style.display =\n",
              "        google.colab.kernel.accessAllowed ? 'block' : 'none';\n",
              "    })();\n",
              "  </script>\n",
              "</div>\n",
              "\n",
              "    </div>\n",
              "  </div>\n"
            ],
            "application/vnd.google.colaboratory.intrinsic+json": {
              "type": "dataframe",
              "variable_name": "data",
              "summary": "{\n  \"name\": \"data\",\n  \"rows\": 259,\n  \"fields\": [\n    {\n      \"column\": \"Fecha\",\n      \"properties\": {\n        \"dtype\": \"date\",\n        \"min\": \"2003-01-01 00:00:00\",\n        \"max\": \"2024-07-01 00:00:00\",\n        \"num_unique_values\": 259,\n        \"samples\": [\n          \"2008-07-01 00:00:00\",\n          \"2006-10-01 00:00:00\",\n          \"2003-10-01 00:00:00\"\n        ],\n        \"semantic_type\": \"\",\n        \"description\": \"\"\n      }\n    },\n    {\n      \"column\": \"Y\",\n      \"properties\": {\n        \"dtype\": \"number\",\n        \"std\": 1180.761331512114,\n        \"min\": 979.7597,\n        \"max\": 6206.8793,\n        \"num_unique_values\": 259,\n        \"samples\": [\n          2278.9294,\n          2316.5244,\n          1391.0112\n        ],\n        \"semantic_type\": \"\",\n        \"description\": \"\"\n      }\n    },\n    {\n      \"column\": \"Close\",\n      \"properties\": {\n        \"dtype\": \"number\",\n        \"std\": 3.733123703778163,\n        \"min\": 10.030099868774414,\n        \"max\": 23.83300018310547,\n        \"num_unique_values\": 248,\n        \"samples\": [\n          10.932000160217285,\n          11.467000007629395,\n          19.16448974609375\n        ],\n        \"semantic_type\": \"\",\n        \"description\": \"\"\n      }\n    }\n  ]\n}"
            }
          },
          "metadata": {},
          "execution_count": 80
        }
      ]
    },
    {
      "cell_type": "code",
      "source": [
        "data['mes'] = data.index.month_name()\n",
        "data.head()"
      ],
      "metadata": {
        "colab": {
          "base_uri": "https://localhost:8080/",
          "height": 236
        },
        "id": "Av7mjEMAsrJ6",
        "outputId": "5de0c2ba-abad-40ca-9490-cdac2f886fdf"
      },
      "execution_count": 81,
      "outputs": [
        {
          "output_type": "execute_result",
          "data": {
            "text/plain": [
              "                    Y  Close       mes\n",
              "Fecha                                 \n",
              "2003-01-01  1051.2547    NaN   January\n",
              "2003-02-01   979.7597    NaN  February\n",
              "2003-03-01  1139.1124    NaN     March\n",
              "2003-04-01  1202.5097    NaN     April\n",
              "2003-05-01  1350.9669    NaN       May"
            ],
            "text/html": [
              "\n",
              "  <div id=\"df-00c7e6a3-a54a-4132-97f6-6fc1b129cb87\" class=\"colab-df-container\">\n",
              "    <div>\n",
              "<style scoped>\n",
              "    .dataframe tbody tr th:only-of-type {\n",
              "        vertical-align: middle;\n",
              "    }\n",
              "\n",
              "    .dataframe tbody tr th {\n",
              "        vertical-align: top;\n",
              "    }\n",
              "\n",
              "    .dataframe thead th {\n",
              "        text-align: right;\n",
              "    }\n",
              "</style>\n",
              "<table border=\"1\" class=\"dataframe\">\n",
              "  <thead>\n",
              "    <tr style=\"text-align: right;\">\n",
              "      <th></th>\n",
              "      <th>Y</th>\n",
              "      <th>Close</th>\n",
              "      <th>mes</th>\n",
              "    </tr>\n",
              "    <tr>\n",
              "      <th>Fecha</th>\n",
              "      <th></th>\n",
              "      <th></th>\n",
              "      <th></th>\n",
              "    </tr>\n",
              "  </thead>\n",
              "  <tbody>\n",
              "    <tr>\n",
              "      <th>2003-01-01</th>\n",
              "      <td>1051.2547</td>\n",
              "      <td>NaN</td>\n",
              "      <td>January</td>\n",
              "    </tr>\n",
              "    <tr>\n",
              "      <th>2003-02-01</th>\n",
              "      <td>979.7597</td>\n",
              "      <td>NaN</td>\n",
              "      <td>February</td>\n",
              "    </tr>\n",
              "    <tr>\n",
              "      <th>2003-03-01</th>\n",
              "      <td>1139.1124</td>\n",
              "      <td>NaN</td>\n",
              "      <td>March</td>\n",
              "    </tr>\n",
              "    <tr>\n",
              "      <th>2003-04-01</th>\n",
              "      <td>1202.5097</td>\n",
              "      <td>NaN</td>\n",
              "      <td>April</td>\n",
              "    </tr>\n",
              "    <tr>\n",
              "      <th>2003-05-01</th>\n",
              "      <td>1350.9669</td>\n",
              "      <td>NaN</td>\n",
              "      <td>May</td>\n",
              "    </tr>\n",
              "  </tbody>\n",
              "</table>\n",
              "</div>\n",
              "    <div class=\"colab-df-buttons\">\n",
              "\n",
              "  <div class=\"colab-df-container\">\n",
              "    <button class=\"colab-df-convert\" onclick=\"convertToInteractive('df-00c7e6a3-a54a-4132-97f6-6fc1b129cb87')\"\n",
              "            title=\"Convert this dataframe to an interactive table.\"\n",
              "            style=\"display:none;\">\n",
              "\n",
              "  <svg xmlns=\"http://www.w3.org/2000/svg\" height=\"24px\" viewBox=\"0 -960 960 960\">\n",
              "    <path d=\"M120-120v-720h720v720H120Zm60-500h600v-160H180v160Zm220 220h160v-160H400v160Zm0 220h160v-160H400v160ZM180-400h160v-160H180v160Zm440 0h160v-160H620v160ZM180-180h160v-160H180v160Zm440 0h160v-160H620v160Z\"/>\n",
              "  </svg>\n",
              "    </button>\n",
              "\n",
              "  <style>\n",
              "    .colab-df-container {\n",
              "      display:flex;\n",
              "      gap: 12px;\n",
              "    }\n",
              "\n",
              "    .colab-df-convert {\n",
              "      background-color: #E8F0FE;\n",
              "      border: none;\n",
              "      border-radius: 50%;\n",
              "      cursor: pointer;\n",
              "      display: none;\n",
              "      fill: #1967D2;\n",
              "      height: 32px;\n",
              "      padding: 0 0 0 0;\n",
              "      width: 32px;\n",
              "    }\n",
              "\n",
              "    .colab-df-convert:hover {\n",
              "      background-color: #E2EBFA;\n",
              "      box-shadow: 0px 1px 2px rgba(60, 64, 67, 0.3), 0px 1px 3px 1px rgba(60, 64, 67, 0.15);\n",
              "      fill: #174EA6;\n",
              "    }\n",
              "\n",
              "    .colab-df-buttons div {\n",
              "      margin-bottom: 4px;\n",
              "    }\n",
              "\n",
              "    [theme=dark] .colab-df-convert {\n",
              "      background-color: #3B4455;\n",
              "      fill: #D2E3FC;\n",
              "    }\n",
              "\n",
              "    [theme=dark] .colab-df-convert:hover {\n",
              "      background-color: #434B5C;\n",
              "      box-shadow: 0px 1px 3px 1px rgba(0, 0, 0, 0.15);\n",
              "      filter: drop-shadow(0px 1px 2px rgba(0, 0, 0, 0.3));\n",
              "      fill: #FFFFFF;\n",
              "    }\n",
              "  </style>\n",
              "\n",
              "    <script>\n",
              "      const buttonEl =\n",
              "        document.querySelector('#df-00c7e6a3-a54a-4132-97f6-6fc1b129cb87 button.colab-df-convert');\n",
              "      buttonEl.style.display =\n",
              "        google.colab.kernel.accessAllowed ? 'block' : 'none';\n",
              "\n",
              "      async function convertToInteractive(key) {\n",
              "        const element = document.querySelector('#df-00c7e6a3-a54a-4132-97f6-6fc1b129cb87');\n",
              "        const dataTable =\n",
              "          await google.colab.kernel.invokeFunction('convertToInteractive',\n",
              "                                                    [key], {});\n",
              "        if (!dataTable) return;\n",
              "\n",
              "        const docLinkHtml = 'Like what you see? Visit the ' +\n",
              "          '<a target=\"_blank\" href=https://colab.research.google.com/notebooks/data_table.ipynb>data table notebook</a>'\n",
              "          + ' to learn more about interactive tables.';\n",
              "        element.innerHTML = '';\n",
              "        dataTable['output_type'] = 'display_data';\n",
              "        await google.colab.output.renderOutput(dataTable, element);\n",
              "        const docLink = document.createElement('div');\n",
              "        docLink.innerHTML = docLinkHtml;\n",
              "        element.appendChild(docLink);\n",
              "      }\n",
              "    </script>\n",
              "  </div>\n",
              "\n",
              "\n",
              "<div id=\"df-ad5a4be1-a34a-40fd-a2ca-9834df4f2da6\">\n",
              "  <button class=\"colab-df-quickchart\" onclick=\"quickchart('df-ad5a4be1-a34a-40fd-a2ca-9834df4f2da6')\"\n",
              "            title=\"Suggest charts\"\n",
              "            style=\"display:none;\">\n",
              "\n",
              "<svg xmlns=\"http://www.w3.org/2000/svg\" height=\"24px\"viewBox=\"0 0 24 24\"\n",
              "     width=\"24px\">\n",
              "    <g>\n",
              "        <path d=\"M19 3H5c-1.1 0-2 .9-2 2v14c0 1.1.9 2 2 2h14c1.1 0 2-.9 2-2V5c0-1.1-.9-2-2-2zM9 17H7v-7h2v7zm4 0h-2V7h2v10zm4 0h-2v-4h2v4z\"/>\n",
              "    </g>\n",
              "</svg>\n",
              "  </button>\n",
              "\n",
              "<style>\n",
              "  .colab-df-quickchart {\n",
              "      --bg-color: #E8F0FE;\n",
              "      --fill-color: #1967D2;\n",
              "      --hover-bg-color: #E2EBFA;\n",
              "      --hover-fill-color: #174EA6;\n",
              "      --disabled-fill-color: #AAA;\n",
              "      --disabled-bg-color: #DDD;\n",
              "  }\n",
              "\n",
              "  [theme=dark] .colab-df-quickchart {\n",
              "      --bg-color: #3B4455;\n",
              "      --fill-color: #D2E3FC;\n",
              "      --hover-bg-color: #434B5C;\n",
              "      --hover-fill-color: #FFFFFF;\n",
              "      --disabled-bg-color: #3B4455;\n",
              "      --disabled-fill-color: #666;\n",
              "  }\n",
              "\n",
              "  .colab-df-quickchart {\n",
              "    background-color: var(--bg-color);\n",
              "    border: none;\n",
              "    border-radius: 50%;\n",
              "    cursor: pointer;\n",
              "    display: none;\n",
              "    fill: var(--fill-color);\n",
              "    height: 32px;\n",
              "    padding: 0;\n",
              "    width: 32px;\n",
              "  }\n",
              "\n",
              "  .colab-df-quickchart:hover {\n",
              "    background-color: var(--hover-bg-color);\n",
              "    box-shadow: 0 1px 2px rgba(60, 64, 67, 0.3), 0 1px 3px 1px rgba(60, 64, 67, 0.15);\n",
              "    fill: var(--button-hover-fill-color);\n",
              "  }\n",
              "\n",
              "  .colab-df-quickchart-complete:disabled,\n",
              "  .colab-df-quickchart-complete:disabled:hover {\n",
              "    background-color: var(--disabled-bg-color);\n",
              "    fill: var(--disabled-fill-color);\n",
              "    box-shadow: none;\n",
              "  }\n",
              "\n",
              "  .colab-df-spinner {\n",
              "    border: 2px solid var(--fill-color);\n",
              "    border-color: transparent;\n",
              "    border-bottom-color: var(--fill-color);\n",
              "    animation:\n",
              "      spin 1s steps(1) infinite;\n",
              "  }\n",
              "\n",
              "  @keyframes spin {\n",
              "    0% {\n",
              "      border-color: transparent;\n",
              "      border-bottom-color: var(--fill-color);\n",
              "      border-left-color: var(--fill-color);\n",
              "    }\n",
              "    20% {\n",
              "      border-color: transparent;\n",
              "      border-left-color: var(--fill-color);\n",
              "      border-top-color: var(--fill-color);\n",
              "    }\n",
              "    30% {\n",
              "      border-color: transparent;\n",
              "      border-left-color: var(--fill-color);\n",
              "      border-top-color: var(--fill-color);\n",
              "      border-right-color: var(--fill-color);\n",
              "    }\n",
              "    40% {\n",
              "      border-color: transparent;\n",
              "      border-right-color: var(--fill-color);\n",
              "      border-top-color: var(--fill-color);\n",
              "    }\n",
              "    60% {\n",
              "      border-color: transparent;\n",
              "      border-right-color: var(--fill-color);\n",
              "    }\n",
              "    80% {\n",
              "      border-color: transparent;\n",
              "      border-right-color: var(--fill-color);\n",
              "      border-bottom-color: var(--fill-color);\n",
              "    }\n",
              "    90% {\n",
              "      border-color: transparent;\n",
              "      border-bottom-color: var(--fill-color);\n",
              "    }\n",
              "  }\n",
              "</style>\n",
              "\n",
              "  <script>\n",
              "    async function quickchart(key) {\n",
              "      const quickchartButtonEl =\n",
              "        document.querySelector('#' + key + ' button');\n",
              "      quickchartButtonEl.disabled = true;  // To prevent multiple clicks.\n",
              "      quickchartButtonEl.classList.add('colab-df-spinner');\n",
              "      try {\n",
              "        const charts = await google.colab.kernel.invokeFunction(\n",
              "            'suggestCharts', [key], {});\n",
              "      } catch (error) {\n",
              "        console.error('Error during call to suggestCharts:', error);\n",
              "      }\n",
              "      quickchartButtonEl.classList.remove('colab-df-spinner');\n",
              "      quickchartButtonEl.classList.add('colab-df-quickchart-complete');\n",
              "    }\n",
              "    (() => {\n",
              "      let quickchartButtonEl =\n",
              "        document.querySelector('#df-ad5a4be1-a34a-40fd-a2ca-9834df4f2da6 button');\n",
              "      quickchartButtonEl.style.display =\n",
              "        google.colab.kernel.accessAllowed ? 'block' : 'none';\n",
              "    })();\n",
              "  </script>\n",
              "</div>\n",
              "\n",
              "    </div>\n",
              "  </div>\n"
            ],
            "application/vnd.google.colaboratory.intrinsic+json": {
              "type": "dataframe",
              "variable_name": "data",
              "summary": "{\n  \"name\": \"data\",\n  \"rows\": 259,\n  \"fields\": [\n    {\n      \"column\": \"Fecha\",\n      \"properties\": {\n        \"dtype\": \"date\",\n        \"min\": \"2003-01-01 00:00:00\",\n        \"max\": \"2024-07-01 00:00:00\",\n        \"num_unique_values\": 259,\n        \"samples\": [\n          \"2008-07-01 00:00:00\",\n          \"2006-10-01 00:00:00\",\n          \"2003-10-01 00:00:00\"\n        ],\n        \"semantic_type\": \"\",\n        \"description\": \"\"\n      }\n    },\n    {\n      \"column\": \"Y\",\n      \"properties\": {\n        \"dtype\": \"number\",\n        \"std\": 1180.761331512114,\n        \"min\": 979.7597,\n        \"max\": 6206.8793,\n        \"num_unique_values\": 259,\n        \"samples\": [\n          2278.9294,\n          2316.5244,\n          1391.0112\n        ],\n        \"semantic_type\": \"\",\n        \"description\": \"\"\n      }\n    },\n    {\n      \"column\": \"Close\",\n      \"properties\": {\n        \"dtype\": \"number\",\n        \"std\": 3.733123703778163,\n        \"min\": 10.030099868774414,\n        \"max\": 23.83300018310547,\n        \"num_unique_values\": 248,\n        \"samples\": [\n          10.932000160217285,\n          11.467000007629395,\n          19.16448974609375\n        ],\n        \"semantic_type\": \"\",\n        \"description\": \"\"\n      }\n    },\n    {\n      \"column\": \"mes\",\n      \"properties\": {\n        \"dtype\": \"category\",\n        \"num_unique_values\": 12,\n        \"samples\": [\n          \"November\",\n          \"October\",\n          \"January\"\n        ],\n        \"semantic_type\": \"\",\n        \"description\": \"\"\n      }\n    }\n  ]\n}"
            }
          },
          "metadata": {},
          "execution_count": 81
        }
      ]
    },
    {
      "cell_type": "code",
      "source": [
        "data = pd.get_dummies(data, columns=['mes'],\n",
        "                      prefix=\"\", prefix_sep=\"\",\n",
        "                      drop_first=True, dtype=float)"
      ],
      "metadata": {
        "id": "0Toykds6sziQ"
      },
      "execution_count": 82,
      "outputs": []
    },
    {
      "cell_type": "code",
      "source": [
        "fecha_2008 = pd.Series(data = [1],\n",
        "                       index=pd.to_datetime([\"2008-11-01\"]),\n",
        "                       name='2008_outlier')\n",
        "fecha_2020 = pd.Series(data = [1],\n",
        "                       index=pd.to_datetime([\"2020-03-01\"]),\n",
        "                       name='2020_outlier')"
      ],
      "metadata": {
        "id": "QrXKDIwqs343"
      },
      "execution_count": 84,
      "outputs": []
    },
    {
      "cell_type": "code",
      "source": [
        "data = data.join(fecha_2008).fillna(0)"
      ],
      "metadata": {
        "id": "cDJ6N8BTs7-Y"
      },
      "execution_count": 85,
      "outputs": []
    },
    {
      "cell_type": "code",
      "source": [
        "data = data.join(fecha_2020).fillna(0)"
      ],
      "metadata": {
        "id": "kKaVAWles_Uh"
      },
      "execution_count": 86,
      "outputs": []
    },
    {
      "cell_type": "code",
      "source": [
        "data['lag1'] = data['Y'].shift(1)\n",
        "data['lag2'] = data['Y'].shift(2)\n",
        "data['lag3'] = data['Y'].shift(3)\n",
        "data['lag4'] = data['Y'].shift(4)\n",
        "data['lag5'] = data['Y'].shift(5)\n",
        "data['lag6'] = data['Y'].shift(6)\n",
        "data['lag7'] = data['Y'].shift(7)\n",
        "data['lag8'] = data['Y'].shift(8)\n",
        "data['lag9'] = data['Y'].shift(9)\n",
        "data['lag10'] = data['Y'].shift(10)\n",
        "data['lag11'] = data['Y'].shift(11)\n",
        "data['lag12'] = data['Y'].shift(12)"
      ],
      "metadata": {
        "id": "ywTUbtEEtBoH"
      },
      "execution_count": 87,
      "outputs": []
    },
    {
      "cell_type": "code",
      "source": [
        "data.columns"
      ],
      "metadata": {
        "colab": {
          "base_uri": "https://localhost:8080/"
        },
        "id": "Etbakb-QtEjx",
        "outputId": "673b41fd-13aa-42e0-ac76-de23def46e3a"
      },
      "execution_count": 88,
      "outputs": [
        {
          "output_type": "execute_result",
          "data": {
            "text/plain": [
              "Index(['Y', 'Close', 'August', 'December', 'February', 'January', 'July',\n",
              "       'June', 'March', 'May', 'November', 'October', 'September',\n",
              "       '2008_outlier', '2020_outlier', 'lag1', 'lag2', 'lag3', 'lag4', 'lag5',\n",
              "       'lag6', 'lag7', 'lag8', 'lag9', 'lag10', 'lag11', 'lag12'],\n",
              "      dtype='object')"
            ]
          },
          "metadata": {},
          "execution_count": 88
        }
      ]
    },
    {
      "cell_type": "code",
      "source": [
        "training_mask = data.index > '2023-01-01'"
      ],
      "metadata": {
        "id": "HaZ0LhUDtUfh"
      },
      "execution_count": 90,
      "outputs": []
    },
    {
      "cell_type": "code",
      "source": [
        "test = data[training_mask]\n",
        "train = data[~training_mask]\n",
        "horizon = len(test)"
      ],
      "metadata": {
        "id": "WzzBNP6FtFu6"
      },
      "execution_count": 92,
      "outputs": []
    },
    {
      "cell_type": "code",
      "source": [
        "horizon"
      ],
      "metadata": {
        "colab": {
          "base_uri": "https://localhost:8080/"
        },
        "id": "spoPfbhftSCM",
        "outputId": "df6d5687-3242-442d-8109-e3b91bfbd33a"
      },
      "execution_count": 95,
      "outputs": [
        {
          "output_type": "execute_result",
          "data": {
            "text/plain": [
              "18"
            ]
          },
          "metadata": {},
          "execution_count": 95
        }
      ]
    },
    {
      "cell_type": "code",
      "source": [
        "train = train[\"2004\":]"
      ],
      "metadata": {
        "id": "NOEGeskguN41"
      },
      "execution_count": 99,
      "outputs": []
    },
    {
      "cell_type": "code",
      "source": [
        "from sklearn.linear_model import LinearRegression"
      ],
      "metadata": {
        "id": "NPgOyfG4tfYr"
      },
      "execution_count": 131,
      "outputs": []
    },
    {
      "cell_type": "code",
      "source": [
        "y_train_rl = LinearRegression().fit(train.drop(columns=['Y']),\n",
        "                                train['Y']).predict(train.drop(\n",
        "                                            columns=['Y']))"
      ],
      "metadata": {
        "id": "VoPxu1bMt9wK"
      },
      "execution_count": 132,
      "outputs": []
    },
    {
      "cell_type": "code",
      "source": [
        "y_test_rl = LinearRegression().fit(train.drop(columns=['Y']),\n",
        "                                train['Y']).predict(test.drop(\n",
        "                                            columns=['Y']))"
      ],
      "metadata": {
        "id": "Jmf96pvhuhiA"
      },
      "execution_count": 133,
      "outputs": []
    },
    {
      "cell_type": "code",
      "source": [
        "residuals_test = test['Y'].values - y_test_rl\n",
        "residuals_train = train['Y'].values - y_train_rl\n",
        "rmse_train = np.sqrt(np.mean(residuals_train**2))\n",
        "rmse_test = np.sqrt(np.mean(residuals_test**2))"
      ],
      "metadata": {
        "id": "zUY9gXruupM7"
      },
      "execution_count": 134,
      "outputs": []
    },
    {
      "cell_type": "code",
      "source": [
        "rmse_test, rmse_train"
      ],
      "metadata": {
        "colab": {
          "base_uri": "https://localhost:8080/"
        },
        "id": "wvUkievvu942",
        "outputId": "debfe298-79b9-4869-a199-91d384fbecb1"
      },
      "execution_count": 135,
      "outputs": [
        {
          "output_type": "execute_result",
          "data": {
            "text/plain": [
              "(327.0425519324707, 141.91248283713122)"
            ]
          },
          "metadata": {},
          "execution_count": 135
        }
      ]
    },
    {
      "cell_type": "code",
      "source": [
        "len(train.columns) + 1"
      ],
      "metadata": {
        "colab": {
          "base_uri": "https://localhost:8080/"
        },
        "id": "HpMp3Hm8vTLa",
        "outputId": "16a1c620-25cc-4d94-9bf1-8c780aa2e5a1"
      },
      "execution_count": 136,
      "outputs": [
        {
          "output_type": "execute_result",
          "data": {
            "text/plain": [
              "28"
            ]
          },
          "metadata": {},
          "execution_count": 136
        }
      ]
    },
    {
      "cell_type": "code",
      "source": [
        "tabla_modelos = pd.concat([tabla_modelos,\n",
        "           pd.DataFrame(columns=['Modelo', 'RMSE Train', 'RMSE Test', 'Parametros'],\n",
        "                        data = [['RL', rmse_train, rmse_test, 28]])])"
      ],
      "metadata": {
        "id": "qxB8VxSJvCOw"
      },
      "execution_count": 137,
      "outputs": []
    },
    {
      "cell_type": "markdown",
      "source": [
        "## Lasso"
      ],
      "metadata": {
        "id": "rXcF39w2wJVe"
      }
    },
    {
      "cell_type": "code",
      "source": [
        "from sklearn.linear_model import LassoCV"
      ],
      "metadata": {
        "id": "kPfyvvGavOZr"
      },
      "execution_count": 138,
      "outputs": []
    },
    {
      "cell_type": "code",
      "source": [
        "lasso_cv = LassoCV(cv=5, random_state=0).fit(train.drop(columns=['Y']), train['Y'])\n",
        "lasso_cv.score(train.drop(columns=['Y']), train['Y'])"
      ],
      "metadata": {
        "colab": {
          "base_uri": "https://localhost:8080/"
        },
        "id": "8uJMN1UNwdDw",
        "outputId": "94ddfdf4-f304-4926-aaaa-cde7683199c3"
      },
      "execution_count": 139,
      "outputs": [
        {
          "output_type": "execute_result",
          "data": {
            "text/plain": [
              "0.9551003390321611"
            ]
          },
          "metadata": {},
          "execution_count": 139
        }
      ]
    },
    {
      "cell_type": "code",
      "source": [
        "lasso_y_train = lasso_cv.predict(train.drop(columns=['Y']))"
      ],
      "metadata": {
        "id": "4fIpBDX8wdyS"
      },
      "execution_count": 140,
      "outputs": []
    },
    {
      "cell_type": "code",
      "source": [
        "lasso_y_test = lasso_cv.predict(test.drop(columns=['Y']))"
      ],
      "metadata": {
        "id": "MG08AjjTwzfa"
      },
      "execution_count": 141,
      "outputs": []
    },
    {
      "cell_type": "code",
      "source": [
        "len(lasso_y_test), len(lasso_y_train)"
      ],
      "metadata": {
        "colab": {
          "base_uri": "https://localhost:8080/"
        },
        "id": "4aPGGPNqw6Zy",
        "outputId": "3afdbf2d-8af6-4a38-9384-41cc5b37654c"
      },
      "execution_count": 142,
      "outputs": [
        {
          "output_type": "execute_result",
          "data": {
            "text/plain": [
              "(18, 229)"
            ]
          },
          "metadata": {},
          "execution_count": 142
        }
      ]
    },
    {
      "cell_type": "code",
      "source": [
        "residuals_test = test['Y'].values - lasso_y_test\n",
        "residuals_train = train['Y'].values - lasso_y_train\n",
        "rmse_train = np.sqrt(np.mean(residuals_train**2))\n",
        "rmse_test = np.sqrt(np.mean(residuals_test**2))"
      ],
      "metadata": {
        "id": "TV0tV7sdxCpr"
      },
      "execution_count": 143,
      "outputs": []
    },
    {
      "cell_type": "code",
      "source": [
        "tabla_modelos = pd.concat([tabla_modelos,\n",
        "           pd.DataFrame(columns=['Modelo', 'RMSE Train', 'RMSE Test', 'Parametros'],\n",
        "                        data = [['Lasso', rmse_train, rmse_test, 11]])])"
      ],
      "metadata": {
        "id": "1p49_wTyxNUS"
      },
      "execution_count": 147,
      "outputs": []
    },
    {
      "cell_type": "code",
      "source": [
        "tabla_modelos"
      ],
      "metadata": {
        "colab": {
          "base_uri": "https://localhost:8080/",
          "height": 205
        },
        "id": "gednirRkxe4C",
        "outputId": "357b9429-ea22-4856-eb87-708c4d0ebf30"
      },
      "execution_count": 148,
      "outputs": [
        {
          "output_type": "execute_result",
          "data": {
            "text/plain": [
              "           Modelo  RMSE Train   RMSE Test  Parametros\n",
              "0  Seasonal Naive  316.560422  467.073000           0\n",
              "0             STL  141.912483  327.042552           0\n",
              "0              RL  141.912483  327.042552          28\n",
              "0           Lasso  196.836024  379.268275          28\n",
              "0           Lasso  196.836024  379.268275          11"
            ],
            "text/html": [
              "\n",
              "  <div id=\"df-2c98c3a0-e67a-4300-b0c9-966208ed1a7f\" class=\"colab-df-container\">\n",
              "    <div>\n",
              "<style scoped>\n",
              "    .dataframe tbody tr th:only-of-type {\n",
              "        vertical-align: middle;\n",
              "    }\n",
              "\n",
              "    .dataframe tbody tr th {\n",
              "        vertical-align: top;\n",
              "    }\n",
              "\n",
              "    .dataframe thead th {\n",
              "        text-align: right;\n",
              "    }\n",
              "</style>\n",
              "<table border=\"1\" class=\"dataframe\">\n",
              "  <thead>\n",
              "    <tr style=\"text-align: right;\">\n",
              "      <th></th>\n",
              "      <th>Modelo</th>\n",
              "      <th>RMSE Train</th>\n",
              "      <th>RMSE Test</th>\n",
              "      <th>Parametros</th>\n",
              "    </tr>\n",
              "  </thead>\n",
              "  <tbody>\n",
              "    <tr>\n",
              "      <th>0</th>\n",
              "      <td>Seasonal Naive</td>\n",
              "      <td>316.560422</td>\n",
              "      <td>467.073000</td>\n",
              "      <td>0</td>\n",
              "    </tr>\n",
              "    <tr>\n",
              "      <th>0</th>\n",
              "      <td>STL</td>\n",
              "      <td>141.912483</td>\n",
              "      <td>327.042552</td>\n",
              "      <td>0</td>\n",
              "    </tr>\n",
              "    <tr>\n",
              "      <th>0</th>\n",
              "      <td>RL</td>\n",
              "      <td>141.912483</td>\n",
              "      <td>327.042552</td>\n",
              "      <td>28</td>\n",
              "    </tr>\n",
              "    <tr>\n",
              "      <th>0</th>\n",
              "      <td>Lasso</td>\n",
              "      <td>196.836024</td>\n",
              "      <td>379.268275</td>\n",
              "      <td>28</td>\n",
              "    </tr>\n",
              "    <tr>\n",
              "      <th>0</th>\n",
              "      <td>Lasso</td>\n",
              "      <td>196.836024</td>\n",
              "      <td>379.268275</td>\n",
              "      <td>11</td>\n",
              "    </tr>\n",
              "  </tbody>\n",
              "</table>\n",
              "</div>\n",
              "    <div class=\"colab-df-buttons\">\n",
              "\n",
              "  <div class=\"colab-df-container\">\n",
              "    <button class=\"colab-df-convert\" onclick=\"convertToInteractive('df-2c98c3a0-e67a-4300-b0c9-966208ed1a7f')\"\n",
              "            title=\"Convert this dataframe to an interactive table.\"\n",
              "            style=\"display:none;\">\n",
              "\n",
              "  <svg xmlns=\"http://www.w3.org/2000/svg\" height=\"24px\" viewBox=\"0 -960 960 960\">\n",
              "    <path d=\"M120-120v-720h720v720H120Zm60-500h600v-160H180v160Zm220 220h160v-160H400v160Zm0 220h160v-160H400v160ZM180-400h160v-160H180v160Zm440 0h160v-160H620v160ZM180-180h160v-160H180v160Zm440 0h160v-160H620v160Z\"/>\n",
              "  </svg>\n",
              "    </button>\n",
              "\n",
              "  <style>\n",
              "    .colab-df-container {\n",
              "      display:flex;\n",
              "      gap: 12px;\n",
              "    }\n",
              "\n",
              "    .colab-df-convert {\n",
              "      background-color: #E8F0FE;\n",
              "      border: none;\n",
              "      border-radius: 50%;\n",
              "      cursor: pointer;\n",
              "      display: none;\n",
              "      fill: #1967D2;\n",
              "      height: 32px;\n",
              "      padding: 0 0 0 0;\n",
              "      width: 32px;\n",
              "    }\n",
              "\n",
              "    .colab-df-convert:hover {\n",
              "      background-color: #E2EBFA;\n",
              "      box-shadow: 0px 1px 2px rgba(60, 64, 67, 0.3), 0px 1px 3px 1px rgba(60, 64, 67, 0.15);\n",
              "      fill: #174EA6;\n",
              "    }\n",
              "\n",
              "    .colab-df-buttons div {\n",
              "      margin-bottom: 4px;\n",
              "    }\n",
              "\n",
              "    [theme=dark] .colab-df-convert {\n",
              "      background-color: #3B4455;\n",
              "      fill: #D2E3FC;\n",
              "    }\n",
              "\n",
              "    [theme=dark] .colab-df-convert:hover {\n",
              "      background-color: #434B5C;\n",
              "      box-shadow: 0px 1px 3px 1px rgba(0, 0, 0, 0.15);\n",
              "      filter: drop-shadow(0px 1px 2px rgba(0, 0, 0, 0.3));\n",
              "      fill: #FFFFFF;\n",
              "    }\n",
              "  </style>\n",
              "\n",
              "    <script>\n",
              "      const buttonEl =\n",
              "        document.querySelector('#df-2c98c3a0-e67a-4300-b0c9-966208ed1a7f button.colab-df-convert');\n",
              "      buttonEl.style.display =\n",
              "        google.colab.kernel.accessAllowed ? 'block' : 'none';\n",
              "\n",
              "      async function convertToInteractive(key) {\n",
              "        const element = document.querySelector('#df-2c98c3a0-e67a-4300-b0c9-966208ed1a7f');\n",
              "        const dataTable =\n",
              "          await google.colab.kernel.invokeFunction('convertToInteractive',\n",
              "                                                    [key], {});\n",
              "        if (!dataTable) return;\n",
              "\n",
              "        const docLinkHtml = 'Like what you see? Visit the ' +\n",
              "          '<a target=\"_blank\" href=https://colab.research.google.com/notebooks/data_table.ipynb>data table notebook</a>'\n",
              "          + ' to learn more about interactive tables.';\n",
              "        element.innerHTML = '';\n",
              "        dataTable['output_type'] = 'display_data';\n",
              "        await google.colab.output.renderOutput(dataTable, element);\n",
              "        const docLink = document.createElement('div');\n",
              "        docLink.innerHTML = docLinkHtml;\n",
              "        element.appendChild(docLink);\n",
              "      }\n",
              "    </script>\n",
              "  </div>\n",
              "\n",
              "\n",
              "<div id=\"df-1afc60a8-411b-45a4-b357-92fade1ab1ff\">\n",
              "  <button class=\"colab-df-quickchart\" onclick=\"quickchart('df-1afc60a8-411b-45a4-b357-92fade1ab1ff')\"\n",
              "            title=\"Suggest charts\"\n",
              "            style=\"display:none;\">\n",
              "\n",
              "<svg xmlns=\"http://www.w3.org/2000/svg\" height=\"24px\"viewBox=\"0 0 24 24\"\n",
              "     width=\"24px\">\n",
              "    <g>\n",
              "        <path d=\"M19 3H5c-1.1 0-2 .9-2 2v14c0 1.1.9 2 2 2h14c1.1 0 2-.9 2-2V5c0-1.1-.9-2-2-2zM9 17H7v-7h2v7zm4 0h-2V7h2v10zm4 0h-2v-4h2v4z\"/>\n",
              "    </g>\n",
              "</svg>\n",
              "  </button>\n",
              "\n",
              "<style>\n",
              "  .colab-df-quickchart {\n",
              "      --bg-color: #E8F0FE;\n",
              "      --fill-color: #1967D2;\n",
              "      --hover-bg-color: #E2EBFA;\n",
              "      --hover-fill-color: #174EA6;\n",
              "      --disabled-fill-color: #AAA;\n",
              "      --disabled-bg-color: #DDD;\n",
              "  }\n",
              "\n",
              "  [theme=dark] .colab-df-quickchart {\n",
              "      --bg-color: #3B4455;\n",
              "      --fill-color: #D2E3FC;\n",
              "      --hover-bg-color: #434B5C;\n",
              "      --hover-fill-color: #FFFFFF;\n",
              "      --disabled-bg-color: #3B4455;\n",
              "      --disabled-fill-color: #666;\n",
              "  }\n",
              "\n",
              "  .colab-df-quickchart {\n",
              "    background-color: var(--bg-color);\n",
              "    border: none;\n",
              "    border-radius: 50%;\n",
              "    cursor: pointer;\n",
              "    display: none;\n",
              "    fill: var(--fill-color);\n",
              "    height: 32px;\n",
              "    padding: 0;\n",
              "    width: 32px;\n",
              "  }\n",
              "\n",
              "  .colab-df-quickchart:hover {\n",
              "    background-color: var(--hover-bg-color);\n",
              "    box-shadow: 0 1px 2px rgba(60, 64, 67, 0.3), 0 1px 3px 1px rgba(60, 64, 67, 0.15);\n",
              "    fill: var(--button-hover-fill-color);\n",
              "  }\n",
              "\n",
              "  .colab-df-quickchart-complete:disabled,\n",
              "  .colab-df-quickchart-complete:disabled:hover {\n",
              "    background-color: var(--disabled-bg-color);\n",
              "    fill: var(--disabled-fill-color);\n",
              "    box-shadow: none;\n",
              "  }\n",
              "\n",
              "  .colab-df-spinner {\n",
              "    border: 2px solid var(--fill-color);\n",
              "    border-color: transparent;\n",
              "    border-bottom-color: var(--fill-color);\n",
              "    animation:\n",
              "      spin 1s steps(1) infinite;\n",
              "  }\n",
              "\n",
              "  @keyframes spin {\n",
              "    0% {\n",
              "      border-color: transparent;\n",
              "      border-bottom-color: var(--fill-color);\n",
              "      border-left-color: var(--fill-color);\n",
              "    }\n",
              "    20% {\n",
              "      border-color: transparent;\n",
              "      border-left-color: var(--fill-color);\n",
              "      border-top-color: var(--fill-color);\n",
              "    }\n",
              "    30% {\n",
              "      border-color: transparent;\n",
              "      border-left-color: var(--fill-color);\n",
              "      border-top-color: var(--fill-color);\n",
              "      border-right-color: var(--fill-color);\n",
              "    }\n",
              "    40% {\n",
              "      border-color: transparent;\n",
              "      border-right-color: var(--fill-color);\n",
              "      border-top-color: var(--fill-color);\n",
              "    }\n",
              "    60% {\n",
              "      border-color: transparent;\n",
              "      border-right-color: var(--fill-color);\n",
              "    }\n",
              "    80% {\n",
              "      border-color: transparent;\n",
              "      border-right-color: var(--fill-color);\n",
              "      border-bottom-color: var(--fill-color);\n",
              "    }\n",
              "    90% {\n",
              "      border-color: transparent;\n",
              "      border-bottom-color: var(--fill-color);\n",
              "    }\n",
              "  }\n",
              "</style>\n",
              "\n",
              "  <script>\n",
              "    async function quickchart(key) {\n",
              "      const quickchartButtonEl =\n",
              "        document.querySelector('#' + key + ' button');\n",
              "      quickchartButtonEl.disabled = true;  // To prevent multiple clicks.\n",
              "      quickchartButtonEl.classList.add('colab-df-spinner');\n",
              "      try {\n",
              "        const charts = await google.colab.kernel.invokeFunction(\n",
              "            'suggestCharts', [key], {});\n",
              "      } catch (error) {\n",
              "        console.error('Error during call to suggestCharts:', error);\n",
              "      }\n",
              "      quickchartButtonEl.classList.remove('colab-df-spinner');\n",
              "      quickchartButtonEl.classList.add('colab-df-quickchart-complete');\n",
              "    }\n",
              "    (() => {\n",
              "      let quickchartButtonEl =\n",
              "        document.querySelector('#df-1afc60a8-411b-45a4-b357-92fade1ab1ff button');\n",
              "      quickchartButtonEl.style.display =\n",
              "        google.colab.kernel.accessAllowed ? 'block' : 'none';\n",
              "    })();\n",
              "  </script>\n",
              "</div>\n",
              "\n",
              "  <div id=\"id_099b6b3d-dde3-440b-9bad-28f93fba1f22\">\n",
              "    <style>\n",
              "      .colab-df-generate {\n",
              "        background-color: #E8F0FE;\n",
              "        border: none;\n",
              "        border-radius: 50%;\n",
              "        cursor: pointer;\n",
              "        display: none;\n",
              "        fill: #1967D2;\n",
              "        height: 32px;\n",
              "        padding: 0 0 0 0;\n",
              "        width: 32px;\n",
              "      }\n",
              "\n",
              "      .colab-df-generate:hover {\n",
              "        background-color: #E2EBFA;\n",
              "        box-shadow: 0px 1px 2px rgba(60, 64, 67, 0.3), 0px 1px 3px 1px rgba(60, 64, 67, 0.15);\n",
              "        fill: #174EA6;\n",
              "      }\n",
              "\n",
              "      [theme=dark] .colab-df-generate {\n",
              "        background-color: #3B4455;\n",
              "        fill: #D2E3FC;\n",
              "      }\n",
              "\n",
              "      [theme=dark] .colab-df-generate:hover {\n",
              "        background-color: #434B5C;\n",
              "        box-shadow: 0px 1px 3px 1px rgba(0, 0, 0, 0.15);\n",
              "        filter: drop-shadow(0px 1px 2px rgba(0, 0, 0, 0.3));\n",
              "        fill: #FFFFFF;\n",
              "      }\n",
              "    </style>\n",
              "    <button class=\"colab-df-generate\" onclick=\"generateWithVariable('tabla_modelos')\"\n",
              "            title=\"Generate code using this dataframe.\"\n",
              "            style=\"display:none;\">\n",
              "\n",
              "  <svg xmlns=\"http://www.w3.org/2000/svg\" height=\"24px\"viewBox=\"0 0 24 24\"\n",
              "       width=\"24px\">\n",
              "    <path d=\"M7,19H8.4L18.45,9,17,7.55,7,17.6ZM5,21V16.75L18.45,3.32a2,2,0,0,1,2.83,0l1.4,1.43a1.91,1.91,0,0,1,.58,1.4,1.91,1.91,0,0,1-.58,1.4L9.25,21ZM18.45,9,17,7.55Zm-12,3A5.31,5.31,0,0,0,4.9,8.1,5.31,5.31,0,0,0,1,6.5,5.31,5.31,0,0,0,4.9,4.9,5.31,5.31,0,0,0,6.5,1,5.31,5.31,0,0,0,8.1,4.9,5.31,5.31,0,0,0,12,6.5,5.46,5.46,0,0,0,6.5,12Z\"/>\n",
              "  </svg>\n",
              "    </button>\n",
              "    <script>\n",
              "      (() => {\n",
              "      const buttonEl =\n",
              "        document.querySelector('#id_099b6b3d-dde3-440b-9bad-28f93fba1f22 button.colab-df-generate');\n",
              "      buttonEl.style.display =\n",
              "        google.colab.kernel.accessAllowed ? 'block' : 'none';\n",
              "\n",
              "      buttonEl.onclick = () => {\n",
              "        google.colab.notebook.generateWithVariable('tabla_modelos');\n",
              "      }\n",
              "      })();\n",
              "    </script>\n",
              "  </div>\n",
              "\n",
              "    </div>\n",
              "  </div>\n"
            ],
            "application/vnd.google.colaboratory.intrinsic+json": {
              "type": "dataframe",
              "variable_name": "tabla_modelos",
              "summary": "{\n  \"name\": \"tabla_modelos\",\n  \"rows\": 5,\n  \"fields\": [\n    {\n      \"column\": \"Modelo\",\n      \"properties\": {\n        \"dtype\": \"string\",\n        \"num_unique_values\": 4,\n        \"samples\": [\n          \"STL\",\n          \"Lasso\",\n          \"Seasonal Naive\"\n        ],\n        \"semantic_type\": \"\",\n        \"description\": \"\"\n      }\n    },\n    {\n      \"column\": \"RMSE Train\",\n      \"properties\": {\n        \"dtype\": \"number\",\n        \"std\": 71.32252450589766,\n        \"min\": 141.91248283713122,\n        \"max\": 316.56042223234,\n        \"num_unique_values\": 3,\n        \"samples\": [\n          316.56042223234,\n          141.91248283713122,\n          196.83602379161388\n        ],\n        \"semantic_type\": \"\",\n        \"description\": \"\"\n      }\n    },\n    {\n      \"column\": \"RMSE Test\",\n      \"properties\": {\n        \"dtype\": \"number\",\n        \"std\": 57.24792444486279,\n        \"min\": 327.0425519324707,\n        \"max\": 467.0730002850337,\n        \"num_unique_values\": 3,\n        \"samples\": [\n          467.0730002850337,\n          327.0425519324707,\n          379.26827453127754\n        ],\n        \"semantic_type\": \"\",\n        \"description\": \"\"\n      }\n    },\n    {\n      \"column\": \"Parametros\",\n      \"properties\": {\n        \"dtype\": \"number\",\n        \"std\": 14,\n        \"min\": 0,\n        \"max\": 28,\n        \"num_unique_values\": 3,\n        \"samples\": [\n          0,\n          28,\n          11\n        ],\n        \"semantic_type\": \"\",\n        \"description\": \"\"\n      }\n    }\n  ]\n}"
            }
          },
          "metadata": {},
          "execution_count": 148
        }
      ]
    },
    {
      "cell_type": "code",
      "source": [
        "lasso_cv.coef_"
      ],
      "metadata": {
        "colab": {
          "base_uri": "https://localhost:8080/"
        },
        "id": "5nWElz44xfdf",
        "outputId": "b629bd2f-29ed-4565-e369-268ecc117538"
      },
      "execution_count": 146,
      "outputs": [
        {
          "output_type": "execute_result",
          "data": {
            "text/plain": [
              "array([ 0.        ,  0.        ,  0.        , -0.        , -0.        ,\n",
              "       -0.        ,  0.        ,  0.        ,  0.        , -0.        ,\n",
              "        0.        , -0.        , -0.        ,  0.        ,  0.39839846,\n",
              "        0.15337848,  0.02811645, -0.12088341,  0.14149545, -0.06848463,\n",
              "        0.09755119, -0.15713993,  0.14192894,  0.02762911,  0.        ,\n",
              "        0.46221524])"
            ]
          },
          "metadata": {},
          "execution_count": 146
        }
      ]
    },
    {
      "cell_type": "code",
      "source": [],
      "metadata": {
        "id": "fugabUCNxz9m"
      },
      "execution_count": null,
      "outputs": []
    }
  ]
}